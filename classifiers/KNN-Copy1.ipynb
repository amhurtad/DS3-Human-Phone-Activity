{
 "cells": [
  {
   "cell_type": "markdown",
   "metadata": {},
   "source": [
    "# KNN Classifier without PCA"
   ]
  },
  {
   "cell_type": "markdown",
   "metadata": {},
   "source": [
    "# KNN Classifier with PCA"
   ]
  },
  {
   "cell_type": "code",
   "execution_count": 1,
   "metadata": {},
   "outputs": [],
   "source": [
    "import pandas as pd\n",
    "import numpy as np\n",
    "import matplotlib.pyplot as plt\n",
    "import seaborn as sns\n",
    "from sklearn.neighbors import KNeighborsClassifier\n",
    "from sklearn.model_selection import GridSearchCV, StratifiedKFold\n",
    "from sklearn.metrics import accuracy_score, f1_score, precision_score"
   ]
  },
  {
   "cell_type": "code",
   "execution_count": 17,
   "metadata": {},
   "outputs": [],
   "source": [
    "#loading in the datasets\n",
    "df_training = pd.read_csv('../data/archive/train_pca.csv')\n",
    "df_testing = pd.read_csv('../data/archive/test_pca.csv')"
   ]
  },
  {
   "cell_type": "code",
   "execution_count": 18,
   "metadata": {},
   "outputs": [],
   "source": [
    "#Separating X and y training and testing\n",
    "x_train = df_training.iloc[:, :-1]\n",
    "y_train = df_training.iloc[:,-1]\n",
    "\n",
    "x_test = df_testing.iloc[:, :-1]\n",
    "y_test = df_testing.iloc[:,-1]"
   ]
  },
  {
   "cell_type": "code",
   "execution_count": 19,
   "metadata": {},
   "outputs": [],
   "source": [
    "#Initializing KNN Classifier\n",
    "\n",
    "knn = KNeighborsClassifier()"
   ]
  },
  {
   "cell_type": "code",
   "execution_count": 20,
   "metadata": {},
   "outputs": [],
   "source": [
    "#Making a grid of values we want our grid search to test to find the best parameters\n",
    "grid_values ={'n_neighbors': list(range(1,105,4))}\n",
    "\n",
    "knn_classifier = GridSearchCV(estimator = knn, param_grid = grid_values, cv = StratifiedKFold(n_splits = 5),\n",
    "                      scoring = ['accuracy', 'f1_micro', 'precision_micro'], refit = False, verbose = 0)\n",
    "\n",
    "knn_model = knn_classifier.fit(x_train, y_train)"
   ]
  },
  {
   "cell_type": "code",
   "execution_count": 21,
   "metadata": {},
   "outputs": [
    {
     "data": {
      "text/plain": [
       "{'mean_fit_time': array([0.00779915, 0.01036196, 0.00926781, 0.00988321, 0.00890841,\n",
       "        0.01171417, 0.0100287 , 0.01055102, 0.01079803, 0.00857372,\n",
       "        0.00815048, 0.00718832, 0.00864463, 0.00790672, 0.00907526,\n",
       "        0.01094232, 0.01010971, 0.00964613, 0.00942779, 0.00787311,\n",
       "        0.00944066, 0.00775318, 0.00999484, 0.00988102, 0.00665317,\n",
       "        0.00894017]),\n",
       " 'std_fit_time': array([0.00062934, 0.00278185, 0.001386  , 0.00189866, 0.0027887 ,\n",
       "        0.00326792, 0.00295654, 0.00169891, 0.00259249, 0.00210847,\n",
       "        0.00365426, 0.00311393, 0.00331996, 0.00254109, 0.00272382,\n",
       "        0.00334087, 0.00297206, 0.00155099, 0.00255295, 0.00151097,\n",
       "        0.0028815 , 0.00209041, 0.00045916, 0.0021205 , 0.00226205,\n",
       "        0.0024546 ]),\n",
       " 'mean_score_time': array([0.38760242, 0.46804323, 0.46323209, 0.46786628, 0.47907562,\n",
       "        0.51007748, 0.47697182, 0.47743573, 0.50410433, 0.48108668,\n",
       "        0.49105558, 0.48919058, 0.48858457, 0.48506465, 0.48962927,\n",
       "        0.49576144, 0.49834933, 0.49813757, 0.49068766, 0.50910673,\n",
       "        0.52057972, 0.51840081, 0.50987978, 0.51578979, 0.5035737 ,\n",
       "        0.50694404]),\n",
       " 'std_score_time': array([0.01452453, 0.01169448, 0.01336515, 0.01043824, 0.01479606,\n",
       "        0.02307413, 0.01681695, 0.00868025, 0.01997542, 0.00889546,\n",
       "        0.01193775, 0.01537443, 0.0098874 , 0.01027793, 0.02095553,\n",
       "        0.00923506, 0.02053057, 0.0263497 , 0.01749265, 0.03346709,\n",
       "        0.03424072, 0.0108452 , 0.01779123, 0.02733815, 0.01458592,\n",
       "        0.02713251]),\n",
       " 'param_n_neighbors': masked_array(data=[1, 5, 9, 13, 17, 21, 25, 29, 33, 37, 41, 45, 49, 53,\n",
       "                    57, 61, 65, 69, 73, 77, 81, 85, 89, 93, 97, 101],\n",
       "              mask=[False, False, False, False, False, False, False, False,\n",
       "                    False, False, False, False, False, False, False, False,\n",
       "                    False, False, False, False, False, False, False, False,\n",
       "                    False, False],\n",
       "        fill_value='?',\n",
       "             dtype=object),\n",
       " 'params': [{'n_neighbors': 1},\n",
       "  {'n_neighbors': 5},\n",
       "  {'n_neighbors': 9},\n",
       "  {'n_neighbors': 13},\n",
       "  {'n_neighbors': 17},\n",
       "  {'n_neighbors': 21},\n",
       "  {'n_neighbors': 25},\n",
       "  {'n_neighbors': 29},\n",
       "  {'n_neighbors': 33},\n",
       "  {'n_neighbors': 37},\n",
       "  {'n_neighbors': 41},\n",
       "  {'n_neighbors': 45},\n",
       "  {'n_neighbors': 49},\n",
       "  {'n_neighbors': 53},\n",
       "  {'n_neighbors': 57},\n",
       "  {'n_neighbors': 61},\n",
       "  {'n_neighbors': 65},\n",
       "  {'n_neighbors': 69},\n",
       "  {'n_neighbors': 73},\n",
       "  {'n_neighbors': 77},\n",
       "  {'n_neighbors': 81},\n",
       "  {'n_neighbors': 85},\n",
       "  {'n_neighbors': 89},\n",
       "  {'n_neighbors': 93},\n",
       "  {'n_neighbors': 97},\n",
       "  {'n_neighbors': 101}],\n",
       " 'split0_test_accuracy': array([0.84840245, 0.85452073, 0.86335826, 0.86743712, 0.87219579,\n",
       "        0.87219579, 0.8735554 , 0.86947655, 0.86471788, 0.87015636,\n",
       "        0.87287559, 0.87287559, 0.87491502, 0.8735554 , 0.87423521,\n",
       "        0.87219579, 0.87831407, 0.87763426, 0.87423521, 0.87423521,\n",
       "        0.87287559, 0.87423521, 0.87219579, 0.87151598, 0.87287559,\n",
       "        0.87423521]),\n",
       " 'split1_test_accuracy': array([0.83480625, 0.84908226, 0.85723997, 0.86199864, 0.86267845,\n",
       "        0.86811693, 0.87151598, 0.8660775 , 0.86539769, 0.86471788,\n",
       "        0.86403807, 0.86267845, 0.86335826, 0.86539769, 0.8660775 ,\n",
       "        0.86471788, 0.86471788, 0.86131883, 0.85859959, 0.85791978,\n",
       "        0.85588035, 0.85656016, 0.85452073, 0.85588035, 0.85452073,\n",
       "        0.85384092]),\n",
       " 'split2_test_accuracy': array([0.86054422, 0.88231293, 0.88231293, 0.88367347, 0.87755102,\n",
       "        0.87346939, 0.87482993, 0.87619048, 0.87687075, 0.87414966,\n",
       "        0.87346939, 0.87278912, 0.8707483 , 0.86598639, 0.86598639,\n",
       "        0.86462585, 0.86530612, 0.86666667, 0.86598639, 0.86666667,\n",
       "        0.86598639, 0.86598639, 0.86598639, 0.86666667, 0.86666667,\n",
       "        0.86462585]),\n",
       " 'split3_test_accuracy': array([0.86530612, 0.88979592, 0.89659864, 0.89795918, 0.90068027,\n",
       "        0.89863946, 0.90136054, 0.89795918, 0.89931973, 0.89863946,\n",
       "        0.89319728, 0.89183673, 0.89047619, 0.89387755, 0.88979592,\n",
       "        0.89251701, 0.88843537, 0.89115646, 0.89251701, 0.88843537,\n",
       "        0.88843537, 0.88435374, 0.88231293, 0.88095238, 0.88095238,\n",
       "        0.88027211]),\n",
       " 'split4_test_accuracy': array([0.8952381 , 0.91564626, 0.92108844, 0.92108844, 0.92108844,\n",
       "        0.92108844, 0.92312925, 0.92312925, 0.92312925, 0.91904762,\n",
       "        0.9170068 , 0.9170068 , 0.9170068 , 0.91768707, 0.9170068 ,\n",
       "        0.91360544, 0.9170068 , 0.91292517, 0.91360544, 0.91360544,\n",
       "        0.91632653, 0.91156463, 0.91564626, 0.91360544, 0.91360544,\n",
       "        0.91360544]),\n",
       " 'mean_test_accuracy': array([0.86085943, 0.87827162, 0.88411965, 0.88643137, 0.88683879,\n",
       "        0.886702  , 0.88887822, 0.88656659, 0.88588706, 0.88534219,\n",
       "        0.88411743, 0.88343734, 0.88330092, 0.88330082, 0.88262037,\n",
       "        0.88153239, 0.88275605, 0.88194028, 0.88098873, 0.8801725 ,\n",
       "        0.87990085, 0.87854003, 0.87813242, 0.87772416, 0.87772416,\n",
       "        0.87731591]),\n",
       " 'std_test_accuracy': array([0.02017776, 0.0243398 , 0.02314836, 0.02144457, 0.02120862,\n",
       "        0.02027741, 0.02031025, 0.02138296, 0.02243506, 0.02046518,\n",
       "        0.01901102, 0.01925266, 0.01904296, 0.02004777, 0.01925919,\n",
       "        0.01900039, 0.01926123, 0.0185584 , 0.01984291, 0.01948784,\n",
       "        0.0210695 , 0.01888737, 0.02080887, 0.01967663, 0.01991012,\n",
       "        0.02023498]),\n",
       " 'rank_test_accuracy': array([26, 21,  8,  5,  2,  3,  1,  4,  6,  7,  9, 10, 11, 12, 14, 16, 13,\n",
       "        15, 17, 18, 19, 20, 22, 23, 23, 25]),\n",
       " 'split0_test_f1_micro': array([0.84840245, 0.85452073, 0.86335826, 0.86743712, 0.87219579,\n",
       "        0.87219579, 0.8735554 , 0.86947655, 0.86471788, 0.87015636,\n",
       "        0.87287559, 0.87287559, 0.87491502, 0.8735554 , 0.87423521,\n",
       "        0.87219579, 0.87831407, 0.87763426, 0.87423521, 0.87423521,\n",
       "        0.87287559, 0.87423521, 0.87219579, 0.87151598, 0.87287559,\n",
       "        0.87423521]),\n",
       " 'split1_test_f1_micro': array([0.83480625, 0.84908226, 0.85723997, 0.86199864, 0.86267845,\n",
       "        0.86811693, 0.87151598, 0.8660775 , 0.86539769, 0.86471788,\n",
       "        0.86403807, 0.86267845, 0.86335826, 0.86539769, 0.8660775 ,\n",
       "        0.86471788, 0.86471788, 0.86131883, 0.85859959, 0.85791978,\n",
       "        0.85588035, 0.85656016, 0.85452073, 0.85588035, 0.85452073,\n",
       "        0.85384092]),\n",
       " 'split2_test_f1_micro': array([0.86054422, 0.88231293, 0.88231293, 0.88367347, 0.87755102,\n",
       "        0.87346939, 0.87482993, 0.87619048, 0.87687075, 0.87414966,\n",
       "        0.87346939, 0.87278912, 0.8707483 , 0.86598639, 0.86598639,\n",
       "        0.86462585, 0.86530612, 0.86666667, 0.86598639, 0.86666667,\n",
       "        0.86598639, 0.86598639, 0.86598639, 0.86666667, 0.86666667,\n",
       "        0.86462585]),\n",
       " 'split3_test_f1_micro': array([0.86530612, 0.88979592, 0.89659864, 0.89795918, 0.90068027,\n",
       "        0.89863946, 0.90136054, 0.89795918, 0.89931973, 0.89863946,\n",
       "        0.89319728, 0.89183673, 0.89047619, 0.89387755, 0.88979592,\n",
       "        0.89251701, 0.88843537, 0.89115646, 0.89251701, 0.88843537,\n",
       "        0.88843537, 0.88435374, 0.88231293, 0.88095238, 0.88095238,\n",
       "        0.88027211]),\n",
       " 'split4_test_f1_micro': array([0.8952381 , 0.91564626, 0.92108844, 0.92108844, 0.92108844,\n",
       "        0.92108844, 0.92312925, 0.92312925, 0.92312925, 0.91904762,\n",
       "        0.9170068 , 0.9170068 , 0.9170068 , 0.91768707, 0.9170068 ,\n",
       "        0.91360544, 0.9170068 , 0.91292517, 0.91360544, 0.91360544,\n",
       "        0.91632653, 0.91156463, 0.91564626, 0.91360544, 0.91360544,\n",
       "        0.91360544]),\n",
       " 'mean_test_f1_micro': array([0.86085943, 0.87827162, 0.88411965, 0.88643137, 0.88683879,\n",
       "        0.886702  , 0.88887822, 0.88656659, 0.88588706, 0.88534219,\n",
       "        0.88411743, 0.88343734, 0.88330092, 0.88330082, 0.88262037,\n",
       "        0.88153239, 0.88275605, 0.88194028, 0.88098873, 0.8801725 ,\n",
       "        0.87990085, 0.87854003, 0.87813242, 0.87772416, 0.87772416,\n",
       "        0.87731591]),\n",
       " 'std_test_f1_micro': array([0.02017776, 0.0243398 , 0.02314836, 0.02144457, 0.02120862,\n",
       "        0.02027741, 0.02031025, 0.02138296, 0.02243506, 0.02046518,\n",
       "        0.01901102, 0.01925266, 0.01904296, 0.02004777, 0.01925919,\n",
       "        0.01900039, 0.01926123, 0.0185584 , 0.01984291, 0.01948784,\n",
       "        0.0210695 , 0.01888737, 0.02080887, 0.01967663, 0.01991012,\n",
       "        0.02023498]),\n",
       " 'rank_test_f1_micro': array([26, 21,  8,  5,  2,  3,  1,  4,  6,  7,  9, 10, 11, 12, 14, 16, 13,\n",
       "        15, 17, 18, 19, 20, 22, 23, 23, 25]),\n",
       " 'split0_test_precision_micro': array([0.84840245, 0.85452073, 0.86335826, 0.86743712, 0.87219579,\n",
       "        0.87219579, 0.8735554 , 0.86947655, 0.86471788, 0.87015636,\n",
       "        0.87287559, 0.87287559, 0.87491502, 0.8735554 , 0.87423521,\n",
       "        0.87219579, 0.87831407, 0.87763426, 0.87423521, 0.87423521,\n",
       "        0.87287559, 0.87423521, 0.87219579, 0.87151598, 0.87287559,\n",
       "        0.87423521]),\n",
       " 'split1_test_precision_micro': array([0.83480625, 0.84908226, 0.85723997, 0.86199864, 0.86267845,\n",
       "        0.86811693, 0.87151598, 0.8660775 , 0.86539769, 0.86471788,\n",
       "        0.86403807, 0.86267845, 0.86335826, 0.86539769, 0.8660775 ,\n",
       "        0.86471788, 0.86471788, 0.86131883, 0.85859959, 0.85791978,\n",
       "        0.85588035, 0.85656016, 0.85452073, 0.85588035, 0.85452073,\n",
       "        0.85384092]),\n",
       " 'split2_test_precision_micro': array([0.86054422, 0.88231293, 0.88231293, 0.88367347, 0.87755102,\n",
       "        0.87346939, 0.87482993, 0.87619048, 0.87687075, 0.87414966,\n",
       "        0.87346939, 0.87278912, 0.8707483 , 0.86598639, 0.86598639,\n",
       "        0.86462585, 0.86530612, 0.86666667, 0.86598639, 0.86666667,\n",
       "        0.86598639, 0.86598639, 0.86598639, 0.86666667, 0.86666667,\n",
       "        0.86462585]),\n",
       " 'split3_test_precision_micro': array([0.86530612, 0.88979592, 0.89659864, 0.89795918, 0.90068027,\n",
       "        0.89863946, 0.90136054, 0.89795918, 0.89931973, 0.89863946,\n",
       "        0.89319728, 0.89183673, 0.89047619, 0.89387755, 0.88979592,\n",
       "        0.89251701, 0.88843537, 0.89115646, 0.89251701, 0.88843537,\n",
       "        0.88843537, 0.88435374, 0.88231293, 0.88095238, 0.88095238,\n",
       "        0.88027211]),\n",
       " 'split4_test_precision_micro': array([0.8952381 , 0.91564626, 0.92108844, 0.92108844, 0.92108844,\n",
       "        0.92108844, 0.92312925, 0.92312925, 0.92312925, 0.91904762,\n",
       "        0.9170068 , 0.9170068 , 0.9170068 , 0.91768707, 0.9170068 ,\n",
       "        0.91360544, 0.9170068 , 0.91292517, 0.91360544, 0.91360544,\n",
       "        0.91632653, 0.91156463, 0.91564626, 0.91360544, 0.91360544,\n",
       "        0.91360544]),\n",
       " 'mean_test_precision_micro': array([0.86085943, 0.87827162, 0.88411965, 0.88643137, 0.88683879,\n",
       "        0.886702  , 0.88887822, 0.88656659, 0.88588706, 0.88534219,\n",
       "        0.88411743, 0.88343734, 0.88330092, 0.88330082, 0.88262037,\n",
       "        0.88153239, 0.88275605, 0.88194028, 0.88098873, 0.8801725 ,\n",
       "        0.87990085, 0.87854003, 0.87813242, 0.87772416, 0.87772416,\n",
       "        0.87731591]),\n",
       " 'std_test_precision_micro': array([0.02017776, 0.0243398 , 0.02314836, 0.02144457, 0.02120862,\n",
       "        0.02027741, 0.02031025, 0.02138296, 0.02243506, 0.02046518,\n",
       "        0.01901102, 0.01925266, 0.01904296, 0.02004777, 0.01925919,\n",
       "        0.01900039, 0.01926123, 0.0185584 , 0.01984291, 0.01948784,\n",
       "        0.0210695 , 0.01888737, 0.02080887, 0.01967663, 0.01991012,\n",
       "        0.02023498]),\n",
       " 'rank_test_precision_micro': array([26, 21,  8,  5,  2,  3,  1,  4,  6,  7,  9, 10, 11, 12, 14, 16, 13,\n",
       "        15, 17, 18, 19, 20, 22, 23, 23, 25])}"
      ]
     },
     "execution_count": 21,
     "metadata": {},
     "output_type": "execute_result"
    }
   ],
   "source": [
    "knn_model.cv_results_"
   ]
  },
  {
   "cell_type": "code",
   "execution_count": 9,
   "metadata": {},
   "outputs": [],
   "source": [
    "#initializing our lists so we can later store the best params that achieve best scores across metrics\n",
    "accuracy_best_params = []\n",
    "f1_best_params = []\n",
    "precision_best_params = []\n",
    "\n",
    "accuracy_best_params.append(knn_model.cv_results_['params'][ np.argmin(knn_model.cv_results_['rank_test_accuracy'])])\n",
    "f1_best_params.append(knn_model.cv_results_['params'][ np.argmin(knn_model.cv_results_['rank_test_f1_micro'])])\n",
    "precision_best_params.append(knn_model.cv_results_['params'][ np.argmin(knn_model.cv_results_['rank_test_precision_micro'])])"
   ]
  },
  {
   "cell_type": "code",
   "execution_count": 10,
   "metadata": {},
   "outputs": [
    {
     "data": {
      "text/plain": [
       "[{'n_neighbors': 1},\n",
       " {'n_neighbors': 1},\n",
       " {'n_neighbors': 1},\n",
       " {'n_neighbors': 1},\n",
       " {'n_neighbors': 1}]"
      ]
     },
     "execution_count": 10,
     "metadata": {},
     "output_type": "execute_result"
    }
   ],
   "source": [
    "accuracy_best_params"
   ]
  },
  {
   "cell_type": "code",
   "execution_count": 11,
   "metadata": {},
   "outputs": [
    {
     "data": {
      "text/plain": [
       "[{'n_neighbors': 1},\n",
       " {'n_neighbors': 1},\n",
       " {'n_neighbors': 1},\n",
       " {'n_neighbors': 1},\n",
       " {'n_neighbors': 1}]"
      ]
     },
     "execution_count": 11,
     "metadata": {},
     "output_type": "execute_result"
    }
   ],
   "source": [
    "f1_best_params"
   ]
  },
  {
   "cell_type": "code",
   "execution_count": 12,
   "metadata": {},
   "outputs": [
    {
     "data": {
      "text/plain": [
       "[{'n_neighbors': 1},\n",
       " {'n_neighbors': 1},\n",
       " {'n_neighbors': 1},\n",
       " {'n_neighbors': 1},\n",
       " {'n_neighbors': 1}]"
      ]
     },
     "execution_count": 12,
     "metadata": {},
     "output_type": "execute_result"
    }
   ],
   "source": [
    "precision_best_params"
   ]
  },
  {
   "cell_type": "code",
   "execution_count": 39,
   "metadata": {},
   "outputs": [],
   "source": [
    "accuracy_test_score = []\n",
    "\n",
    "knn_clf = KNeighborsClassifier(n_neighbors = accuracy_best_params[0].get('n_neighbors'))\n",
    "model = knn_clf.fit(x_train_full, y_train_full)\n",
    "\n",
    "y_pred = model.predict(x_test)\n",
    "\n",
    "accuracy_test_score.append(accuracy_score(y_test, y_pred))"
   ]
  },
  {
   "cell_type": "code",
   "execution_count": 40,
   "metadata": {},
   "outputs": [
    {
     "data": {
      "text/plain": [
       "[0.8853070919579233]"
      ]
     },
     "execution_count": 40,
     "metadata": {},
     "output_type": "execute_result"
    }
   ],
   "source": [
    "accuracy_test_score"
   ]
  },
  {
   "cell_type": "code",
   "execution_count": 21,
   "metadata": {},
   "outputs": [],
   "source": [
    "f1_test_score = []\n",
    "\n",
    "knn_clf = KNeighborsClassifier(n_neighbors = f1_best_params[0].get('n_neighbors'))\n",
    "model = knn_clf.fit(x_train, y_train)\n",
    "\n",
    "y_pred = model.predict(x_test)\n",
    "\n",
    "f1_test_score.append(f1_score(y_test, y_pred, average = 'micro'))"
   ]
  },
  {
   "cell_type": "code",
   "execution_count": 22,
   "metadata": {},
   "outputs": [
    {
     "data": {
      "text/plain": [
       "[0.856124872751951]"
      ]
     },
     "execution_count": 22,
     "metadata": {},
     "output_type": "execute_result"
    }
   ],
   "source": [
    "f1_test_score"
   ]
  },
  {
   "cell_type": "code",
   "execution_count": 24,
   "metadata": {},
   "outputs": [],
   "source": [
    "precision_test_score = []\n",
    "\n",
    "knn_clf = KNeighborsClassifier(n_neighbors = precision_best_params[0].get('n_neighbors'))\n",
    "model = knn_clf.fit(x_train, y_train)\n",
    "\n",
    "y_pred = model.predict(x_test)\n",
    "\n",
    "precision_test_score.append(precision_score(y_test, y_pred, average = 'micro'))"
   ]
  },
  {
   "cell_type": "code",
   "execution_count": 25,
   "metadata": {},
   "outputs": [
    {
     "data": {
      "text/plain": [
       "[0.8561248727519511]"
      ]
     },
     "execution_count": 25,
     "metadata": {},
     "output_type": "execute_result"
    }
   ],
   "source": [
    "precision_test_score"
   ]
  },
  {
   "cell_type": "code",
   "execution_count": null,
   "metadata": {},
   "outputs": [],
   "source": []
  }
 ],
 "metadata": {
  "kernelspec": {
   "display_name": "Python 3",
   "language": "python",
   "name": "python3"
  },
  "language_info": {
   "codemirror_mode": {
    "name": "ipython",
    "version": 3
   },
   "file_extension": ".py",
   "mimetype": "text/x-python",
   "name": "python",
   "nbconvert_exporter": "python",
   "pygments_lexer": "ipython3",
   "version": "3.7.3"
  }
 },
 "nbformat": 4,
 "nbformat_minor": 4
}
