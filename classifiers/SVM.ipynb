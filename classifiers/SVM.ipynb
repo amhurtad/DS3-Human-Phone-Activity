{
 "cells": [
  {
   "cell_type": "markdown",
   "metadata": {},
   "source": [
    "# SVM Classifier"
   ]
  },
  {
   "cell_type": "code",
   "execution_count": 13,
   "metadata": {},
   "outputs": [],
   "source": [
    "# general imports\n",
    "\n",
    "import pandas as pd\n",
    "import numpy as np\n",
    "import matplotlib.pyplot as plt\n",
    "import seaborn as sns\n",
    "from sklearn.svm import SVC\n",
    "from sklearn.model_selection import GridSearchCV, StratifiedKFold\n",
    "from sklearn.metrics import accuracy_score, f1_score, log_loss, precision_score"
   ]
  },
  {
   "cell_type": "code",
   "execution_count": 14,
   "metadata": {},
   "outputs": [],
   "source": [
    "# loading in original data sets\n",
    "df_training = pd.read_csv('../data/archive/train.csv')\n",
    "df_testing = pd.read_csv('../data/archive/test.csv')\n",
    "\n",
    "# loading in pca data sets\n",
    "df_training_pca = pd.read_csv('../data/archive/train_pca.csv')\n",
    "df_testing_pca = pd.read_csv('../data/archive/test_pca.csv')"
   ]
  },
  {
   "cell_type": "code",
   "execution_count": 15,
   "metadata": {},
   "outputs": [],
   "source": [
    "#Separating X and y training and testing\n",
    "x_train_full = df_training.iloc[:, :-1]\n",
    "y_train_full = df_training.iloc[:,-1]\n",
    "\n",
    "x_test = df_testing.iloc[:, :-1]\n",
    "y_test = df_testing.iloc[:,-1]\n",
    "\n",
    "# get the pca training and test data\n",
    "\n",
    "x_train_pca = df_training_pca.iloc[:, :-1]\n",
    "y_train_pca = df_training_pca.iloc[:,-1]\n",
    "\n",
    "x_test_pca = df_testing_pca.iloc[:, :-1]\n",
    "y_test_pca = df_testing_pca.iloc[:,-1]"
   ]
  },
  {
   "cell_type": "code",
   "execution_count": 16,
   "metadata": {},
   "outputs": [],
   "source": [
    "#Making a grid of values we want our grid search to test to find the best parameters\n",
    "\n",
    "grid_values = {'kernel': ['linear', 'rbf'], 'C': [1,10,100,1000], 'decision_function_shape': ['ovr', 'ovo']}"
   ]
  },
  {
   "cell_type": "markdown",
   "metadata": {},
   "source": [
    "# With PCA"
   ]
  },
  {
   "cell_type": "code",
   "execution_count": 17,
   "metadata": {},
   "outputs": [],
   "source": [
    "#getting all of our randomized samples from the training\n",
    "all_samples = []\n",
    "\n",
    "for sample in range(0,5):\n",
    "    all_samples.append(df_training_pca.sample(n=5000, replace= True))"
   ]
  },
  {
   "cell_type": "code",
   "execution_count": 18,
   "metadata": {},
   "outputs": [
    {
     "name": "stdout",
     "output_type": "stream",
     "text": [
      "Wall time: 12min 23s\n"
     ]
    }
   ],
   "source": [
    "%%time\n",
    "# ^ shows runtime of cell\n",
    "\n",
    "#initializing our lists so we can later store the best params that achieve best scores across metrics\n",
    "accuracy_best_params = []\n",
    "f1_best_params = []\n",
    "precision_best_params = []\n",
    "\n",
    "for sample in all_samples:\n",
    "    svm = SVC()\n",
    "    svc_classifier = GridSearchCV(estimator = svm, param_grid = grid_values, cv = StratifiedKFold(n_splits = 5),\n",
    "                      scoring = ['accuracy', 'f1_micro', 'precision_micro'], refit = False, verbose = 0)\n",
    "    \n",
    "    x_train = sample.iloc[:, :-1]\n",
    "    y_train = sample.iloc[:,-1]\n",
    "    \n",
    "    svc_model = svc_classifier.fit(x_train, y_train)\n",
    "    \n",
    "    accuracy_best_params.append(svc_model.cv_results_['params'][ np.argmin(svc_model.cv_results_['rank_test_accuracy'])])\n",
    "    f1_best_params.append(svc_model.cv_results_['params'][ np.argmin(svc_model.cv_results_['rank_test_f1_micro'])])\n",
    "    precision_best_params.append(svc_model.cv_results_['params'][ np.argmin(svc_model.cv_results_['rank_test_precision_micro'])])"
   ]
  },
  {
   "cell_type": "code",
   "execution_count": 19,
   "metadata": {},
   "outputs": [
    {
     "data": {
      "text/plain": [
       "[{'C': 100, 'decision_function_shape': 'ovr', 'kernel': 'rbf'},\n",
       " {'C': 100, 'decision_function_shape': 'ovr', 'kernel': 'rbf'},\n",
       " {'C': 100, 'decision_function_shape': 'ovr', 'kernel': 'rbf'},\n",
       " {'C': 100, 'decision_function_shape': 'ovr', 'kernel': 'rbf'},\n",
       " {'C': 1000, 'decision_function_shape': 'ovr', 'kernel': 'rbf'}]"
      ]
     },
     "execution_count": 19,
     "metadata": {},
     "output_type": "execute_result"
    }
   ],
   "source": [
    "accuracy_best_params"
   ]
  },
  {
   "cell_type": "code",
   "execution_count": 20,
   "metadata": {},
   "outputs": [
    {
     "data": {
      "text/plain": [
       "[{'C': 100, 'decision_function_shape': 'ovr', 'kernel': 'rbf'},\n",
       " {'C': 100, 'decision_function_shape': 'ovr', 'kernel': 'rbf'},\n",
       " {'C': 100, 'decision_function_shape': 'ovr', 'kernel': 'rbf'},\n",
       " {'C': 100, 'decision_function_shape': 'ovr', 'kernel': 'rbf'},\n",
       " {'C': 1000, 'decision_function_shape': 'ovr', 'kernel': 'rbf'}]"
      ]
     },
     "execution_count": 20,
     "metadata": {},
     "output_type": "execute_result"
    }
   ],
   "source": [
    "f1_best_params"
   ]
  },
  {
   "cell_type": "code",
   "execution_count": 21,
   "metadata": {},
   "outputs": [
    {
     "data": {
      "text/plain": [
       "[{'C': 100, 'decision_function_shape': 'ovr', 'kernel': 'rbf'},\n",
       " {'C': 100, 'decision_function_shape': 'ovr', 'kernel': 'rbf'},\n",
       " {'C': 100, 'decision_function_shape': 'ovr', 'kernel': 'rbf'},\n",
       " {'C': 100, 'decision_function_shape': 'ovr', 'kernel': 'rbf'},\n",
       " {'C': 1000, 'decision_function_shape': 'ovr', 'kernel': 'rbf'}]"
      ]
     },
     "execution_count": 21,
     "metadata": {},
     "output_type": "execute_result"
    }
   ],
   "source": [
    "precision_best_params"
   ]
  },
  {
   "cell_type": "code",
   "execution_count": 35,
   "metadata": {},
   "outputs": [
    {
     "name": "stdout",
     "output_type": "stream",
     "text": [
      "Wall time: 2.98 s\n"
     ]
    }
   ],
   "source": [
    "%%time\n",
    "# ^ shows runtime of cell\n",
    "\n",
    "accuracy_test_score = []\n",
    "f1_test_score = []\n",
    "precision_test_score = []\n",
    "\n",
    "for i in range(5):\n",
    "    svc_clf = SVC(kernel = accuracy_best_params[i].get('kernel'), C = accuracy_best_params[i].get('C'),\n",
    "              decision_function_shape = accuracy_best_params[i].get('decision_function_shape'))\n",
    "    \n",
    "    model = svc_clf.fit(x_train_pca, y_train_pca)\n",
    "    y_pred = model.predict(x_test_pca)\n",
    "    \n",
    "    accuracy_test_score.append(accuracy_score(y_test_pca, y_pred))\n",
    "    f1_test_score.append(f1_score(y_test_pca, y_pred, average = 'micro'))\n",
    "    precision_test_score.append(precision_score(y_test_pca, y_pred, average = 'micro'))"
   ]
  },
  {
   "cell_type": "code",
   "execution_count": 36,
   "metadata": {},
   "outputs": [
    {
     "data": {
      "text/plain": [
       "[0.9294197488971836,\n",
       " 0.9233118425517476,\n",
       " 0.9294197488971836,\n",
       " 0.9233118425517476,\n",
       " 0.9233118425517476]"
      ]
     },
     "execution_count": 36,
     "metadata": {},
     "output_type": "execute_result"
    }
   ],
   "source": [
    "accuracy_test_score"
   ]
  },
  {
   "cell_type": "code",
   "execution_count": 37,
   "metadata": {},
   "outputs": [
    {
     "data": {
      "text/plain": [
       "[0.9294197488971836,\n",
       " 0.9233118425517476,\n",
       " 0.9294197488971836,\n",
       " 0.9233118425517476,\n",
       " 0.9233118425517476]"
      ]
     },
     "execution_count": 37,
     "metadata": {},
     "output_type": "execute_result"
    }
   ],
   "source": [
    "f1_test_score"
   ]
  },
  {
   "cell_type": "code",
   "execution_count": 38,
   "metadata": {},
   "outputs": [
    {
     "data": {
      "text/plain": [
       "[0.9294197488971836,\n",
       " 0.9233118425517476,\n",
       " 0.9294197488971836,\n",
       " 0.9233118425517476,\n",
       " 0.9233118425517476]"
      ]
     },
     "execution_count": 38,
     "metadata": {},
     "output_type": "execute_result"
    }
   ],
   "source": [
    "precision_test_score"
   ]
  },
  {
   "cell_type": "markdown",
   "metadata": {},
   "source": [
    "# Without PCA"
   ]
  },
  {
   "cell_type": "code",
   "execution_count": 39,
   "metadata": {},
   "outputs": [],
   "source": [
    "#getting all of our randomized samples from the training\n",
    "all_samples = []\n",
    "\n",
    "for sample in range(0,5):\n",
    "    all_samples.append(df_training.sample(n=5000, replace= True))"
   ]
  },
  {
   "cell_type": "code",
   "execution_count": 40,
   "metadata": {},
   "outputs": [
    {
     "name": "stdout",
     "output_type": "stream",
     "text": [
      "Wall time: 16min 46s\n"
     ]
    }
   ],
   "source": [
    "%%time\n",
    "# ^ shows runtime of cell\n",
    "\n",
    "#initializing our lists so we can later store the best params that achieve best scores across metrics\n",
    "accuracy_best_params = []\n",
    "f1_best_params = []\n",
    "precision_best_params = []\n",
    "\n",
    "for sample in all_samples:\n",
    "    svm = SVC()\n",
    "    svc_classifier = GridSearchCV(estimator = svm, param_grid = grid_values, cv = StratifiedKFold(n_splits = 5),\n",
    "                      scoring = ['accuracy', 'f1_micro', 'precision_micro'], refit = False, verbose = 0)\n",
    "    \n",
    "    x_train = sample.iloc[:, :-1]\n",
    "    y_train = sample.iloc[:,-1]\n",
    "    \n",
    "    svc_model = svc_classifier.fit(x_train, y_train)\n",
    "    \n",
    "    accuracy_best_params.append(svc_model.cv_results_['params'][ np.argmin(svc_model.cv_results_['rank_test_accuracy'])])\n",
    "    f1_best_params.append(svc_model.cv_results_['params'][ np.argmin(svc_model.cv_results_['rank_test_f1_micro'])])\n",
    "    precision_best_params.append(svc_model.cv_results_['params'][ np.argmin(svc_model.cv_results_['rank_test_precision_micro'])])"
   ]
  },
  {
   "cell_type": "code",
   "execution_count": 41,
   "metadata": {},
   "outputs": [
    {
     "data": {
      "text/plain": [
       "[{'C': 100, 'decision_function_shape': 'ovr', 'kernel': 'rbf'},\n",
       " {'C': 100, 'decision_function_shape': 'ovr', 'kernel': 'rbf'},\n",
       " {'C': 1000, 'decision_function_shape': 'ovr', 'kernel': 'rbf'},\n",
       " {'C': 1000, 'decision_function_shape': 'ovr', 'kernel': 'rbf'},\n",
       " {'C': 100, 'decision_function_shape': 'ovr', 'kernel': 'rbf'}]"
      ]
     },
     "execution_count": 41,
     "metadata": {},
     "output_type": "execute_result"
    }
   ],
   "source": [
    "accuracy_best_params"
   ]
  },
  {
   "cell_type": "code",
   "execution_count": 42,
   "metadata": {},
   "outputs": [
    {
     "data": {
      "text/plain": [
       "[{'C': 100, 'decision_function_shape': 'ovr', 'kernel': 'rbf'},\n",
       " {'C': 100, 'decision_function_shape': 'ovr', 'kernel': 'rbf'},\n",
       " {'C': 1000, 'decision_function_shape': 'ovr', 'kernel': 'rbf'},\n",
       " {'C': 1000, 'decision_function_shape': 'ovr', 'kernel': 'rbf'},\n",
       " {'C': 100, 'decision_function_shape': 'ovr', 'kernel': 'rbf'}]"
      ]
     },
     "execution_count": 42,
     "metadata": {},
     "output_type": "execute_result"
    }
   ],
   "source": [
    "f1_best_params"
   ]
  },
  {
   "cell_type": "code",
   "execution_count": 43,
   "metadata": {},
   "outputs": [
    {
     "data": {
      "text/plain": [
       "[{'C': 100, 'decision_function_shape': 'ovr', 'kernel': 'rbf'},\n",
       " {'C': 100, 'decision_function_shape': 'ovr', 'kernel': 'rbf'},\n",
       " {'C': 1000, 'decision_function_shape': 'ovr', 'kernel': 'rbf'},\n",
       " {'C': 1000, 'decision_function_shape': 'ovr', 'kernel': 'rbf'},\n",
       " {'C': 100, 'decision_function_shape': 'ovr', 'kernel': 'rbf'}]"
      ]
     },
     "execution_count": 43,
     "metadata": {},
     "output_type": "execute_result"
    }
   ],
   "source": [
    "precision_best_params"
   ]
  },
  {
   "cell_type": "code",
   "execution_count": 44,
   "metadata": {},
   "outputs": [
    {
     "name": "stdout",
     "output_type": "stream",
     "text": [
      "Wall time: 14.7 s\n"
     ]
    }
   ],
   "source": [
    "%%time\n",
    "# ^ shows runtime of cell\n",
    "\n",
    "accuracy_test_score = []\n",
    "f1_test_score = []\n",
    "precision_test_score = []\n",
    "\n",
    "for i in range(5):\n",
    "    svc_clf = SVC(kernel = accuracy_best_params[i].get('kernel'), C = accuracy_best_params[i].get('C'),\n",
    "              decision_function_shape = accuracy_best_params[i].get('decision_function_shape'))\n",
    "    \n",
    "    model = svc_clf.fit(x_train, y_train)\n",
    "    y_pred = model.predict(x_test)\n",
    "    \n",
    "    accuracy_test_score.append(accuracy_score(y_test, y_pred))\n",
    "    f1_test_score.append(f1_score(y_test, y_pred, average = 'micro'))\n",
    "    precision_test_score.append(precision_score(y_test, y_pred, average = 'micro'))"
   ]
  },
  {
   "cell_type": "code",
   "execution_count": 45,
   "metadata": {},
   "outputs": [
    {
     "data": {
      "text/plain": [
       "[0.9467254835425857,\n",
       " 0.9467254835425857,\n",
       " 0.9467254835425857,\n",
       " 0.9467254835425857,\n",
       " 0.9467254835425857]"
      ]
     },
     "execution_count": 45,
     "metadata": {},
     "output_type": "execute_result"
    }
   ],
   "source": [
    "accuracy_test_score"
   ]
  },
  {
   "cell_type": "code",
   "execution_count": 46,
   "metadata": {},
   "outputs": [
    {
     "data": {
      "text/plain": [
       "[0.9467254835425857,\n",
       " 0.9467254835425857,\n",
       " 0.9467254835425857,\n",
       " 0.9467254835425857,\n",
       " 0.9467254835425857]"
      ]
     },
     "execution_count": 46,
     "metadata": {},
     "output_type": "execute_result"
    }
   ],
   "source": [
    "f1_test_score"
   ]
  },
  {
   "cell_type": "code",
   "execution_count": 47,
   "metadata": {},
   "outputs": [
    {
     "data": {
      "text/plain": [
       "[0.9467254835425857,\n",
       " 0.9467254835425857,\n",
       " 0.9467254835425857,\n",
       " 0.9467254835425857,\n",
       " 0.9467254835425857]"
      ]
     },
     "execution_count": 47,
     "metadata": {},
     "output_type": "execute_result"
    }
   ],
   "source": [
    "precision_test_score"
   ]
  },
  {
   "cell_type": "code",
   "execution_count": null,
   "metadata": {},
   "outputs": [],
   "source": []
  }
 ],
 "metadata": {
  "kernelspec": {
   "display_name": "Python 3",
   "language": "python",
   "name": "python3"
  },
  "language_info": {
   "codemirror_mode": {
    "name": "ipython",
    "version": 3
   },
   "file_extension": ".py",
   "mimetype": "text/x-python",
   "name": "python",
   "nbconvert_exporter": "python",
   "pygments_lexer": "ipython3",
   "version": "3.8.5"
  }
 },
 "nbformat": 4,
 "nbformat_minor": 4
}
