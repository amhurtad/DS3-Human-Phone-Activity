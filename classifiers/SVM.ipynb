{
 "cells": [
  {
   "cell_type": "markdown",
   "source": [
    "# SVM Classifier without PCA"
   ],
   "metadata": {}
  },
  {
   "cell_type": "markdown",
   "source": [
    "# SVM Classifier with PCA"
   ],
   "metadata": {}
  },
  {
   "cell_type": "code",
   "execution_count": 1,
   "source": [
    "# general imports\r\n",
    "\r\n",
    "import pandas as pd\r\n",
    "import numpy as np\r\n",
    "import matplotlib.pyplot as plt\r\n",
    "import seaborn as sns\r\n",
    "from sklearn.svm import SVC\r\n",
    "from sklearn.model_selection import GridSearchCV, StratifiedKFold\r\n",
    "from sklearn.metrics import accuracy_score, f1_score, log_loss"
   ],
   "outputs": [],
   "metadata": {}
  },
  {
   "cell_type": "code",
   "execution_count": 2,
   "source": [
    "# loading in original data sets\r\n",
    "df_training = pd.read_csv('../data/archive/train.csv')\r\n",
    "df_testing = pd.read_csv('../data/archive/test.csv')\r\n",
    "\r\n",
    "# loading in pca data sets\r\n",
    "df_training_pca = pd.read_csv('../data/archive/train_pca.csv')\r\n",
    "df_testing_pca = pd.read_csv('../data/archive/test_pca.csv')"
   ],
   "outputs": [],
   "metadata": {}
  },
  {
   "cell_type": "code",
   "execution_count": 3,
   "source": [
    "#Separating X and y training and testing\r\n",
    "x_train = df_training.iloc[:, :-1]\r\n",
    "y_train = df_training.iloc[:,-1]\r\n",
    "\r\n",
    "x_test = df_testing.iloc[:, :-2]\r\n",
    "y_test = df_testing.iloc[:,-1]\r\n",
    "\r\n",
    "# get the pca training and test data\r\n",
    "\r\n",
    "x_train_pca = df_training_pca.iloc[:, :-1]\r\n",
    "y_train_pca = df_training_pca.iloc[:,-1]\r\n",
    "\r\n",
    "x_test_pca = df_testing_pca.iloc[:, :-1]\r\n",
    "y_test_pca = df_testing_pca.iloc[:,-1]"
   ],
   "outputs": [],
   "metadata": {}
  },
  {
   "cell_type": "code",
   "execution_count": null,
   "source": [
    "#Initializing SVC\r\n",
    "\r\n",
    "svm = SVC()"
   ],
   "outputs": [],
   "metadata": {}
  },
  {
   "cell_type": "code",
   "execution_count": null,
   "source": [
    "#Making a grid of values we want our grid search to test to find the best parameters\r\n",
    "grid_values = {'kernel': ['linear', 'rbf'], 'C': [1,10,100,1000], 'decision_function_shape': ['ovr', 'ovo']}\r\n",
    "\r\n",
    "svc_classifier = GridSearchCV(estimator = svm, param_grid = grid_values, cv = StratifiedKFold(n_splits = 5),\r\n",
    "                      scoring = ['accuracy', 'f1_micro'], refit = False, verbose = 0)\r\n",
    "\r\n",
    "svc_model = svc_classifier.fit(x_train, y_train)"
   ],
   "outputs": [],
   "metadata": {}
  },
  {
   "cell_type": "code",
   "execution_count": null,
   "source": [
    "#initializing our lists so we can later store the best params that achieve best scores across metrics\r\n",
    "accuracy_best_params = []\r\n",
    "f1_best_params = []\r\n",
    "precision_best_params = []\r\n",
    "\r\n",
    "accuracy_best_params.append(svc_model.cv_results_['params'][ np.argmin(svc_model.cv_results_['rank_test_accuracy'])])\r\n",
    "f1_best_params.append(svc_model.cv_results_['params'][ np.argmin(svc_model.cv_results_['rank_test_f1_micro'])])\r\n",
    "precision_best_params.append(svc_model.cv_results_['params'][ np.argmin(svc_model.cv_results_['rank_test_precision_micro'])])"
   ],
   "outputs": [],
   "metadata": {}
  },
  {
   "cell_type": "code",
   "execution_count": null,
   "source": [
    "accuracy_best_params"
   ],
   "outputs": [],
   "metadata": {}
  },
  {
   "cell_type": "code",
   "execution_count": null,
   "source": [
    "f1_best_params"
   ],
   "outputs": [],
   "metadata": {}
  },
  {
   "cell_type": "code",
   "execution_count": null,
   "source": [
    "precision_best_params"
   ],
   "outputs": [],
   "metadata": {}
  },
  {
   "cell_type": "code",
   "execution_count": null,
   "source": [
    "accuracy_test_score = []\r\n",
    "\r\n",
    "svc_clf = SVC(kernel = accuracy_best_params[0].get('kernel'), C = accuracy_best_params[0].get('C'),\r\n",
    "              decision_function_shape = accuracy_best_params[0].get('decision_function_shape'))\r\n",
    "model = svc_clf.fit(x_train, y_train)\r\n",
    "\r\n",
    "y_pred = model.predict(x_test)\r\n",
    "\r\n",
    "accuracy_test_score.append(accuracy_score(y_test, y_pred))"
   ],
   "outputs": [],
   "metadata": {}
  },
  {
   "cell_type": "code",
   "execution_count": null,
   "source": [
    "accuracy_test_score"
   ],
   "outputs": [],
   "metadata": {}
  },
  {
   "cell_type": "code",
   "execution_count": null,
   "source": [
    "f1_test_score = []\r\n",
    "\r\n",
    "svc_clf = SVC(kernel = f1_best_params[0].get('kernel'), C = f1_best_params[0].get('C'),\r\n",
    "              decision_function_shape = f1_best_params[0].get('decision_function_shape'))\r\n",
    "model = svc_clf.fit(x_train, y_train)\r\n",
    "\r\n",
    "y_pred = model.predict(x_test)\r\n",
    "\r\n",
    "accuracy_test_score.append(f1_score(y_test, y_pred, average = 'micro'))"
   ],
   "outputs": [],
   "metadata": {}
  },
  {
   "cell_type": "code",
   "execution_count": null,
   "source": [
    "f1_test_score"
   ],
   "outputs": [],
   "metadata": {}
  },
  {
   "cell_type": "code",
   "execution_count": null,
   "source": [
    "precision_test_score = []\r\n",
    "\r\n",
    "svc_clf = SVC(kernel = f1_best_params[0].get('kernel'), C = f1_best_params[0].get('C'),\r\n",
    "              decision_function_shape = f1_best_params[0].get('decision_function_shape'))\r\n",
    "model = svc_clf.fit(x_train, y_train)\r\n",
    "\r\n",
    "y_pred = model.predict(x_test)\r\n",
    "\r\n",
    "precision_test_score.append(precision_score(y_test, y_pred, average = 'micro'))"
   ],
   "outputs": [],
   "metadata": {}
  },
  {
   "cell_type": "code",
   "execution_count": null,
   "source": [
    "precision_test_score"
   ],
   "outputs": [],
   "metadata": {}
  }
 ],
 "metadata": {
  "kernelspec": {
   "display_name": "Python 3",
   "language": "python",
   "name": "python3"
  },
  "language_info": {
   "codemirror_mode": {
    "name": "ipython",
    "version": 3
   },
   "file_extension": ".py",
   "mimetype": "text/x-python",
   "name": "python",
   "nbconvert_exporter": "python",
   "pygments_lexer": "ipython3",
   "version": "3.7.3"
  }
 },
 "nbformat": 4,
 "nbformat_minor": 4
}