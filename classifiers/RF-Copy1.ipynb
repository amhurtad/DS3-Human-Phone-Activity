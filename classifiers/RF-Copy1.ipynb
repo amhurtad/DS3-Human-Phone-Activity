{
 "cells": [
  {
   "cell_type": "markdown",
   "metadata": {},
   "source": [
    "# Random Forest Forest Classifier without PCA"
   ]
  },
  {
   "cell_type": "markdown",
   "metadata": {},
   "source": [
    "# Random Forest Classifier with PCA"
   ]
  },
  {
   "cell_type": "code",
   "execution_count": 1,
   "metadata": {},
   "outputs": [],
   "source": [
    "import pandas as pd\n",
    "import numpy as np\n",
    "import matplotlib.pyplot as plt\n",
    "import seaborn as sns\n",
    "from sklearn.ensemble import RandomForestClassifier\n",
    "from sklearn.model_selection import GridSearchCV, StratifiedKFold\n",
    "from sklearn.metrics import accuracy_score, f1_score, precision_score"
   ]
  },
  {
   "cell_type": "code",
   "execution_count": 2,
   "metadata": {},
   "outputs": [],
   "source": [
    "#loading in the data\n",
    "\n",
    "df_training = pd.read_csv('../data/archive/train_pca.csv')\n",
    "df_testing = pd.read_csv('../data/archive/test_pca.csv')"
   ]
  },
  {
   "cell_type": "code",
   "execution_count": 3,
   "metadata": {},
   "outputs": [],
   "source": [
    "#getting all of our randomized samples from the training\n",
    "all_samples = []\n",
    "\n",
    "for sample in range(0,5):\n",
    "    all_samples.append(df_training.sample(n=5000, replace= True))"
   ]
  },
  {
   "cell_type": "code",
   "execution_count": 4,
   "metadata": {},
   "outputs": [],
   "source": [
    "#Separating X and y from testing since this won't be used in the for loop\n",
    "x_train_full = df_training.iloc[:,:-1]\n",
    "y_train_full = df_training.iloc[:,-1]\n",
    "\n",
    "x_test = df_testing.iloc[:, :-1]\n",
    "y_test = df_testing.iloc[:,-1]"
   ]
  },
  {
   "cell_type": "code",
   "execution_count": 5,
   "metadata": {},
   "outputs": [],
   "source": [
    "#initializing our lists so we can later store the best params that achieve best scores across metrics\n",
    "accuracy_best_params = []\n",
    "f1_best_params = []\n",
    "precision_best_params = []\n",
    "\n",
    "\n",
    "\n",
    "for sample in all_samples:\n",
    "    \n",
    "    rf = RandomForestClassifier()\n",
    "    \n",
    "    #Making a grid of values we want our grid search to test to find the best parameters\n",
    "    grid_values ={'n_estimators': list(range(1,105,4))}\n",
    "\n",
    "    rf_classifier = GridSearchCV(estimator = rf, param_grid = grid_values, cv = StratifiedKFold(n_splits = 5),\n",
    "                      scoring = ['accuracy', 'f1_micro', 'precision_micro'], refit = False, verbose = 0)\n",
    "    \n",
    "    x_train = sample.iloc[:, :-1]\n",
    "    y_train = sample.iloc[:,-1]\n",
    "    \n",
    "    rf_model = rf_classifier.fit(x_train, y_train)\n",
    "\n",
    "    accuracy_best_params.append(rf_model.cv_results_['params'][ np.argmin(rf_model.cv_results_['rank_test_accuracy'])])\n",
    "    f1_best_params.append(rf_model.cv_results_['params'][ np.argmin(rf_model.cv_results_['rank_test_f1_micro'])])\n",
    "    precision_best_params.append(rf_model.cv_results_['params'][ np.argmin(rf_model.cv_results_['rank_test_precision_micro'])])"
   ]
  },
  {
   "cell_type": "code",
   "execution_count": 6,
   "metadata": {},
   "outputs": [
    {
     "data": {
      "text/plain": [
       "[{'n_estimators': 101},\n",
       " {'n_estimators': 45},\n",
       " {'n_estimators': 89},\n",
       " {'n_estimators': 89},\n",
       " {'n_estimators': 89}]"
      ]
     },
     "execution_count": 6,
     "metadata": {},
     "output_type": "execute_result"
    }
   ],
   "source": [
    "accuracy_best_params"
   ]
  },
  {
   "cell_type": "code",
   "execution_count": 7,
   "metadata": {},
   "outputs": [
    {
     "data": {
      "text/plain": [
       "[{'n_estimators': 101},\n",
       " {'n_estimators': 45},\n",
       " {'n_estimators': 89},\n",
       " {'n_estimators': 89},\n",
       " {'n_estimators': 89}]"
      ]
     },
     "execution_count": 7,
     "metadata": {},
     "output_type": "execute_result"
    }
   ],
   "source": [
    "f1_best_params"
   ]
  },
  {
   "cell_type": "code",
   "execution_count": 8,
   "metadata": {},
   "outputs": [
    {
     "data": {
      "text/plain": [
       "[{'n_estimators': 101},\n",
       " {'n_estimators': 45},\n",
       " {'n_estimators': 89},\n",
       " {'n_estimators': 89},\n",
       " {'n_estimators': 89}]"
      ]
     },
     "execution_count": 8,
     "metadata": {},
     "output_type": "execute_result"
    }
   ],
   "source": [
    "precision_best_params"
   ]
  },
  {
   "cell_type": "code",
   "execution_count": 9,
   "metadata": {},
   "outputs": [],
   "source": [
    "accuracy_test_score = []\n",
    "\n",
    "i = 0\n",
    "for param in accuracy_best_params:\n",
    "\n",
    "    rf_clf = RandomForestClassifier(n_estimators = accuracy_best_params[i].get('n_estimators'))\n",
    "    model = rf_clf.fit(x_train_full, y_train_full)\n",
    "\n",
    "    y_pred = model.predict(x_test)\n",
    "\n",
    "    accuracy_test_score.append(accuracy_score(y_test, y_pred))\n",
    "    \n",
    "    i += 1"
   ]
  },
  {
   "cell_type": "code",
   "execution_count": 10,
   "metadata": {},
   "outputs": [
    {
     "data": {
      "text/plain": [
       "[0.8971835765184933,\n",
       " 0.8934509670851714,\n",
       " 0.8944689514760774,\n",
       " 0.8998982015609094,\n",
       " 0.8954869358669834]"
      ]
     },
     "execution_count": 10,
     "metadata": {},
     "output_type": "execute_result"
    }
   ],
   "source": [
    "accuracy_test_score"
   ]
  },
  {
   "cell_type": "code",
   "execution_count": 12,
   "metadata": {},
   "outputs": [],
   "source": [
    "f1_test_score = []\n",
    "\n",
    "i = 0\n",
    "for param in f1_best_params:\n",
    "\n",
    "    rf_clf = RandomForestClassifier(n_estimators = f1_best_params[i].get('n_estimators'))\n",
    "    model = rf_clf.fit(x_train_full, y_train_full)\n",
    "\n",
    "    y_pred = model.predict(x_test)\n",
    "\n",
    "    f1_test_score.append(f1_score(y_test, y_pred, average = 'micro'))\n",
    "    \n",
    "    i += 1"
   ]
  },
  {
   "cell_type": "code",
   "execution_count": 13,
   "metadata": {},
   "outputs": [
    {
     "data": {
      "text/plain": [
       "[0.8934509670851712,\n",
       " 0.8927723108245673,\n",
       " 0.9012555140821175,\n",
       " 0.8907363420427553,\n",
       " 0.8992195453003053]"
      ]
     },
     "execution_count": 13,
     "metadata": {},
     "output_type": "execute_result"
    }
   ],
   "source": [
    "f1_test_score"
   ]
  },
  {
   "cell_type": "code",
   "execution_count": 14,
   "metadata": {},
   "outputs": [],
   "source": [
    "precision_test_score = []\n",
    "\n",
    "i = 0\n",
    "for param in precision_best_params:\n",
    "\n",
    "    rf_clf = RandomForestClassifier(n_estimators = precision_best_params[i].get('n_estimators'))\n",
    "    model = rf_clf.fit(x_train_full, y_train_full)\n",
    "\n",
    "    y_pred = model.predict(x_test)\n",
    "\n",
    "    precision_test_score.append(precision_score(y_test, y_pred, average = 'micro'))\n",
    "    \n",
    "    i += 1\n",
    "    "
   ]
  },
  {
   "cell_type": "code",
   "execution_count": 15,
   "metadata": {},
   "outputs": [
    {
     "data": {
      "text/plain": [
       "[0.9022734984730234,\n",
       " 0.8941296233457754,\n",
       " 0.9043094672548354,\n",
       " 0.8924329826942654,\n",
       " 0.8927723108245673]"
      ]
     },
     "execution_count": 15,
     "metadata": {},
     "output_type": "execute_result"
    }
   ],
   "source": [
    "precision_test_score"
   ]
  }
 ],
 "metadata": {
  "kernelspec": {
   "display_name": "Python 3",
   "language": "python",
   "name": "python3"
  },
  "language_info": {
   "codemirror_mode": {
    "name": "ipython",
    "version": 3
   },
   "file_extension": ".py",
   "mimetype": "text/x-python",
   "name": "python",
   "nbconvert_exporter": "python",
   "pygments_lexer": "ipython3",
   "version": "3.7.3"
  }
 },
 "nbformat": 4,
 "nbformat_minor": 4
}
