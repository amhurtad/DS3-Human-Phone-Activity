{
 "cells": [
  {
   "cell_type": "code",
   "execution_count": 40,
   "id": "fcc352a4",
   "metadata": {},
   "outputs": [],
   "source": [
    "#importing from sklearn\n",
    "import pandas as pd\n",
    "import numpy as np\n",
    "import matplotlib.pyplot as plt\n",
    "import seaborn as sns\n",
    "from sklearn.ensemble import GradientBoostingClassifier\n",
    "from sklearn.model_selection import GridSearchCV, StratifiedKFold, cross_val_score\n",
    "from sklearn.metrics import accuracy_score, f1_score, precision_score\n",
    "import tensorflow as tf"
   ]
  },
  {
   "cell_type": "code",
   "execution_count": 52,
   "id": "c337fdae",
   "metadata": {},
   "outputs": [],
   "source": [
    "#loading in the pca datasets\n",
    "df_training = pd.read_csv('../data/archive/train_pca.csv')\n",
    "df_testing = pd.read_csv('../data/archive/test_pca.csv')"
   ]
  },
  {
   "cell_type": "code",
   "execution_count": 53,
   "id": "1d80c18c",
   "metadata": {},
   "outputs": [],
   "source": [
    "#Just getting the X Variables\n",
    "x_train = df_training.iloc[:, :-1]\n",
    "\n",
    "\n",
    "x_test = df_testing.iloc[:, :-1]\n"
   ]
  },
  {
   "cell_type": "code",
   "execution_count": 54,
   "id": "648252a4",
   "metadata": {},
   "outputs": [],
   "source": [
    "#loading in the orginal datasets\n",
    "train_dep = pd.read_csv('../data/archive/train.csv')\n",
    "test_dep = pd.read_csv('../data/archive/test.csv')"
   ]
  },
  {
   "cell_type": "code",
   "execution_count": 55,
   "id": "82e8059c",
   "metadata": {},
   "outputs": [],
   "source": [
    "#getting the x variables from the orginal datasets\n",
    "train_label = train_dep.iloc[:,-1]\n",
    "\n",
    "train_dep = train_dep.iloc[:,-1]\n",
    "test_dep = test_dep.iloc[:,-1]"
   ]
  },
  {
   "cell_type": "code",
   "execution_count": 56,
   "id": "86c6a8b6",
   "metadata": {},
   "outputs": [],
   "source": [
    "#converting categorical variables into dummy/indicator variables\n",
    "train_dep = pd.get_dummies(train_dep)\n",
    "test_dep = pd.get_dummies(test_dep)"
   ]
  },
  {
   "cell_type": "code",
   "execution_count": 57,
   "id": "cbfaad77",
   "metadata": {},
   "outputs": [],
   "source": [
    "#making a function which buildes the model that will be used to predict\n",
    "\n",
    "def build_model():\n",
    "    model = tf.keras.models.Sequential([\n",
    "        tf.keras.layers.Dense(units=15, input_dim = 40,  activation='relu'),\n",
    "        tf.keras.layers.Dense(units=40,  activation='relu'),\n",
    "        tf.keras.layers.Dense(units=6,  activation='softmax')])\n",
    "    model.compile(optimizer = 'adam', loss = 'categorical_crossentropy', metrics = ['accuracy'])\n",
    "    return model"
   ]
  },
  {
   "cell_type": "code",
   "execution_count": 58,
   "id": "8f3019d3",
   "metadata": {},
   "outputs": [],
   "source": [
    "#defining ann as our model\n",
    "ann = build_model()"
   ]
  },
  {
   "cell_type": "code",
   "execution_count": 59,
   "id": "4def8cf7",
   "metadata": {},
   "outputs": [
    {
     "data": {
      "text/plain": [
       "<tensorflow.python.keras.callbacks.History at 0x232105bbac0>"
      ]
     },
     "execution_count": 59,
     "metadata": {},
     "output_type": "execute_result"
    }
   ],
   "source": [
    "#fitting the x_train and train_dep to the model\n",
    "ann.fit(x_train, train_dep, batch_size = 5, epochs = 100, verbose=0)"
   ]
  },
  {
   "cell_type": "code",
   "execution_count": 60,
   "id": "c111d3e1",
   "metadata": {},
   "outputs": [],
   "source": [
    "#using ann model to predict\n",
    "y_pred = ann.predict(x_test)\n",
    "y_pred = (y_pred > 0.5)*1\n",
    "test_dep = test_dep.to_numpy()"
   ]
  },
  {
   "cell_type": "code",
   "execution_count": 61,
   "id": "5551683c",
   "metadata": {},
   "outputs": [
    {
     "data": {
      "text/plain": [
       "0.8992195453003053"
      ]
     },
     "execution_count": 61,
     "metadata": {},
     "output_type": "execute_result"
    }
   ],
   "source": [
    "#importing scoring metrics\n",
    "from sklearn.metrics import confusion_matrix, accuracy_score\n",
    "accuracy_score(test_dep, y_pred)"
   ]
  },
  {
   "cell_type": "code",
   "execution_count": 62,
   "id": "ab8d9319",
   "metadata": {},
   "outputs": [],
   "source": [
    "#initializing classifier\n",
    "from tensorflow.keras.wrappers.scikit_learn import KerasClassifier\n",
    "def warn(*args, **kwargs):\n",
    "    pass\n",
    "import warnings\n",
    "warnings.warn = warn\n",
    "\n",
    "keras_clf = KerasClassifier(build_fn=build_model, epochs=100, batch_size=5, verbose=0)\n",
    "kfold = StratifiedKFold(n_splits=10, shuffle=True)\n",
    "cross_val_accuracies = cross_val_score(estimator=keras_clf, scoring=\"accuracy\", \n",
    "    X=x_train, y=train_label, cv=kfold)"
   ]
  },
  {
   "cell_type": "code",
   "execution_count": 63,
   "id": "bbd18b9f",
   "metadata": {},
   "outputs": [
    {
     "data": {
      "text/plain": [
       "array([0.96059783, 0.94972826, 0.96462585, 0.96734694, 0.97142857,\n",
       "       0.97823129, 0.95238095, 0.97142857, 0.96190476, 0.95238095])"
      ]
     },
     "execution_count": 63,
     "metadata": {},
     "output_type": "execute_result"
    }
   ],
   "source": [
    "cross_val_accuracies"
   ]
  },
  {
   "cell_type": "code",
   "execution_count": null,
   "id": "7acfcb14",
   "metadata": {},
   "outputs": [],
   "source": []
  }
 ],
 "metadata": {
  "kernelspec": {
   "display_name": "Python 3",
   "language": "python",
   "name": "python3"
  },
  "language_info": {
   "codemirror_mode": {
    "name": "ipython",
    "version": 3
   },
   "file_extension": ".py",
   "mimetype": "text/x-python",
   "name": "python",
   "nbconvert_exporter": "python",
   "pygments_lexer": "ipython3",
   "version": "3.8.8"
  }
 },
 "nbformat": 4,
 "nbformat_minor": 5
}
