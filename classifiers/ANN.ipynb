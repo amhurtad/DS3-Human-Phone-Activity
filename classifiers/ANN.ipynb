{
 "cells": [
  {
   "cell_type": "code",
   "execution_count": 4,
   "id": "upset-indianapolis",
   "metadata": {},
   "outputs": [],
   "source": [
    "import pandas as pd\n",
    "import numpy as np\n",
    "import matplotlib.pyplot as plt\n",
    "import seaborn as sns\n",
    "from sklearn.ensemble import GradientBoostingClassifier\n",
    "from sklearn.model_selection import GridSearchCV, StratifiedKFold\n",
    "from sklearn.metrics import accuracy_score, f1_score, precision_score\n",
    "import tensorflow as tf"
   ]
  },
  {
   "cell_type": "code",
   "execution_count": 5,
   "id": "informational-recommendation",
   "metadata": {},
   "outputs": [],
   "source": [
    "#loading in the datasets\n",
    "df_training = pd.read_csv('../data/archive/train_pca.csv')\n",
    "df_testing = pd.read_csv('../data/archive/test_pca.csv')"
   ]
  },
  {
   "cell_type": "code",
   "execution_count": 6,
   "id": "approved-volleyball",
   "metadata": {},
   "outputs": [],
   "source": [
    "#Just getting the X Variables\n",
    "x_train = df_training.iloc[:, :-1]\n",
    "\n",
    "\n",
    "x_test = df_testing.iloc[:, :-1]\n"
   ]
  },
  {
   "cell_type": "code",
   "execution_count": 7,
   "id": "blank-december",
   "metadata": {},
   "outputs": [],
   "source": [
    "train_dep = pd.read_csv('../data/archive/train.csv')\n",
    "test_dep = pd.read_csv('../data/archive/test.csv')"
   ]
  },
  {
   "cell_type": "code",
   "execution_count": 8,
   "id": "fitted-shift",
   "metadata": {},
   "outputs": [],
   "source": [
    "train_dep = train_dep.iloc[:,-1]\n",
    "test_dep = test_dep.iloc[:,-1]"
   ]
  },
  {
   "cell_type": "code",
   "execution_count": 9,
   "id": "proprietary-ribbon",
   "metadata": {},
   "outputs": [],
   "source": [
    "train_dep = pd.get_dummies(train_dep)\n",
    "test_dep = pd.get_dummies(test_dep)"
   ]
  },
  {
   "cell_type": "code",
   "execution_count": 10,
   "id": "responsible-motorcycle",
   "metadata": {},
   "outputs": [],
   "source": [
    "ann = tf.keras.models.Sequential()"
   ]
  },
  {
   "cell_type": "code",
   "execution_count": 11,
   "id": "computational-mixer",
   "metadata": {},
   "outputs": [],
   "source": [
    "ann.add(tf.keras.layers.Dense(units=15, input_dim = 40,  activation='relu'))"
   ]
  },
  {
   "cell_type": "code",
   "execution_count": 12,
   "id": "fabulous-general",
   "metadata": {},
   "outputs": [],
   "source": [
    "ann.add(tf.keras.layers.Dense(units=40,  activation='relu'))"
   ]
  },
  {
   "cell_type": "code",
   "execution_count": 13,
   "id": "rental-zimbabwe",
   "metadata": {},
   "outputs": [],
   "source": [
    "ann.add(tf.keras.layers.Dense(units=6,  activation='softmax'))"
   ]
  },
  {
   "cell_type": "code",
   "execution_count": 14,
   "id": "prompt-basis",
   "metadata": {},
   "outputs": [],
   "source": [
    "ann.compile(optimizer = 'adam', loss = 'categorical_crossentropy', metrics = ['accuracy'])"
   ]
  },
  {
   "cell_type": "code",
   "execution_count": 15,
   "id": "sunset-neighborhood",
   "metadata": {},
   "outputs": [
    {
     "name": "stdout",
     "output_type": "stream",
     "text": [
      "Epoch 1/100\n",
      "1471/1471 [==============================] - 3s 2ms/step - loss: 0.8010 - accuracy: 0.6955\n",
      "Epoch 2/100\n",
      "1471/1471 [==============================] - 3s 2ms/step - loss: 0.1651 - accuracy: 0.9337\n",
      "Epoch 3/100\n",
      "1471/1471 [==============================] - 3s 2ms/step - loss: 0.1302 - accuracy: 0.9485\n",
      "Epoch 4/100\n",
      "1471/1471 [==============================] - 2s 2ms/step - loss: 0.1232 - accuracy: 0.9473\n",
      "Epoch 5/100\n",
      "1471/1471 [==============================] - 3s 2ms/step - loss: 0.1117 - accuracy: 0.9541\n",
      "Epoch 6/100\n",
      "1471/1471 [==============================] - 3s 2ms/step - loss: 0.0942 - accuracy: 0.9624\n",
      "Epoch 7/100\n",
      "1471/1471 [==============================] - 3s 2ms/step - loss: 0.0866 - accuracy: 0.9632\n",
      "Epoch 8/100\n",
      "1471/1471 [==============================] - 3s 2ms/step - loss: 0.0840 - accuracy: 0.9633\n",
      "Epoch 9/100\n",
      "1471/1471 [==============================] - 3s 2ms/step - loss: 0.0692 - accuracy: 0.9712\n",
      "Epoch 10/100\n",
      "1471/1471 [==============================] - 3s 2ms/step - loss: 0.0776 - accuracy: 0.9673\n",
      "Epoch 11/100\n",
      "1471/1471 [==============================] - 3s 2ms/step - loss: 0.0634 - accuracy: 0.9755\n",
      "Epoch 12/100\n",
      "1471/1471 [==============================] - 3s 2ms/step - loss: 0.0642 - accuracy: 0.9738\n",
      "Epoch 13/100\n",
      "1471/1471 [==============================] - 3s 2ms/step - loss: 0.0686 - accuracy: 0.9747\n",
      "Epoch 14/100\n",
      "1471/1471 [==============================] - 3s 2ms/step - loss: 0.0634 - accuracy: 0.9750\n",
      "Epoch 15/100\n",
      "1471/1471 [==============================] - 3s 2ms/step - loss: 0.0608 - accuracy: 0.9729\n",
      "Epoch 16/100\n",
      "1471/1471 [==============================] - 3s 2ms/step - loss: 0.0584 - accuracy: 0.9754\n",
      "Epoch 17/100\n",
      "1471/1471 [==============================] - 3s 2ms/step - loss: 0.0514 - accuracy: 0.9810\n",
      "Epoch 18/100\n",
      "1471/1471 [==============================] - 3s 2ms/step - loss: 0.0536 - accuracy: 0.9784\n",
      "Epoch 19/100\n",
      "1471/1471 [==============================] - 3s 2ms/step - loss: 0.0453 - accuracy: 0.9819\n",
      "Epoch 20/100\n",
      "1471/1471 [==============================] - 3s 2ms/step - loss: 0.0446 - accuracy: 0.9834\n",
      "Epoch 21/100\n",
      "1471/1471 [==============================] - 3s 2ms/step - loss: 0.0447 - accuracy: 0.9812\n",
      "Epoch 22/100\n",
      "1471/1471 [==============================] - 3s 2ms/step - loss: 0.0424 - accuracy: 0.9833\n",
      "Epoch 23/100\n",
      "1471/1471 [==============================] - 3s 2ms/step - loss: 0.0414 - accuracy: 0.9829\n",
      "Epoch 24/100\n",
      "1471/1471 [==============================] - 3s 2ms/step - loss: 0.0456 - accuracy: 0.9821\n",
      "Epoch 25/100\n",
      "1471/1471 [==============================] - 3s 2ms/step - loss: 0.0381 - accuracy: 0.9845\n",
      "Epoch 26/100\n",
      "1471/1471 [==============================] - 2s 1ms/step - loss: 0.0318 - accuracy: 0.9892\n",
      "Epoch 27/100\n",
      "1471/1471 [==============================] - 3s 2ms/step - loss: 0.0321 - accuracy: 0.9875\n",
      "Epoch 28/100\n",
      "1471/1471 [==============================] - 3s 2ms/step - loss: 0.0301 - accuracy: 0.9897\n",
      "Epoch 29/100\n",
      "1471/1471 [==============================] - 3s 2ms/step - loss: 0.0336 - accuracy: 0.9871\n",
      "Epoch 30/100\n",
      "1471/1471 [==============================] - 3s 2ms/step - loss: 0.0383 - accuracy: 0.9862\n",
      "Epoch 31/100\n",
      "1471/1471 [==============================] - 3s 2ms/step - loss: 0.0305 - accuracy: 0.9872\n",
      "Epoch 32/100\n",
      "1471/1471 [==============================] - 3s 2ms/step - loss: 0.0306 - accuracy: 0.9900\n",
      "Epoch 33/100\n",
      "1471/1471 [==============================] - 3s 2ms/step - loss: 0.0305 - accuracy: 0.9862\n",
      "Epoch 34/100\n",
      "1471/1471 [==============================] - 3s 2ms/step - loss: 0.0218 - accuracy: 0.9925\n",
      "Epoch 35/100\n",
      "1471/1471 [==============================] - 3s 2ms/step - loss: 0.0288 - accuracy: 0.9891\n",
      "Epoch 36/100\n",
      "1471/1471 [==============================] - 3s 2ms/step - loss: 0.0270 - accuracy: 0.9892\n",
      "Epoch 37/100\n",
      "1471/1471 [==============================] - 3s 2ms/step - loss: 0.0214 - accuracy: 0.9922\n",
      "Epoch 38/100\n",
      "1471/1471 [==============================] - 3s 2ms/step - loss: 0.0262 - accuracy: 0.9884\n",
      "Epoch 39/100\n",
      "1471/1471 [==============================] - 3s 2ms/step - loss: 0.0195 - accuracy: 0.9935\n",
      "Epoch 40/100\n",
      "1471/1471 [==============================] - 3s 2ms/step - loss: 0.0294 - accuracy: 0.9896\n",
      "Epoch 41/100\n",
      "1471/1471 [==============================] - 3s 2ms/step - loss: 0.0201 - accuracy: 0.9925\n",
      "Epoch 42/100\n",
      "1471/1471 [==============================] - 3s 2ms/step - loss: 0.0227 - accuracy: 0.9911\n",
      "Epoch 43/100\n",
      "1471/1471 [==============================] - 3s 2ms/step - loss: 0.0223 - accuracy: 0.9914\n",
      "Epoch 44/100\n",
      "1471/1471 [==============================] - 3s 2ms/step - loss: 0.0216 - accuracy: 0.9927\n",
      "Epoch 45/100\n",
      "1471/1471 [==============================] - 3s 2ms/step - loss: 0.0222 - accuracy: 0.9930\n",
      "Epoch 46/100\n",
      "1471/1471 [==============================] - 3s 2ms/step - loss: 0.0220 - accuracy: 0.9920\n",
      "Epoch 47/100\n",
      "1471/1471 [==============================] - 3s 2ms/step - loss: 0.0185 - accuracy: 0.9939\n",
      "Epoch 48/100\n",
      "1471/1471 [==============================] - 3s 2ms/step - loss: 0.0212 - accuracy: 0.9924\n",
      "Epoch 49/100\n",
      "1471/1471 [==============================] - 3s 2ms/step - loss: 0.0186 - accuracy: 0.9931\n",
      "Epoch 50/100\n",
      "1471/1471 [==============================] - 3s 2ms/step - loss: 0.0219 - accuracy: 0.9909\n",
      "Epoch 51/100\n",
      "1471/1471 [==============================] - 3s 2ms/step - loss: 0.0159 - accuracy: 0.9954\n",
      "Epoch 52/100\n",
      "1471/1471 [==============================] - 3s 2ms/step - loss: 0.0151 - accuracy: 0.9942\n",
      "Epoch 53/100\n",
      "1471/1471 [==============================] - 3s 2ms/step - loss: 0.0183 - accuracy: 0.9922\n",
      "Epoch 54/100\n",
      "1471/1471 [==============================] - 3s 2ms/step - loss: 0.0137 - accuracy: 0.9949\n",
      "Epoch 55/100\n",
      "1471/1471 [==============================] - 3s 2ms/step - loss: 0.0187 - accuracy: 0.9942\n",
      "Epoch 56/100\n",
      "1471/1471 [==============================] - 3s 2ms/step - loss: 0.0148 - accuracy: 0.9950\n",
      "Epoch 57/100\n",
      "1471/1471 [==============================] - 3s 2ms/step - loss: 0.0143 - accuracy: 0.9941\n",
      "Epoch 58/100\n",
      "1471/1471 [==============================] - 3s 2ms/step - loss: 0.0143 - accuracy: 0.9948\n",
      "Epoch 59/100\n",
      "1471/1471 [==============================] - 3s 2ms/step - loss: 0.0135 - accuracy: 0.9962\n",
      "Epoch 60/100\n",
      "1471/1471 [==============================] - 3s 2ms/step - loss: 0.0123 - accuracy: 0.9959\n",
      "Epoch 61/100\n",
      "1471/1471 [==============================] - 3s 2ms/step - loss: 0.0138 - accuracy: 0.9946\n",
      "Epoch 62/100\n",
      "1471/1471 [==============================] - 3s 2ms/step - loss: 0.0092 - accuracy: 0.9976\n",
      "Epoch 63/100\n",
      "1471/1471 [==============================] - 3s 2ms/step - loss: 0.0111 - accuracy: 0.9964\n",
      "Epoch 64/100\n",
      "1471/1471 [==============================] - 3s 2ms/step - loss: 0.0093 - accuracy: 0.9971\n",
      "Epoch 65/100\n",
      "1471/1471 [==============================] - 3s 2ms/step - loss: 0.0123 - accuracy: 0.9950\n",
      "Epoch 66/100\n",
      "1471/1471 [==============================] - 3s 2ms/step - loss: 0.0083 - accuracy: 0.9973\n",
      "Epoch 67/100\n",
      "1471/1471 [==============================] - 3s 2ms/step - loss: 0.0128 - accuracy: 0.9950: 0s\n",
      "Epoch 68/100\n",
      "1471/1471 [==============================] - 3s 2ms/step - loss: 0.0084 - accuracy: 0.9979\n",
      "Epoch 69/100\n",
      "1471/1471 [==============================] - 3s 2ms/step - loss: 0.0103 - accuracy: 0.9961\n",
      "Epoch 70/100\n",
      "1471/1471 [==============================] - 3s 2ms/step - loss: 0.0071 - accuracy: 0.9982\n",
      "Epoch 71/100\n",
      "1471/1471 [==============================] - 3s 2ms/step - loss: 0.0144 - accuracy: 0.9935\n",
      "Epoch 72/100\n",
      "1471/1471 [==============================] - 3s 2ms/step - loss: 0.0053 - accuracy: 0.9990\n",
      "Epoch 73/100\n",
      "1471/1471 [==============================] - 3s 2ms/step - loss: 0.0139 - accuracy: 0.9954\n",
      "Epoch 74/100\n",
      "1471/1471 [==============================] - 3s 2ms/step - loss: 0.0097 - accuracy: 0.9959\n",
      "Epoch 75/100\n",
      "1471/1471 [==============================] - 3s 2ms/step - loss: 0.0068 - accuracy: 0.9985\n",
      "Epoch 76/100\n",
      "1471/1471 [==============================] - 3s 2ms/step - loss: 0.0081 - accuracy: 0.9971\n",
      "Epoch 77/100\n",
      "1471/1471 [==============================] - 3s 2ms/step - loss: 0.0152 - accuracy: 0.9947\n",
      "Epoch 78/100\n",
      "1471/1471 [==============================] - 3s 2ms/step - loss: 0.0061 - accuracy: 0.9982\n",
      "Epoch 79/100\n"
     ]
    },
    {
     "name": "stdout",
     "output_type": "stream",
     "text": [
      "1471/1471 [==============================] - 3s 2ms/step - loss: 0.0069 - accuracy: 0.9977\n",
      "Epoch 80/100\n",
      "1471/1471 [==============================] - 3s 2ms/step - loss: 0.0114 - accuracy: 0.9956\n",
      "Epoch 81/100\n",
      "1471/1471 [==============================] - 2s 2ms/step - loss: 0.0062 - accuracy: 0.9982\n",
      "Epoch 82/100\n",
      "1471/1471 [==============================] - 3s 2ms/step - loss: 0.0065 - accuracy: 0.9972\n",
      "Epoch 83/100\n",
      "1471/1471 [==============================] - 3s 2ms/step - loss: 0.0094 - accuracy: 0.9972\n",
      "Epoch 84/100\n",
      "1471/1471 [==============================] - 3s 2ms/step - loss: 0.0062 - accuracy: 0.9984\n",
      "Epoch 85/100\n",
      "1471/1471 [==============================] - 3s 2ms/step - loss: 0.0077 - accuracy: 0.9973\n",
      "Epoch 86/100\n",
      "1471/1471 [==============================] - 3s 2ms/step - loss: 0.0148 - accuracy: 0.9940\n",
      "Epoch 87/100\n",
      "1471/1471 [==============================] - 3s 2ms/step - loss: 0.0082 - accuracy: 0.9974\n",
      "Epoch 88/100\n",
      "1471/1471 [==============================] - 3s 2ms/step - loss: 0.0061 - accuracy: 0.9976\n",
      "Epoch 89/100\n",
      "1471/1471 [==============================] - 3s 2ms/step - loss: 0.0080 - accuracy: 0.9968\n",
      "Epoch 90/100\n",
      "1471/1471 [==============================] - 3s 2ms/step - loss: 0.0142 - accuracy: 0.9943\n",
      "Epoch 91/100\n",
      "1471/1471 [==============================] - 3s 2ms/step - loss: 0.0034 - accuracy: 0.9989\n",
      "Epoch 92/100\n",
      "1471/1471 [==============================] - 3s 2ms/step - loss: 0.0148 - accuracy: 0.9945\n",
      "Epoch 93/100\n",
      "1471/1471 [==============================] - 3s 2ms/step - loss: 0.0034 - accuracy: 0.9992\n",
      "Epoch 94/100\n",
      "1471/1471 [==============================] - 3s 2ms/step - loss: 0.0074 - accuracy: 0.9976\n",
      "Epoch 95/100\n",
      "1471/1471 [==============================] - 3s 2ms/step - loss: 0.0057 - accuracy: 0.9974\n",
      "Epoch 96/100\n",
      "1471/1471 [==============================] - 3s 2ms/step - loss: 0.0071 - accuracy: 0.9976\n",
      "Epoch 97/100\n",
      "1471/1471 [==============================] - 3s 2ms/step - loss: 0.0066 - accuracy: 0.9977\n",
      "Epoch 98/100\n",
      "1471/1471 [==============================] - 3s 2ms/step - loss: 0.0048 - accuracy: 0.9987\n",
      "Epoch 99/100\n",
      "1471/1471 [==============================] - 3s 2ms/step - loss: 0.0107 - accuracy: 0.9946\n",
      "Epoch 100/100\n",
      "1471/1471 [==============================] - 3s 2ms/step - loss: 0.0071 - accuracy: 0.9978\n"
     ]
    },
    {
     "data": {
      "text/plain": [
       "<tensorflow.python.keras.callbacks.History at 0x24747c45710>"
      ]
     },
     "execution_count": 15,
     "metadata": {},
     "output_type": "execute_result"
    }
   ],
   "source": [
    "ann.fit(x_train, train_dep, batch_size = 5, epochs = 100)"
   ]
  },
  {
   "cell_type": "code",
   "execution_count": 16,
   "id": "wooden-turner",
   "metadata": {},
   "outputs": [],
   "source": [
    "y_pred = ann.predict(x_test)\n",
    "y_pred = (y_pred > 0.5)*1\n",
    "test_dep = test_dep.to_numpy()"
   ]
  },
  {
   "cell_type": "code",
   "execution_count": 17,
   "id": "covered-dialogue",
   "metadata": {},
   "outputs": [
    {
     "data": {
      "text/plain": [
       "0.9029521547336274"
      ]
     },
     "execution_count": 17,
     "metadata": {},
     "output_type": "execute_result"
    }
   ],
   "source": [
    "from sklearn.metrics import confusion_matrix, accuracy_score\n",
    "accuracy_score(test_dep, y_pred)"
   ]
  },
  {
   "cell_type": "code",
   "execution_count": null,
   "id": "extra-grocery",
   "metadata": {},
   "outputs": [],
   "source": []
  }
 ],
 "metadata": {
  "kernelspec": {
   "display_name": "Python 3",
   "language": "python",
   "name": "python3"
  },
  "language_info": {
   "codemirror_mode": {
    "name": "ipython",
    "version": 3
   },
   "file_extension": ".py",
   "mimetype": "text/x-python",
   "name": "python",
   "nbconvert_exporter": "python",
   "pygments_lexer": "ipython3",
   "version": "3.7.3"
  }
 },
 "nbformat": 4,
 "nbformat_minor": 5
}
