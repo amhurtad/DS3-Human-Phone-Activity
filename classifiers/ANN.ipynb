{
 "cells": [
  {
   "cell_type": "code",
   "execution_count": 85,
   "metadata": {},
   "outputs": [],
   "source": [
    "import pandas as pd\n",
    "import numpy as np\n",
    "import matplotlib.pyplot as plt\n",
    "import seaborn as sns\n",
    "from sklearn.ensemble import GradientBoostingClassifier\n",
    "from sklearn.model_selection import GridSearchCV, StratifiedKFold, cross_val_score\n",
    "from sklearn.metrics import accuracy_score, f1_score, precision_score\n",
    "import tensorflow as tf"
   ]
  },
  {
   "cell_type": "code",
   "execution_count": 86,
   "metadata": {},
   "outputs": [],
   "source": [
    "#loading in the datasets\n",
    "df_training = pd.read_csv('../data/archive/train_pca.csv')\n",
    "df_testing = pd.read_csv('../data/archive/test_pca.csv')"
   ]
  },
  {
   "cell_type": "code",
   "execution_count": 87,
   "metadata": {},
   "outputs": [],
   "source": [
    "#Just getting the X Variables\n",
    "x_train = df_training.iloc[:, :-1]\n",
    "\n",
    "\n",
    "x_test = df_testing.iloc[:, :-1]\n"
   ]
  },
  {
   "cell_type": "code",
   "execution_count": 88,
   "metadata": {},
   "outputs": [],
   "source": [
    "train_dep = pd.read_csv('../data/archive/train.csv')\n",
    "test_dep = pd.read_csv('../data/archive/test.csv')"
   ]
  },
  {
   "cell_type": "code",
   "execution_count": 89,
   "metadata": {},
   "outputs": [],
   "source": [
    "train_label = train_dep.iloc[:,-1]\n",
    "\n",
    "train_dep = train_dep.iloc[:,-1]\n",
    "test_dep = test_dep.iloc[:,-1]"
   ]
  },
  {
   "cell_type": "code",
   "execution_count": 90,
   "metadata": {},
   "outputs": [],
   "source": [
    "train_dep = pd.get_dummies(train_dep)\n",
    "test_dep = pd.get_dummies(test_dep)"
   ]
  },
  {
   "cell_type": "code",
   "execution_count": 91,
   "metadata": {},
   "outputs": [],
   "source": [
    "def build_model():\n",
    "    model = tf.keras.models.Sequential([\n",
    "        tf.keras.layers.Dense(units=15, input_dim = 40,  activation='relu'),\n",
    "        tf.keras.layers.Dense(units=40,  activation='relu'),\n",
    "        tf.keras.layers.Dense(units=6,  activation='softmax')])\n",
    "    model.compile(optimizer = 'adam', loss = 'categorical_crossentropy', metrics = ['accuracy'])\n",
    "    return model"
   ]
  },
  {
   "cell_type": "code",
   "execution_count": 92,
   "metadata": {},
   "outputs": [],
   "source": [
    "ann = build_model()"
   ]
  },
  {
   "cell_type": "code",
   "execution_count": 93,
   "metadata": {},
   "outputs": [
    {
     "name": "stdout",
     "output_type": "stream",
     "text": [
      "Epoch 1/100\n",
      "1471/1471 [==============================] - 1s 551us/step - loss: 0.8118 - accuracy: 0.6940\n",
      "Epoch 2/100\n",
      "1471/1471 [==============================] - 1s 547us/step - loss: 0.1520 - accuracy: 0.9412\n",
      "Epoch 3/100\n",
      "1471/1471 [==============================] - 1s 546us/step - loss: 0.1229 - accuracy: 0.9508\n",
      "Epoch 4/100\n",
      "1471/1471 [==============================] - 1s 552us/step - loss: 0.1162 - accuracy: 0.9532\n",
      "Epoch 5/100\n",
      "1471/1471 [==============================] - 1s 514us/step - loss: 0.0965 - accuracy: 0.9591\n",
      "Epoch 6/100\n",
      "1471/1471 [==============================] - 1s 502us/step - loss: 0.0939 - accuracy: 0.9650\n",
      "Epoch 7/100\n",
      "1471/1471 [==============================] - 1s 510us/step - loss: 0.0833 - accuracy: 0.9676\n",
      "Epoch 8/100\n",
      "1471/1471 [==============================] - 1s 509us/step - loss: 0.0769 - accuracy: 0.9693\n",
      "Epoch 9/100\n",
      "1471/1471 [==============================] - 1s 517us/step - loss: 0.0713 - accuracy: 0.9712\n",
      "Epoch 10/100\n",
      "1471/1471 [==============================] - 1s 513us/step - loss: 0.0673 - accuracy: 0.9747\n",
      "Epoch 11/100\n",
      "1471/1471 [==============================] - 1s 527us/step - loss: 0.0642 - accuracy: 0.9716\n",
      "Epoch 12/100\n",
      "1471/1471 [==============================] - 1s 512us/step - loss: 0.0633 - accuracy: 0.9729\n",
      "Epoch 13/100\n",
      "1471/1471 [==============================] - 1s 514us/step - loss: 0.0556 - accuracy: 0.9777\n",
      "Epoch 14/100\n",
      "1471/1471 [==============================] - 1s 502us/step - loss: 0.0559 - accuracy: 0.9776\n",
      "Epoch 15/100\n",
      "1471/1471 [==============================] - 1s 518us/step - loss: 0.0455 - accuracy: 0.9817\n",
      "Epoch 16/100\n",
      "1471/1471 [==============================] - 1s 521us/step - loss: 0.0510 - accuracy: 0.9804\n",
      "Epoch 17/100\n",
      "1471/1471 [==============================] - 1s 526us/step - loss: 0.0466 - accuracy: 0.9826\n",
      "Epoch 18/100\n",
      "1471/1471 [==============================] - 1s 523us/step - loss: 0.0516 - accuracy: 0.9784\n",
      "Epoch 19/100\n",
      "1471/1471 [==============================] - 1s 513us/step - loss: 0.0425 - accuracy: 0.9839\n",
      "Epoch 20/100\n",
      "1471/1471 [==============================] - 1s 505us/step - loss: 0.0428 - accuracy: 0.9823\n",
      "Epoch 21/100\n",
      "1471/1471 [==============================] - 1s 523us/step - loss: 0.0423 - accuracy: 0.9827\n",
      "Epoch 22/100\n",
      "1471/1471 [==============================] - 1s 493us/step - loss: 0.0408 - accuracy: 0.9836\n",
      "Epoch 23/100\n",
      "1471/1471 [==============================] - 1s 512us/step - loss: 0.0366 - accuracy: 0.9859\n",
      "Epoch 24/100\n",
      "1471/1471 [==============================] - 1s 522us/step - loss: 0.0333 - accuracy: 0.9877\n",
      "Epoch 25/100\n",
      "1471/1471 [==============================] - 1s 526us/step - loss: 0.0362 - accuracy: 0.9859\n",
      "Epoch 26/100\n",
      "1471/1471 [==============================] - 1s 520us/step - loss: 0.0333 - accuracy: 0.9871\n",
      "Epoch 27/100\n",
      "1471/1471 [==============================] - 1s 510us/step - loss: 0.0295 - accuracy: 0.9901\n",
      "Epoch 28/100\n",
      "1471/1471 [==============================] - 1s 504us/step - loss: 0.0246 - accuracy: 0.9911\n",
      "Epoch 29/100\n",
      "1471/1471 [==============================] - 1s 525us/step - loss: 0.0282 - accuracy: 0.9886\n",
      "Epoch 30/100\n",
      "1471/1471 [==============================] - 1s 533us/step - loss: 0.0302 - accuracy: 0.9897\n",
      "Epoch 31/100\n",
      "1471/1471 [==============================] - 1s 500us/step - loss: 0.0267 - accuracy: 0.9899\n",
      "Epoch 32/100\n",
      "1471/1471 [==============================] - 1s 540us/step - loss: 0.0236 - accuracy: 0.9919\n",
      "Epoch 33/100\n",
      "1471/1471 [==============================] - 1s 519us/step - loss: 0.0258 - accuracy: 0.9923\n",
      "Epoch 34/100\n",
      "1471/1471 [==============================] - 1s 510us/step - loss: 0.0248 - accuracy: 0.9914\n",
      "Epoch 35/100\n",
      "1471/1471 [==============================] - 1s 518us/step - loss: 0.0249 - accuracy: 0.9916\n",
      "Epoch 36/100\n",
      "1471/1471 [==============================] - 1s 554us/step - loss: 0.0216 - accuracy: 0.9931\n",
      "Epoch 37/100\n",
      "1471/1471 [==============================] - 1s 581us/step - loss: 0.0252 - accuracy: 0.9934\n",
      "Epoch 38/100\n",
      "1471/1471 [==============================] - 1s 558us/step - loss: 0.0196 - accuracy: 0.9911\n",
      "Epoch 39/100\n",
      "1471/1471 [==============================] - 1s 589us/step - loss: 0.0242 - accuracy: 0.9915\n",
      "Epoch 40/100\n",
      "1471/1471 [==============================] - 1s 590us/step - loss: 0.0236 - accuracy: 0.9888\n",
      "Epoch 41/100\n",
      "1471/1471 [==============================] - 1s 576us/step - loss: 0.0191 - accuracy: 0.9935\n",
      "Epoch 42/100\n",
      "1471/1471 [==============================] - 1s 564us/step - loss: 0.0170 - accuracy: 0.9941\n",
      "Epoch 43/100\n",
      "1471/1471 [==============================] - 1s 534us/step - loss: 0.0213 - accuracy: 0.9915\n",
      "Epoch 44/100\n",
      "1471/1471 [==============================] - 1s 519us/step - loss: 0.0168 - accuracy: 0.9943\n",
      "Epoch 45/100\n",
      "1471/1471 [==============================] - 1s 523us/step - loss: 0.0164 - accuracy: 0.9955\n",
      "Epoch 46/100\n",
      "1471/1471 [==============================] - 1s 584us/step - loss: 0.0183 - accuracy: 0.9945\n",
      "Epoch 47/100\n",
      "1471/1471 [==============================] - 1s 585us/step - loss: 0.0192 - accuracy: 0.9939\n",
      "Epoch 48/100\n",
      "1471/1471 [==============================] - 1s 557us/step - loss: 0.0169 - accuracy: 0.9940\n",
      "Epoch 49/100\n",
      "1471/1471 [==============================] - 1s 582us/step - loss: 0.0142 - accuracy: 0.9939\n",
      "Epoch 50/100\n",
      "1471/1471 [==============================] - 1s 594us/step - loss: 0.0169 - accuracy: 0.9939\n",
      "Epoch 51/100\n",
      "1471/1471 [==============================] - 1s 580us/step - loss: 0.0154 - accuracy: 0.9949\n",
      "Epoch 52/100\n",
      "1471/1471 [==============================] - 1s 513us/step - loss: 0.0173 - accuracy: 0.9939\n",
      "Epoch 53/100\n",
      "1471/1471 [==============================] - 1s 531us/step - loss: 0.0147 - accuracy: 0.9955\n",
      "Epoch 54/100\n",
      "1471/1471 [==============================] - 1s 525us/step - loss: 0.0148 - accuracy: 0.9950\n",
      "Epoch 55/100\n",
      "1471/1471 [==============================] - 1s 516us/step - loss: 0.0121 - accuracy: 0.9962\n",
      "Epoch 56/100\n",
      "1471/1471 [==============================] - 1s 518us/step - loss: 0.0121 - accuracy: 0.9962\n",
      "Epoch 57/100\n",
      "1471/1471 [==============================] - 1s 525us/step - loss: 0.0160 - accuracy: 0.9942\n",
      "Epoch 58/100\n",
      "1471/1471 [==============================] - 1s 517us/step - loss: 0.0141 - accuracy: 0.9955\n",
      "Epoch 59/100\n",
      "1471/1471 [==============================] - 1s 566us/step - loss: 0.0148 - accuracy: 0.9941\n",
      "Epoch 60/100\n",
      "1471/1471 [==============================] - 1s 543us/step - loss: 0.0102 - accuracy: 0.9967\n",
      "Epoch 61/100\n",
      "1471/1471 [==============================] - 1s 527us/step - loss: 0.0112 - accuracy: 0.9960\n",
      "Epoch 62/100\n",
      "1471/1471 [==============================] - 1s 527us/step - loss: 0.0123 - accuracy: 0.9946\n",
      "Epoch 63/100\n",
      "1471/1471 [==============================] - 1s 540us/step - loss: 0.0104 - accuracy: 0.9957\n",
      "Epoch 64/100\n",
      "1471/1471 [==============================] - 1s 550us/step - loss: 0.0118 - accuracy: 0.9947\n",
      "Epoch 65/100\n",
      "1471/1471 [==============================] - 1s 523us/step - loss: 0.0092 - accuracy: 0.9968\n",
      "Epoch 66/100\n",
      "1471/1471 [==============================] - 1s 543us/step - loss: 0.0080 - accuracy: 0.9978\n",
      "Epoch 67/100\n",
      "1471/1471 [==============================] - 1s 534us/step - loss: 0.0109 - accuracy: 0.9965\n",
      "Epoch 68/100\n",
      "1471/1471 [==============================] - 1s 520us/step - loss: 0.0151 - accuracy: 0.9938\n",
      "Epoch 69/100\n",
      "1471/1471 [==============================] - 1s 543us/step - loss: 0.0067 - accuracy: 0.9983\n",
      "Epoch 70/100\n",
      "1471/1471 [==============================] - 1s 530us/step - loss: 0.0079 - accuracy: 0.9975\n",
      "Epoch 71/100\n",
      "1471/1471 [==============================] - 1s 524us/step - loss: 0.0075 - accuracy: 0.9976\n",
      "Epoch 72/100\n",
      "1471/1471 [==============================] - 1s 567us/step - loss: 0.0099 - accuracy: 0.9962\n",
      "Epoch 73/100\n",
      "1471/1471 [==============================] - 1s 535us/step - loss: 0.0073 - accuracy: 0.9984\n",
      "Epoch 74/100\n",
      "1471/1471 [==============================] - 1s 578us/step - loss: 0.0057 - accuracy: 0.9990\n",
      "Epoch 75/100\n",
      "1471/1471 [==============================] - 1s 568us/step - loss: 0.0067 - accuracy: 0.9974\n",
      "Epoch 76/100\n",
      "1471/1471 [==============================] - 1s 580us/step - loss: 0.0084 - accuracy: 0.9982\n",
      "Epoch 77/100\n",
      "1471/1471 [==============================] - 1s 566us/step - loss: 0.0066 - accuracy: 0.9970\n",
      "Epoch 78/100\n"
     ]
    },
    {
     "name": "stdout",
     "output_type": "stream",
     "text": [
      "1471/1471 [==============================] - 1s 554us/step - loss: 0.0105 - accuracy: 0.9959\n",
      "Epoch 79/100\n",
      "1471/1471 [==============================] - 1s 588us/step - loss: 0.0035 - accuracy: 0.9991\n",
      "Epoch 80/100\n",
      "1471/1471 [==============================] - 1s 509us/step - loss: 0.0070 - accuracy: 0.9977\n",
      "Epoch 81/100\n",
      "1471/1471 [==============================] - 1s 548us/step - loss: 0.0041 - accuracy: 0.9987\n",
      "Epoch 82/100\n",
      "1471/1471 [==============================] - 1s 511us/step - loss: 0.0103 - accuracy: 0.9957\n",
      "Epoch 83/100\n",
      "1471/1471 [==============================] - 1s 526us/step - loss: 0.0078 - accuracy: 0.9968\n",
      "Epoch 84/100\n",
      "1471/1471 [==============================] - 1s 537us/step - loss: 0.0110 - accuracy: 0.9960\n",
      "Epoch 85/100\n",
      "1471/1471 [==============================] - 1s 528us/step - loss: 0.0028 - accuracy: 0.9996\n",
      "Epoch 86/100\n",
      "1471/1471 [==============================] - 1s 534us/step - loss: 0.0123 - accuracy: 0.9958\n",
      "Epoch 87/100\n",
      "1471/1471 [==============================] - 1s 545us/step - loss: 0.0041 - accuracy: 0.9985\n",
      "Epoch 88/100\n",
      "1471/1471 [==============================] - 1s 514us/step - loss: 0.0156 - accuracy: 0.9928\n",
      "Epoch 89/100\n",
      "1471/1471 [==============================] - 1s 550us/step - loss: 0.0043 - accuracy: 0.9989\n",
      "Epoch 90/100\n",
      "1471/1471 [==============================] - 1s 543us/step - loss: 0.0098 - accuracy: 0.9963\n",
      "Epoch 91/100\n",
      "1471/1471 [==============================] - 1s 521us/step - loss: 0.0063 - accuracy: 0.9984\n",
      "Epoch 92/100\n",
      "1471/1471 [==============================] - 1s 537us/step - loss: 0.0088 - accuracy: 0.9961\n",
      "Epoch 93/100\n",
      "1471/1471 [==============================] - 1s 534us/step - loss: 0.0110 - accuracy: 0.9970\n",
      "Epoch 94/100\n",
      "1471/1471 [==============================] - 1s 569us/step - loss: 0.0026 - accuracy: 0.9998\n",
      "Epoch 95/100\n",
      "1471/1471 [==============================] - 1s 517us/step - loss: 0.0147 - accuracy: 0.9954\n",
      "Epoch 96/100\n",
      "1471/1471 [==============================] - 1s 535us/step - loss: 0.0066 - accuracy: 0.9979\n",
      "Epoch 97/100\n",
      "1471/1471 [==============================] - 1s 513us/step - loss: 0.0060 - accuracy: 0.9974\n",
      "Epoch 98/100\n",
      "1471/1471 [==============================] - 1s 514us/step - loss: 0.0090 - accuracy: 0.9966\n",
      "Epoch 99/100\n",
      "1471/1471 [==============================] - 1s 534us/step - loss: 0.0063 - accuracy: 0.9976\n",
      "Epoch 100/100\n",
      "1471/1471 [==============================] - 1s 535us/step - loss: 0.0031 - accuracy: 0.9992\n"
     ]
    },
    {
     "data": {
      "text/plain": [
       "<tensorflow.python.keras.callbacks.History at 0x21600474940>"
      ]
     },
     "execution_count": 93,
     "metadata": {},
     "output_type": "execute_result"
    }
   ],
   "source": [
    "ann.fit(x_train, train_dep, batch_size = 5, epochs = 100)"
   ]
  },
  {
   "cell_type": "code",
   "execution_count": 94,
   "metadata": {},
   "outputs": [],
   "source": [
    "y_pred = ann.predict(x_test)\n",
    "y_pred = (y_pred > 0.5)*1\n",
    "test_dep = test_dep.to_numpy()"
   ]
  },
  {
   "cell_type": "code",
   "execution_count": 104,
   "metadata": {},
   "outputs": [
    {
     "data": {
      "text/plain": [
       "0.8992195453003053"
      ]
     },
     "execution_count": 104,
     "metadata": {},
     "output_type": "execute_result"
    }
   ],
   "source": [
    "from sklearn.metrics import confusion_matrix, accuracy_score\n",
    "accuracy_score(test_dep, y_pred)"
   ]
  },
  {
   "cell_type": "code",
   "execution_count": 106,
   "metadata": {},
   "outputs": [
    {
     "name": "stdout",
     "output_type": "stream",
     "text": [
      "207/207 [==============================] - 0s 523us/step - loss: 1.3713 - accuracy: 0.4786\n",
      "207/207 [==============================] - 0s 552us/step - loss: 1.3744 - accuracy: 0.4835\n",
      "207/207 [==============================] - 0s 540us/step - loss: 1.4480 - accuracy: 0.3854\n",
      "207/207 [==============================] - 0s 528us/step - loss: 1.2369 - accuracy: 0.4953\n",
      "207/207 [==============================] - 0s 532us/step - loss: 1.3625 - accuracy: 0.4145\n",
      "207/207 [==============================] - 1s 593us/step - loss: 1.2522 - accuracy: 0.5217\n",
      "207/207 [==============================] - 0s 654us/step - loss: 1.2490 - accuracy: 0.5561\n",
      "207/207 [==============================] - 0s 589us/step - loss: 1.5407 - accuracy: 0.4330\n",
      "207/207 [==============================] - 0s 616us/step - loss: 1.3088 - accuracy: 0.4698\n",
      "207/207 [==============================] - 0s 603us/step - loss: 1.3980 - accuracy: 0.4618\n"
     ]
    }
   ],
   "source": [
    "from tensorflow.keras.wrappers.scikit_learn import KerasClassifier\n",
    "def warn(*args, **kwargs):\n",
    "    pass\n",
    "import warnings\n",
    "warnings.warn = warn\n",
    "\n",
    "keras_clf = KerasClassifier(build_model)\n",
    "cross_val_accuracies = cross_val_score(estimator=keras_clf, scoring=\"accuracy\", \n",
    "    X=x_train, y=train_label, cv=10)"
   ]
  },
  {
   "cell_type": "code",
   "execution_count": null,
   "metadata": {},
   "outputs": [],
   "source": []
  }
 ],
 "metadata": {
  "kernelspec": {
   "display_name": "Python 3",
   "language": "python",
   "name": "python3"
  },
  "language_info": {
   "codemirror_mode": {
    "name": "ipython",
    "version": 3
   },
   "file_extension": ".py",
   "mimetype": "text/x-python",
   "name": "python",
   "nbconvert_exporter": "python",
   "pygments_lexer": "ipython3",
   "version": "3.8.5"
  }
 },
 "nbformat": 4,
 "nbformat_minor": 5
}
