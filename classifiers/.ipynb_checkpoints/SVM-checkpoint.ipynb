{
 "cells": [
  {
   "cell_type": "markdown",
   "metadata": {},
   "source": [
    "# SVM Classifier"
   ]
  },
  {
   "cell_type": "code",
<<<<<<< HEAD
   "execution_count": 1,
=======
   "execution_count": 56,
>>>>>>> main
   "metadata": {},
   "outputs": [],
   "source": [
    "import pandas as pd\n",
    "import numpy as np\n",
    "import matplotlib.pyplot as plt\n",
    "import seaborn as sns"
   ]
  },
  {
   "cell_type": "code",
<<<<<<< HEAD
   "execution_count": 2,
   "metadata": {},
   "outputs": [],
   "source": [
    "#loading in the datasets\n",
    "df_training = pd.read_csv('../data/archive/train_pca.csv')\n",
    "df_testing = pd.read_csv('../data/archive/test_pca.csv')"
=======
   "execution_count": 57,
   "metadata": {},
   "outputs": [],
   "source": [
    "#loading in original data sets\n",
    "df_training = pd.read_csv('../data/archive/train.csv')\n",
    "df_testing = pd.read_csv('../data/archive/test.csv')\n",
    "\n",
    "#loading in pca data sets\n",
    "df_training_pca = pd.read_csv('../data/archive/train_pca.csv')\n",
    "df_testing_pca = pd.read_csv('../data/archive/test_pca.csv')"
>>>>>>> main
   ]
  },
  {
   "cell_type": "code",
<<<<<<< HEAD
   "execution_count": 3,
   "metadata": {},
   "outputs": [],
   "source": [
    "# get the training and test data\n",
    "\n",
    "x_train = df_training.iloc[:, :-1]\n",
    "y_train = df_training.iloc[:,-1]\n",
    "\n",
    "x_test = df_testing.iloc[:, :-1]\n",
    "y_test = df_testing.iloc[:,-1]"
=======
   "execution_count": 75,
   "metadata": {},
   "outputs": [],
   "source": [
    "# get the normal training and test data\n",
    "\n",
    "x_train = df_training.iloc[:, :-2]\n",
    "y_train = df_training.iloc[:,-1]\n",
    "\n",
    "x_test = df_testing.iloc[:, :-2]\n",
    "y_test = df_testing.iloc[:,-1]\n",
    "\n",
    "# get the pca training and test data\n",
    "\n",
    "x_train_pca = df_training_pca.iloc[:, :-1]\n",
    "y_train_pca = df_training_pca.iloc[:,-1]\n",
    "\n",
    "x_test_pca = df_testing_pca.iloc[:, :-1]\n",
    "y_test_pca = df_testing_pca.iloc[:,-1]"
>>>>>>> main
   ]
  },
  {
   "cell_type": "code",
<<<<<<< HEAD
   "execution_count": 5,
   "metadata": {},
   "outputs": [],
   "source": [
    "# Setting up the classifier\n",
    "\n",
    "from sklearn import svm\n",
    "\n",
    "clf = svm.SVC(decision_function_shape='ovr')\n",
    "clf.fit(x_train, y_train)\n",
    "\n",
    "y_predict = clf.predict(x_test)"
=======
   "execution_count": 76,
   "metadata": {},
   "outputs": [],
   "source": [
    "# sklearn imports\n",
    "\n",
    "from sklearn import svm\n",
    "from sklearn import preprocessing\n",
    "from sklearn.model_selection import GridSearchCV\n",
    "import sklearn\n",
    "from sklearn.metrics import classification_report\n",
    "\n",
    "#sorted(sklearn.metrics.SCORERS.keys())"
   ]
  },
  {
   "cell_type": "code",
   "execution_count": 77,
   "metadata": {
    "scrolled": true
   },
   "outputs": [
    {
     "name": "stdout",
     "output_type": "stream",
     "text": [
      "# Tuning hyper-parameters for accuracy\n",
      "\n",
      "Best parameters set found on training set:\n",
      "\n",
      "{'C': 100, 'gamma': 0.0001, 'kernel': 'rbf'}\n",
      "\n",
      "Grid scores on training set:\n",
      "\n",
      "0.751 (+/-0.071) for {'C': 1, 'gamma': 0.001, 'kernel': 'rbf'}\n",
      "0.638 (+/-0.054) for {'C': 1, 'gamma': 0.0001, 'kernel': 'rbf'}\n",
      "0.766 (+/-0.062) for {'C': 10, 'gamma': 0.001, 'kernel': 'rbf'}\n",
      "0.752 (+/-0.072) for {'C': 10, 'gamma': 0.0001, 'kernel': 'rbf'}\n",
      "0.763 (+/-0.067) for {'C': 100, 'gamma': 0.001, 'kernel': 'rbf'}\n",
      "0.766 (+/-0.062) for {'C': 100, 'gamma': 0.0001, 'kernel': 'rbf'}\n",
      "0.761 (+/-0.066) for {'C': 1000, 'gamma': 0.001, 'kernel': 'rbf'}\n",
      "0.766 (+/-0.066) for {'C': 1000, 'gamma': 0.0001, 'kernel': 'rbf'}\n",
      "0.765 (+/-0.067) for {'C': 1, 'kernel': 'linear'}\n",
      "0.765 (+/-0.065) for {'C': 10, 'kernel': 'linear'}\n",
      "0.766 (+/-0.065) for {'C': 100, 'kernel': 'linear'}\n",
      "0.765 (+/-0.066) for {'C': 1000, 'kernel': 'linear'}\n",
      "\n",
      "Detailed classification report using best parameters:\n",
      "\n",
      "The model is trained on the training set.\n",
      "The scores are computed on the test set.\n",
      "\n",
      "              precision    recall  f1-score   support\n",
      "\n",
      "           1       0.89      0.77      0.82       537\n",
      "           2       0.52      0.43      0.47       532\n",
      "           3       0.38      0.52      0.44       491\n",
      "           4       0.59      0.89      0.71       496\n",
      "           5       0.89      0.67      0.76       471\n",
      "           6       0.58      0.37      0.45       420\n",
      "\n",
      "    accuracy                           0.61      2947\n",
      "   macro avg       0.64      0.61      0.61      2947\n",
      "weighted avg       0.64      0.61      0.61      2947\n",
      "\n",
      "\n",
      "# Tuning hyper-parameters for precision_micro\n",
      "\n",
      "Best parameters set found on training set:\n",
      "\n",
      "{'C': 100, 'gamma': 0.0001, 'kernel': 'rbf'}\n",
      "\n",
      "Grid scores on training set:\n",
      "\n",
      "0.751 (+/-0.071) for {'C': 1, 'gamma': 0.001, 'kernel': 'rbf'}\n",
      "0.638 (+/-0.054) for {'C': 1, 'gamma': 0.0001, 'kernel': 'rbf'}\n",
      "0.766 (+/-0.062) for {'C': 10, 'gamma': 0.001, 'kernel': 'rbf'}\n",
      "0.752 (+/-0.072) for {'C': 10, 'gamma': 0.0001, 'kernel': 'rbf'}\n",
      "0.763 (+/-0.067) for {'C': 100, 'gamma': 0.001, 'kernel': 'rbf'}\n",
      "0.766 (+/-0.062) for {'C': 100, 'gamma': 0.0001, 'kernel': 'rbf'}\n",
      "0.761 (+/-0.066) for {'C': 1000, 'gamma': 0.001, 'kernel': 'rbf'}\n",
      "0.766 (+/-0.066) for {'C': 1000, 'gamma': 0.0001, 'kernel': 'rbf'}\n",
      "0.765 (+/-0.067) for {'C': 1, 'kernel': 'linear'}\n",
      "0.765 (+/-0.065) for {'C': 10, 'kernel': 'linear'}\n",
      "0.766 (+/-0.065) for {'C': 100, 'kernel': 'linear'}\n",
      "0.765 (+/-0.066) for {'C': 1000, 'kernel': 'linear'}\n",
      "\n",
      "Detailed classification report using best parameters:\n",
      "\n",
      "The model is trained on the training set.\n",
      "The scores are computed on the test set.\n",
      "\n",
      "              precision    recall  f1-score   support\n",
      "\n",
      "           1       0.89      0.77      0.82       537\n",
      "           2       0.52      0.43      0.47       532\n",
      "           3       0.38      0.52      0.44       491\n",
      "           4       0.59      0.89      0.71       496\n",
      "           5       0.89      0.67      0.76       471\n",
      "           6       0.58      0.37      0.45       420\n",
      "\n",
      "    accuracy                           0.61      2947\n",
      "   macro avg       0.64      0.61      0.61      2947\n",
      "weighted avg       0.64      0.61      0.61      2947\n",
      "\n",
      "\n",
      "# Tuning hyper-parameters for f1_micro\n",
      "\n",
      "Best parameters set found on training set:\n",
      "\n",
      "{'C': 100, 'gamma': 0.0001, 'kernel': 'rbf'}\n",
      "\n",
      "Grid scores on training set:\n",
      "\n",
      "0.751 (+/-0.071) for {'C': 1, 'gamma': 0.001, 'kernel': 'rbf'}\n",
      "0.638 (+/-0.054) for {'C': 1, 'gamma': 0.0001, 'kernel': 'rbf'}\n",
      "0.766 (+/-0.062) for {'C': 10, 'gamma': 0.001, 'kernel': 'rbf'}\n",
      "0.752 (+/-0.072) for {'C': 10, 'gamma': 0.0001, 'kernel': 'rbf'}\n",
      "0.763 (+/-0.067) for {'C': 100, 'gamma': 0.001, 'kernel': 'rbf'}\n",
      "0.766 (+/-0.062) for {'C': 100, 'gamma': 0.0001, 'kernel': 'rbf'}\n",
      "0.761 (+/-0.066) for {'C': 1000, 'gamma': 0.001, 'kernel': 'rbf'}\n",
      "0.766 (+/-0.066) for {'C': 1000, 'gamma': 0.0001, 'kernel': 'rbf'}\n",
      "0.765 (+/-0.067) for {'C': 1, 'kernel': 'linear'}\n",
      "0.765 (+/-0.065) for {'C': 10, 'kernel': 'linear'}\n",
      "0.766 (+/-0.065) for {'C': 100, 'kernel': 'linear'}\n",
      "0.765 (+/-0.066) for {'C': 1000, 'kernel': 'linear'}\n",
      "\n",
      "Detailed classification report using best parameters:\n",
      "\n",
      "The model is trained on the training set.\n",
      "The scores are computed on the test set.\n",
      "\n",
      "              precision    recall  f1-score   support\n",
      "\n",
      "           1       0.89      0.77      0.82       537\n",
      "           2       0.52      0.43      0.47       532\n",
      "           3       0.38      0.52      0.44       491\n",
      "           4       0.59      0.89      0.71       496\n",
      "           5       0.89      0.67      0.76       471\n",
      "           6       0.58      0.37      0.45       420\n",
      "\n",
      "    accuracy                           0.61      2947\n",
      "   macro avg       0.64      0.61      0.61      2947\n",
      "weighted avg       0.64      0.61      0.61      2947\n",
      "\n",
      "\n"
     ]
    }
   ],
   "source": [
    "# hyper parameters to test: kernel, C, gamma\n",
    "\n",
    "# parameters to test\n",
    "param_grid = [{'kernel': ['rbf'], 'gamma': [1e-3, 1e-4],\n",
    "                     'C': [1, 10, 100, 1000]},\n",
    "                    {'kernel': ['linear'], 'C': [1, 10, 100, 1000]}]\n",
    "\n",
    "# scoring on accuracy, precicsion_micro and f1_micro\n",
    "scores = ['accuracy', 'precision_micro', 'f1_micro']\n",
    "for score in scores:\n",
    "    print(\"# Tuning hyper-parameters for %s\" % score)\n",
    "    print()\n",
    "    clf = GridSearchCV(\n",
    "        svm.SVC(), param_grid, scoring= score\n",
    "    )\n",
    "    clf.fit(x_train_pca, y_train_pca)\n",
    "\n",
    "    print(\"Best parameters set found on training set:\")\n",
    "    print()\n",
    "    print(clf.best_params_)\n",
    "    print()\n",
    "    print(\"Grid scores on training set:\")\n",
    "    print()\n",
    "    means = clf.cv_results_['mean_test_score']\n",
    "    stds = clf.cv_results_['std_test_score']\n",
    "    for mean, std, params in zip(means, stds, clf.cv_results_['params']):\n",
    "        print(\"%0.3f (+/-%0.03f) for %r\"\n",
    "                % (mean, std * 2, params))\n",
    "    print()\n",
    "\n",
    "    print(\"Detailed classification report using best parameters:\")\n",
    "    print()\n",
    "    print(\"The model is trained on the training set.\")\n",
    "    print(\"The scores are computed on the test set.\")\n",
    "    print()\n",
    "    y_true, y_pred = y_test_pca, clf.predict(x_test_pca)\n",
    "    print(classification_report(y_true, y_pred))\n",
    "    print()"
>>>>>>> main
   ]
  },
  {
   "cell_type": "code",
<<<<<<< HEAD
   "execution_count": 7,
=======
   "execution_count": 78,
>>>>>>> main
   "metadata": {},
   "outputs": [
    {
     "name": "stdout",
     "output_type": "stream",
     "text": [
<<<<<<< HEAD
      "0.6029860875466576\n"
=======
      "              precision    recall  f1-score   support\n",
      "\n",
      "           1       0.89      0.77      0.82       537\n",
      "           2       0.52      0.43      0.47       532\n",
      "           3       0.38      0.52      0.44       491\n",
      "           4       0.59      0.89      0.71       496\n",
      "           5       0.89      0.67      0.76       471\n",
      "           6       0.58      0.37      0.45       420\n",
      "\n",
      "    accuracy                           0.61      2947\n",
      "   macro avg       0.64      0.61      0.61      2947\n",
      "weighted avg       0.64      0.61      0.61      2947\n",
      "\n"
>>>>>>> main
     ]
    }
   ],
   "source": [
<<<<<<< HEAD
    "# Scoring\n",
    "\n",
    "from sklearn.metrics import accuracy_score\n",
    "accuracy = accuracy_score(y_test, y_predict)\n",
    "print(accuracy)"
=======
    "clf = svm.SVC(C= 100, gamma= 0.0001, kernel= 'rbf')\n",
    "clf.fit(x_train_pca, y_train_pca)\n",
    "\n",
    "y_true, y_pred = y_test_pca, clf.predict(x_test_pca)\n",
    "print(classification_report(y_true, y_pred))"
>>>>>>> main
   ]
  },
  {
   "cell_type": "code",
   "execution_count": null,
   "metadata": {},
   "outputs": [],
   "source": []
  }
 ],
 "metadata": {
  "kernelspec": {
   "display_name": "Python 3",
   "language": "python",
   "name": "python3"
  },
  "language_info": {
   "codemirror_mode": {
    "name": "ipython",
    "version": 3
   },
   "file_extension": ".py",
   "mimetype": "text/x-python",
   "name": "python",
   "nbconvert_exporter": "python",
   "pygments_lexer": "ipython3",
   "version": "3.8.5"
  }
 },
 "nbformat": 4,
 "nbformat_minor": 4
}
