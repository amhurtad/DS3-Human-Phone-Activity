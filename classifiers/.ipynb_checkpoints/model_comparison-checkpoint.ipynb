{
 "cells": [
  {
   "cell_type": "code",
   "execution_count": 25,
   "metadata": {},
   "outputs": [],
   "source": [
    "# imports for p-value and comparison testing\n",
    "\n",
    "import scipy\n",
    "from scipy.stats import ttest_rel\n",
    "import numpy as np\n",
    "import pandas as pd\n",
    "import pprint"
   ]
  },
  {
   "cell_type": "code",
   "execution_count": 17,
   "metadata": {},
   "outputs": [],
   "source": [
    "# read the results from the csv file\n",
    "results = pd.read_csv('classifier_results.csv')"
   ]
  },
  {
   "cell_type": "code",
   "execution_count": 18,
   "metadata": {},
   "outputs": [
    {
     "data": {
      "text/html": [
       "<div>\n",
       "<style scoped>\n",
       "    .dataframe tbody tr th:only-of-type {\n",
       "        vertical-align: middle;\n",
       "    }\n",
       "\n",
       "    .dataframe tbody tr th {\n",
       "        vertical-align: top;\n",
       "    }\n",
       "\n",
       "    .dataframe thead th {\n",
       "        text-align: right;\n",
       "    }\n",
       "</style>\n",
       "<table border=\"1\" class=\"dataframe\">\n",
       "  <thead>\n",
       "    <tr style=\"text-align: right;\">\n",
       "      <th></th>\n",
       "      <th>lg_acc</th>\n",
       "      <th>lg_f1</th>\n",
       "      <th>lg_prec</th>\n",
       "      <th>dt_acc</th>\n",
       "      <th>dt_f1</th>\n",
       "      <th>dt_prec</th>\n",
       "      <th>knn_acc</th>\n",
       "      <th>knn_f1</th>\n",
       "      <th>knn_prec</th>\n",
       "      <th>rf_acc</th>\n",
       "      <th>rf_f1</th>\n",
       "      <th>rf_prec</th>\n",
       "      <th>svm_acc</th>\n",
       "      <th>svm_f1</th>\n",
       "      <th>svm_prec</th>\n",
       "      <th>xgb_acc</th>\n",
       "      <th>xgb_f1</th>\n",
       "      <th>xgb_prec</th>\n",
       "    </tr>\n",
       "  </thead>\n",
       "  <tbody>\n",
       "    <tr>\n",
       "      <th>0</th>\n",
       "      <td>0.922294</td>\n",
       "      <td>0.922294</td>\n",
       "      <td>0.922633</td>\n",
       "      <td>0.824228</td>\n",
       "      <td>0.825585</td>\n",
       "      <td>0.796403</td>\n",
       "      <td>0.885307</td>\n",
       "      <td>0.885307</td>\n",
       "      <td>0.885307</td>\n",
       "      <td>0.897184</td>\n",
       "      <td>0.893451</td>\n",
       "      <td>0.902273</td>\n",
       "      <td>0.945029</td>\n",
       "      <td>0.945029</td>\n",
       "      <td>0.945029</td>\n",
       "      <td>0.899898</td>\n",
       "      <td>0.899898</td>\n",
       "      <td>0.899898</td>\n",
       "    </tr>\n",
       "    <tr>\n",
       "      <th>1</th>\n",
       "      <td>0.922633</td>\n",
       "      <td>0.922633</td>\n",
       "      <td>0.922633</td>\n",
       "      <td>0.825925</td>\n",
       "      <td>0.824907</td>\n",
       "      <td>0.797421</td>\n",
       "      <td>0.876824</td>\n",
       "      <td>0.876824</td>\n",
       "      <td>0.876824</td>\n",
       "      <td>0.893451</td>\n",
       "      <td>0.892772</td>\n",
       "      <td>0.894130</td>\n",
       "      <td>0.945029</td>\n",
       "      <td>0.945029</td>\n",
       "      <td>0.945029</td>\n",
       "      <td>0.901595</td>\n",
       "      <td>0.901595</td>\n",
       "      <td>0.901595</td>\n",
       "    </tr>\n",
       "    <tr>\n",
       "      <th>2</th>\n",
       "      <td>0.922633</td>\n",
       "      <td>0.922633</td>\n",
       "      <td>0.922633</td>\n",
       "      <td>0.831015</td>\n",
       "      <td>0.831015</td>\n",
       "      <td>0.797421</td>\n",
       "      <td>0.851714</td>\n",
       "      <td>0.851714</td>\n",
       "      <td>0.851714</td>\n",
       "      <td>0.894469</td>\n",
       "      <td>0.901256</td>\n",
       "      <td>0.904309</td>\n",
       "      <td>0.947065</td>\n",
       "      <td>0.947065</td>\n",
       "      <td>0.947065</td>\n",
       "      <td>0.904309</td>\n",
       "      <td>0.904309</td>\n",
       "      <td>0.904309</td>\n",
       "    </tr>\n",
       "    <tr>\n",
       "      <th>3</th>\n",
       "      <td>0.922633</td>\n",
       "      <td>0.922633</td>\n",
       "      <td>0.922633</td>\n",
       "      <td>0.831015</td>\n",
       "      <td>0.829997</td>\n",
       "      <td>0.796403</td>\n",
       "      <td>0.887343</td>\n",
       "      <td>0.887343</td>\n",
       "      <td>0.887343</td>\n",
       "      <td>0.899898</td>\n",
       "      <td>0.890736</td>\n",
       "      <td>0.892433</td>\n",
       "      <td>0.945029</td>\n",
       "      <td>0.945029</td>\n",
       "      <td>0.945029</td>\n",
       "      <td>0.896844</td>\n",
       "      <td>0.896844</td>\n",
       "      <td>0.896844</td>\n",
       "    </tr>\n",
       "    <tr>\n",
       "      <th>4</th>\n",
       "      <td>0.922294</td>\n",
       "      <td>0.922294</td>\n",
       "      <td>0.922633</td>\n",
       "      <td>0.824567</td>\n",
       "      <td>0.825585</td>\n",
       "      <td>0.796403</td>\n",
       "      <td>0.887343</td>\n",
       "      <td>0.887343</td>\n",
       "      <td>0.887343</td>\n",
       "      <td>0.895487</td>\n",
       "      <td>0.899220</td>\n",
       "      <td>0.892772</td>\n",
       "      <td>0.945029</td>\n",
       "      <td>0.945029</td>\n",
       "      <td>0.945029</td>\n",
       "      <td>0.900916</td>\n",
       "      <td>0.900916</td>\n",
       "      <td>0.900916</td>\n",
       "    </tr>\n",
       "  </tbody>\n",
       "</table>\n",
       "</div>"
      ],
      "text/plain": [
       "     lg_acc     lg_f1   lg_prec    dt_acc     dt_f1   dt_prec   knn_acc  \\\n",
       "0  0.922294  0.922294  0.922633  0.824228  0.825585  0.796403  0.885307   \n",
       "1  0.922633  0.922633  0.922633  0.825925  0.824907  0.797421  0.876824   \n",
       "2  0.922633  0.922633  0.922633  0.831015  0.831015  0.797421  0.851714   \n",
       "3  0.922633  0.922633  0.922633  0.831015  0.829997  0.796403  0.887343   \n",
       "4  0.922294  0.922294  0.922633  0.824567  0.825585  0.796403  0.887343   \n",
       "\n",
       "     knn_f1  knn_prec    rf_acc     rf_f1   rf_prec   svm_acc    svm_f1  \\\n",
       "0  0.885307  0.885307  0.897184  0.893451  0.902273  0.945029  0.945029   \n",
       "1  0.876824  0.876824  0.893451  0.892772  0.894130  0.945029  0.945029   \n",
       "2  0.851714  0.851714  0.894469  0.901256  0.904309  0.947065  0.947065   \n",
       "3  0.887343  0.887343  0.899898  0.890736  0.892433  0.945029  0.945029   \n",
       "4  0.887343  0.887343  0.895487  0.899220  0.892772  0.945029  0.945029   \n",
       "\n",
       "   svm_prec   xgb_acc    xgb_f1  xgb_prec  \n",
       "0  0.945029  0.899898  0.899898  0.899898  \n",
       "1  0.945029  0.901595  0.901595  0.901595  \n",
       "2  0.947065  0.904309  0.904309  0.904309  \n",
       "3  0.945029  0.896844  0.896844  0.896844  \n",
       "4  0.945029  0.900916  0.900916  0.900916  "
      ]
     },
     "execution_count": 18,
     "metadata": {},
     "output_type": "execute_result"
    }
   ],
   "source": [
    "results"
   ]
  },
  {
   "cell_type": "code",
   "execution_count": 19,
   "metadata": {},
   "outputs": [
    {
     "data": {
      "text/plain": [
       "array([0.92240697, 0.92263319, 0.92263319, 0.92263319, 0.92240697])"
      ]
     },
     "execution_count": 19,
     "metadata": {},
     "output_type": "execute_result"
    }
   ],
   "source": [
    "# function to create the mean array for each model, pass in abbreviation of the model\n",
    "# lg = logistic regression\n",
    "# dt = decision tree\n",
    "# knn = k nearest neighbours\n",
    "# rf = random forest\n",
    "# svm = support vector machine\n",
    "# xgb = XGradientBoost\n",
    "\n",
    "def create_mean_arr(model):\n",
    "    accuracy = model + \"_acc\"\n",
    "    f1 = model + \"_f1\"\n",
    "    precision = model + \"_prec\"\n",
    "    mean_arr = []\n",
    "    for i in range(5):\n",
    "        mean = np.mean([results.get(accuracy).iloc[i],results.get(f1).iloc[i],results.get(precision).iloc[i]])\n",
    "        mean_arr = np.append(mean_arr, mean)\n",
    "    return mean_arr\n",
    "\n",
    "create_mean_arr(\"lg\")"
   ]
  },
  {
   "cell_type": "code",
   "execution_count": 20,
   "metadata": {},
   "outputs": [],
   "source": [
    "# function to compare one model to all the others based on given statistic, returns dictionary with p-values\n",
    "\n",
    "def compare_all(model, stat):\n",
    "    all_models = [\"lg\", \"dt\", \"knn\", \"rf\", \"svm\", \"xgb\"]\n",
    "    all_models.remove(model)\n",
    "    statistic = model + \"_\" + stat\n",
    "    model_val = results.get(statistic)\n",
    "    comparisons = {}\n",
    "    for to_compare in all_models:\n",
    "        to_compare_stat = to_compare + \"_\" + stat\n",
    "        to_compare_val = results.get(to_compare_stat)\n",
    "        comparisons[model + \" vs. \" + to_compare + \" in \" + stat] = scipy.stats.ttest_rel(model_val, to_compare_val)\n",
    "    return comparisons\n",
    "\n",
    "# function that compares one model to all others based on average of scores\n",
    "\n",
    "def compare_all_mean(model):\n",
    "    all_models = [\"lg\", \"dt\", \"knn\", \"rf\", \"svm\", \"xgb\"]\n",
    "    all_models.remove(model)\n",
    "    model_stats = create_mean_arr(model)\n",
    "    comparisons = {}\n",
    "    for to_compare in all_models:\n",
    "        to_compare_stats = create_mean_arr(to_compare)\n",
    "        comparisons[model + \" vs. \" + to_compare] = scipy.stats.ttest_rel(model_stats, to_compare_stats)\n",
    "    return comparisons\n",
    "\n",
    "svm_comparisons = compare_all_mean(\"svm\")\n",
    "xg_boost_acc = compare_all(\"xgb\", \"acc\")"
   ]
  },
  {
   "cell_type": "code",
   "execution_count": 36,
   "metadata": {},
   "outputs": [],
   "source": [
    "def final_results(model):\n",
    "    print(\"Accuracy:\")\n",
    "    pprint.pprint(compare_all(model, \"acc\"))\n",
    "    print(\"F1:\")\n",
    "    pprint.pprint(compare_all(model, \"f1\"))\n",
    "    print(\"Precision:\")\n",
    "    pprint.pprint(compare_all(model, \"prec\"))\n",
    "    print(\"Averaged Meterics:\")\n",
    "    pprint.pprint(compare_all_mean(model))"
   ]
  },
  {
   "cell_type": "markdown",
   "metadata": {},
   "source": [
    "# XGBoost Comparisons"
   ]
  },
  {
   "cell_type": "code",
   "execution_count": 37,
   "metadata": {},
   "outputs": [
    {
     "name": "stdout",
     "output_type": "stream",
     "text": [
      "Accuracy:\n",
      "{'xgb vs. dt in acc': Ttest_relResult(statistic=37.556009261196344, pvalue=3.001812375048026e-06),\n",
      " 'xgb vs. knn in acc': Ttest_relResult(statistic=2.9446549216358995, pvalue=0.042193125203644634),\n",
      " 'xgb vs. lg in acc': Ttest_relResult(statistic=-18.057660742316973, pvalue=5.529399198600825e-05),\n",
      " 'xgb vs. rf in acc': Ttest_relResult(statistic=2.0350709232588255, pvalue=0.11156717671568189),\n",
      " 'xgb vs. svm in acc': Ttest_relResult(statistic=-47.07142853155654, pvalue=1.2184736952974837e-06)}\n",
      "F1:\n",
      "{'xgb vs. dt in f1': Ttest_relResult(statistic=42.943109842946704, pvalue=1.7579595958235945e-06),\n",
      " 'xgb vs. knn in f1': Ttest_relResult(statistic=2.9446549216358995, pvalue=0.042193125203644634),\n",
      " 'xgb vs. lg in f1': Ttest_relResult(statistic=-18.057660742316973, pvalue=5.529399198600825e-05),\n",
      " 'xgb vs. rf in f1': Ttest_relResult(statistic=4.107031792405998, pvalue=0.014767907352728685),\n",
      " 'xgb vs. svm in f1': Ttest_relResult(statistic=-47.07142853155654, pvalue=1.2184736952974837e-06)}\n",
      "Precision:\n",
      "{'xgb vs. dt in prec': Ttest_relResult(statistic=100.19170031561991, pvalue=5.950259343806268e-08),\n",
      " 'xgb vs. knn in prec': Ttest_relResult(statistic=2.9446549216358995, pvalue=0.042193125203644634),\n",
      " 'xgb vs. lg in prec': Ttest_relResult(statistic=-18.084528037860846, pvalue=5.496943124269164e-05),\n",
      " 'xgb vs. rf in prec': Ttest_relResult(statistic=1.712993341592518, pvalue=0.1618723425796218),\n",
      " 'xgb vs. svm in prec': Ttest_relResult(statistic=-47.07142853155654, pvalue=1.2184736952974837e-06)}\n",
      "Averaged Meterics:\n",
      "{'xgb vs. dt': Ttest_relResult(statistic=56.840374374046235, pvalue=5.736247955185587e-07),\n",
      " 'xgb vs. knn': Ttest_relResult(statistic=2.944654921635914, pvalue=0.04219312520364401),\n",
      " 'xgb vs. lg': Ttest_relResult(statistic=-18.076106094705167, pvalue=5.507091317989213e-05),\n",
      " 'xgb vs. rf': Ttest_relResult(statistic=4.1820341798582685, pvalue=0.013895478971996097),\n",
      " 'xgb vs. svm': Ttest_relResult(statistic=-47.071428531556734, pvalue=1.2184736952974621e-06)}\n"
     ]
    }
   ],
   "source": [
    "final_results('xgb')"
   ]
  },
  {
   "cell_type": "markdown",
   "metadata": {},
   "source": [
    "# Logistic Regression Comparisons"
   ]
  },
  {
   "cell_type": "code",
   "execution_count": 38,
   "metadata": {},
   "outputs": [
    {
     "name": "stdout",
     "output_type": "stream",
     "text": [
      "Accuracy:\n",
      "{'lg vs. dt in acc': Ttest_relResult(statistic=65.26226761097134, pvalue=3.3023502765800975e-07),\n",
      " 'lg vs. knn in acc': Ttest_relResult(statistic=6.5623742307238695, pvalue=0.0027893188188242413),\n",
      " 'lg vs. rf in acc': Ttest_relResult(statistic=23.103249584593954, pvalue=2.0799553596455053e-05),\n",
      " 'lg vs. svm in acc': Ttest_relResult(statistic=-60.222865669142145, pvalue=4.5531053085491875e-07),\n",
      " 'lg vs. xgb in acc': Ttest_relResult(statistic=18.057660742316973, pvalue=5.529399198600825e-05)}\n",
      "F1:\n",
      "{'lg vs. dt in f1': Ttest_relResult(statistic=77.2983900049269, pvalue=1.6787462172071523e-07),\n",
      " 'lg vs. knn in f1': Ttest_relResult(statistic=6.5623742307238695, pvalue=0.0027893188188242413),\n",
      " 'lg vs. rf in f1': Ttest_relResult(statistic=13.292538414299225, pvalue=0.00018514353616195348),\n",
      " 'lg vs. svm in f1': Ttest_relResult(statistic=-60.222865669142145, pvalue=4.5531053085491875e-07),\n",
      " 'lg vs. xgb in f1': Ttest_relResult(statistic=18.057660742316973, pvalue=5.529399198600825e-05)}\n",
      "Precision:\n",
      "{'lg vs. dt in prec': Ttest_relResult(statistic=504.59488260193666, pvalue=9.254831416799953e-11),\n",
      " 'lg vs. knn in prec': Ttest_relResult(statistic=6.624473041700368, pvalue=0.002693331863656768),\n",
      " 'lg vs. rf in prec': Ttest_relResult(statistic=10.058283339215112, pvalue=0.0005494977879060405),\n",
      " 'lg vs. svm in prec': Ttest_relResult(statistic=-55.99999950883657, pvalue=6.088025688921337e-07),\n",
      " 'lg vs. xgb in prec': Ttest_relResult(statistic=18.084528037860846, pvalue=5.496943124269164e-05)}\n",
      "Averaged Meterics:\n",
      "{'lg vs. dt': Ttest_relResult(statistic=116.37046381019846, pvalue=3.2701405554434564e-08),\n",
      " 'lg vs. knn': Ttest_relResult(statistic=6.5830648172029775, pvalue=0.002756875989885347),\n",
      " 'lg vs. rf': Ttest_relResult(statistic=22.152429722681227, pvalue=2.4580387509654324e-05),\n",
      " 'lg vs. svm': Ttest_relResult(statistic=-59.02103778902338, pvalue=4.935068566923435e-07),\n",
      " 'lg vs. xgb': Ttest_relResult(statistic=18.076106094705167, pvalue=5.507091317989213e-05)}\n"
     ]
    }
   ],
   "source": [
    "final_results('lg')"
   ]
  },
  {
   "cell_type": "markdown",
   "metadata": {},
   "source": [
    "# SVM Comparisons"
   ]
  },
  {
   "cell_type": "code",
   "execution_count": 39,
   "metadata": {},
   "outputs": [
    {
     "name": "stdout",
     "output_type": "stream",
     "text": [
      "Accuracy:\n",
      "{'svm vs. dt in acc': Ttest_relResult(statistic=89.55519234540664, pvalue=9.320243290052336e-08),\n",
      " 'svm vs. knn in acc': Ttest_relResult(statistic=9.442234823450509, pvalue=0.0007015454243357284),\n",
      " 'svm vs. lg in acc': Ttest_relResult(statistic=60.222865669142145, pvalue=4.5531053085491875e-07),\n",
      " 'svm vs. rf in acc': Ttest_relResult(statistic=36.97938300283138, pvalue=3.1929955379803203e-06),\n",
      " 'svm vs. xgb in acc': Ttest_relResult(statistic=47.07142853155654, pvalue=1.2184736952974837e-06)}\n",
      "F1:\n",
      "{'svm vs. dt in f1': Ttest_relResult(statistic=114.41780039385031, pvalue=3.499095092560624e-08),\n",
      " 'svm vs. knn in f1': Ttest_relResult(statistic=9.442234823450509, pvalue=0.0007015454243357284),\n",
      " 'svm vs. lg in f1': Ttest_relResult(statistic=60.222865669142145, pvalue=4.5531053085491875e-07),\n",
      " 'svm vs. rf in f1': Ttest_relResult(statistic=28.57309922632602, pvalue=8.928609481773407e-06),\n",
      " 'svm vs. xgb in f1': Ttest_relResult(statistic=47.07142853155654, pvalue=1.2184736952974837e-06)}\n",
      "Precision:\n",
      "{'svm vs. dt in prec': Ttest_relResult(statistic=461.69253434627245, pvalue=1.3204630706850588e-10),\n",
      " 'svm vs. knn in prec': Ttest_relResult(statistic=9.442234823450509, pvalue=0.0007015454243357284),\n",
      " 'svm vs. lg in prec': Ttest_relResult(statistic=55.99999950883657, pvalue=6.088025688921337e-07),\n",
      " 'svm vs. rf in prec': Ttest_relResult(statistic=21.331066482497427, pvalue=2.8560416449993804e-05),\n",
      " 'svm vs. xgb in prec': Ttest_relResult(statistic=47.07142853155654, pvalue=1.2184736952974837e-06)}\n",
      "Averaged Meterics:\n",
      "{'svm vs. dt': Ttest_relResult(statistic=176.76826942083483, pvalue=6.143860654207963e-09),\n",
      " 'svm vs. knn': Ttest_relResult(statistic=9.44223482345051, pvalue=0.0007015454243357278),\n",
      " 'svm vs. lg': Ttest_relResult(statistic=59.02103778902338, pvalue=4.935068566923435e-07),\n",
      " 'svm vs. rf': Ttest_relResult(statistic=55.51593357358502, pvalue=6.302920491569847e-07),\n",
      " 'svm vs. xgb': Ttest_relResult(statistic=47.071428531556734, pvalue=1.2184736952974621e-06)}\n"
     ]
    }
   ],
   "source": [
    "final_results('svm')"
   ]
  },
  {
   "cell_type": "code",
   "execution_count": null,
   "metadata": {},
   "outputs": [],
   "source": []
  }
 ],
 "metadata": {
  "kernelspec": {
   "display_name": "Python 3",
   "language": "python",
   "name": "python3"
  },
  "language_info": {
   "codemirror_mode": {
    "name": "ipython",
    "version": 3
   },
   "file_extension": ".py",
   "mimetype": "text/x-python",
   "name": "python",
   "nbconvert_exporter": "python",
   "pygments_lexer": "ipython3",
   "version": "3.8.5"
  }
 },
 "nbformat": 4,
 "nbformat_minor": 4
}
