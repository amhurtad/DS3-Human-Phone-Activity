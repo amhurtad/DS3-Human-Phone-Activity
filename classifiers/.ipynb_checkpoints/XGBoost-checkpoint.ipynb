{
 "cells": [
  {
   "cell_type": "markdown",
   "metadata": {},
   "source": [
    "# XGBoost Classifier without PCA"
   ]
  },
  {
   "cell_type": "markdown",
   "metadata": {},
   "source": [
    "# XGBoost Classifier with PCA"
   ]
  },
  {
   "cell_type": "code",
   "execution_count": 1,
   "metadata": {},
   "outputs": [],
   "source": [
    "import pandas as pd\n",
    "import numpy as np\n",
    "import matplotlib.pyplot as plt\n",
    "import seaborn as sns\n",
    "import xgboost as xgb\n",
    "from xgboost import XGBClassifier\n",
    "from sklearn.model_selection import GridSearchCV, StratifiedKFold\n",
    "from sklearn.metrics import accuracy_score, f1_score, precision_score"
   ]
  },
  {
   "cell_type": "code",
   "execution_count": 2,
   "metadata": {},
   "outputs": [],
   "source": [
    "#loading in the datasets\n",
    "df_training = pd.read_csv('../data/archive/train_pca.csv')\n",
    "df_testing = pd.read_csv('../data/archive/test_pca.csv')"
   ]
  },
  {
   "cell_type": "code",
   "execution_count": 3,
   "metadata": {},
   "outputs": [],
   "source": [
    "#Separating X and y training and testing\n",
    "x_train_full = df_training.iloc[:, :-1]\n",
    "y_train_full = df_training.iloc[:,-1]\n",
    "\n",
    "x_test = df_testing.iloc[:, :-1]\n",
    "y_test = df_testing.iloc[:,-1]"
   ]
  },
  {
   "cell_type": "code",
   "execution_count": 4,
   "metadata": {},
   "outputs": [],
   "source": [
    "#getting all of our randomized samples from the training\n",
    "all_samples = []\n",
    "\n",
    "for sample in range(0,5):\n",
    "    all_samples.append(df_training.sample(n=5000, replace= True))"
   ]
  },
  {
   "cell_type": "code",
   "execution_count": 5,
   "metadata": {},
   "outputs": [],
   "source": [
    "#Making a grid of values we want our grid search to test to find the best parameters\n",
    "grid_values =[{'n_estimators': [10, 100, 1000], 'learning_rate': [0.15, 0.2, 0.1, 0.01], 'max_depth':list(range(1,20,4))}]"
   ]
  },
  {
   "cell_type": "code",
   "execution_count": 6,
   "metadata": {},
   "outputs": [],
   "source": [
    "def warn(*args, **kwargs):\n",
    "    pass\n",
    "import warnings\n",
    "warnings.warn = warn\n",
    "\n",
    "#initializing our lists so we can later store the best params that achieve best scores across metrics\n",
    "accuracy_best_params = []\n",
    "f1_best_params = []\n",
    "precision_best_params = []\n",
    "\n",
    "\n",
    "for sample in all_samples:\n",
    "    xgb = XGBClassifier(eval_metric='mlogloss')\n",
    "    xgb_classifier = GridSearchCV(estimator = xgb, param_grid = grid_values, cv = StratifiedKFold(n_splits = 3),\n",
    "                      scoring = ['accuracy', 'precision_micro', 'f1_micro'], refit = False, verbose = 0)\n",
    "    \n",
    "    x_train = sample.iloc[:, :-1]\n",
    "    y_train = sample.iloc[:,-1]\n",
    "    \n",
    "    xgb_model = xgb_classifier.fit(x_train, y_train)\n",
    "    \n",
    "    accuracy_best_params.append(xgb_model.cv_results_['params'][ np.argmin(xgb_model.cv_results_['rank_test_accuracy'])])\n",
    "    f1_best_params.append(xgb_model.cv_results_['params'][ np.argmin(xgb_model.cv_results_['rank_test_f1_micro'])])\n",
    "    precision_best_params.append(xgb_model.cv_results_['params'][ np.argmin(xgb_model.cv_results_['rank_test_precision_micro'])])"
   ]
  },
  {
   "cell_type": "code",
   "execution_count": 7,
   "metadata": {},
   "outputs": [
    {
     "data": {
      "text/plain": [
       "[{'learning_rate': 0.15, 'max_depth': 17, 'n_estimators': 1000},\n",
       " {'learning_rate': 0.15, 'max_depth': 9, 'n_estimators': 1000},\n",
       " {'learning_rate': 0.15, 'max_depth': 5, 'n_estimators': 1000},\n",
       " {'learning_rate': 0.2, 'max_depth': 5, 'n_estimators': 1000},\n",
       " {'learning_rate': 0.1, 'max_depth': 5, 'n_estimators': 1000}]"
      ]
     },
     "execution_count": 7,
     "metadata": {},
     "output_type": "execute_result"
    }
   ],
   "source": [
    "accuracy_best_params"
   ]
  },
  {
   "cell_type": "code",
   "execution_count": 8,
   "metadata": {},
   "outputs": [
    {
     "data": {
      "text/plain": [
       "[{'learning_rate': 0.15, 'max_depth': 17, 'n_estimators': 1000},\n",
       " {'learning_rate': 0.15, 'max_depth': 9, 'n_estimators': 1000},\n",
       " {'learning_rate': 0.15, 'max_depth': 5, 'n_estimators': 1000},\n",
       " {'learning_rate': 0.2, 'max_depth': 5, 'n_estimators': 1000},\n",
       " {'learning_rate': 0.1, 'max_depth': 5, 'n_estimators': 1000}]"
      ]
     },
     "execution_count": 8,
     "metadata": {},
     "output_type": "execute_result"
    }
   ],
   "source": [
    "f1_best_params"
   ]
  },
  {
   "cell_type": "code",
   "execution_count": 9,
   "metadata": {},
   "outputs": [
    {
     "data": {
      "text/plain": [
       "[{'learning_rate': 0.15, 'max_depth': 17, 'n_estimators': 1000},\n",
       " {'learning_rate': 0.15, 'max_depth': 9, 'n_estimators': 1000},\n",
       " {'learning_rate': 0.15, 'max_depth': 5, 'n_estimators': 1000},\n",
       " {'learning_rate': 0.2, 'max_depth': 5, 'n_estimators': 1000},\n",
       " {'learning_rate': 0.1, 'max_depth': 5, 'n_estimators': 1000}]"
      ]
     },
     "execution_count": 9,
     "metadata": {},
     "output_type": "execute_result"
    }
   ],
   "source": [
    "precision_best_params"
   ]
  },
  {
   "cell_type": "code",
   "execution_count": 11,
   "metadata": {},
   "outputs": [
    {
     "name": "stdout",
     "output_type": "stream",
     "text": [
      "[09:46:43] WARNING: C:/Users/Administrator/workspace/xgboost-win64_release_1.4.0/src/learner.cc:1095: Starting in XGBoost 1.3.0, the default evaluation metric used with the objective 'multi:softprob' was changed from 'merror' to 'mlogloss'. Explicitly set eval_metric if you'd like to restore the old behavior.\n",
      "[09:46:55] WARNING: C:/Users/Administrator/workspace/xgboost-win64_release_1.4.0/src/learner.cc:1095: Starting in XGBoost 1.3.0, the default evaluation metric used with the objective 'multi:softprob' was changed from 'merror' to 'mlogloss'. Explicitly set eval_metric if you'd like to restore the old behavior.\n",
      "[09:47:08] WARNING: C:/Users/Administrator/workspace/xgboost-win64_release_1.4.0/src/learner.cc:1095: Starting in XGBoost 1.3.0, the default evaluation metric used with the objective 'multi:softprob' was changed from 'merror' to 'mlogloss'. Explicitly set eval_metric if you'd like to restore the old behavior.\n",
      "[09:47:21] WARNING: C:/Users/Administrator/workspace/xgboost-win64_release_1.4.0/src/learner.cc:1095: Starting in XGBoost 1.3.0, the default evaluation metric used with the objective 'multi:softprob' was changed from 'merror' to 'mlogloss'. Explicitly set eval_metric if you'd like to restore the old behavior.\n",
      "[09:47:33] WARNING: C:/Users/Administrator/workspace/xgboost-win64_release_1.4.0/src/learner.cc:1095: Starting in XGBoost 1.3.0, the default evaluation metric used with the objective 'multi:softprob' was changed from 'merror' to 'mlogloss'. Explicitly set eval_metric if you'd like to restore the old behavior.\n"
     ]
    }
   ],
   "source": [
    "accuracy_test_score = []\n",
    "f1_test_score = []\n",
    "precision_test_score = []\n",
    "\n",
    "for i in range(5):\n",
    "    xgb_clf = XGBClassifier(learning_rate= f1_best_params[i]['learning_rate'], max_depth= f1_best_params[i]['max_depth'],\n",
    "                        n_estimators= f1_best_params[i]['n_estimators'])\n",
    "    \n",
    "    model = xgb_clf.fit(x_train, y_train)\n",
    "\n",
    "    y_pred = model.predict(x_test)\n",
    "    \n",
    "    accuracy_test_score.append(accuracy_score(y_test, y_pred))\n",
    "    f1_test_score.append(f1_score(y_test, y_pred, average = 'micro'))\n",
    "    precision_test_score.append(precision_score(y_test, y_pred, average = 'micro'))"
   ]
  },
  {
   "cell_type": "code",
   "execution_count": 12,
   "metadata": {},
   "outputs": [
    {
     "data": {
      "text/plain": [
       "[0.8998982015609094,\n",
       " 0.9015948422124194,\n",
       " 0.9043094672548354,\n",
       " 0.8968442483881914,\n",
       " 0.9009161859518154]"
      ]
     },
     "execution_count": 12,
     "metadata": {},
     "output_type": "execute_result"
    }
   ],
   "source": [
    "f1_test_score"
   ]
  },
  {
   "cell_type": "code",
   "execution_count": 13,
   "metadata": {},
   "outputs": [
    {
     "data": {
      "text/plain": [
       "[0.8998982015609094,\n",
       " 0.9015948422124194,\n",
       " 0.9043094672548354,\n",
       " 0.8968442483881914,\n",
       " 0.9009161859518154]"
      ]
     },
     "execution_count": 13,
     "metadata": {},
     "output_type": "execute_result"
    }
   ],
   "source": [
    "precision_test_score"
   ]
  },
  {
   "cell_type": "code",
   "execution_count": 14,
   "metadata": {},
   "outputs": [
    {
     "data": {
      "text/plain": [
       "[0.8998982015609094,\n",
       " 0.9015948422124194,\n",
       " 0.9043094672548354,\n",
       " 0.8968442483881914,\n",
       " 0.9009161859518154]"
      ]
     },
     "execution_count": 14,
     "metadata": {},
     "output_type": "execute_result"
    }
   ],
   "source": [
    "accuracy_test_score"
   ]
  },
  {
   "cell_type": "code",
   "execution_count": null,
   "metadata": {},
   "outputs": [],
   "source": []
  }
 ],
 "metadata": {
  "kernelspec": {
   "display_name": "Python 3",
   "language": "python",
   "name": "python3"
  },
  "language_info": {
   "codemirror_mode": {
    "name": "ipython",
    "version": 3
   },
   "file_extension": ".py",
   "mimetype": "text/x-python",
   "name": "python",
   "nbconvert_exporter": "python",
   "pygments_lexer": "ipython3",
   "version": "3.8.5"
  }
 },
 "nbformat": 4,
 "nbformat_minor": 4
}
