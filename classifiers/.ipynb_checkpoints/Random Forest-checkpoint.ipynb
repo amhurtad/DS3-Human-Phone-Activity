{
 "cells": [
  {
   "cell_type": "markdown",
   "metadata": {},
   "source": [
    "# Random Forest Classifier with PCA"
   ]
  },
  {
   "cell_type": "code",
   "execution_count": 1,
   "metadata": {},
   "outputs": [],
   "source": [
    "#importing model and metrics from sklearn\n",
    "import pandas as pd\n",
    "import numpy as np\n",
    "import matplotlib.pyplot as plt\n",
    "import seaborn as sns\n",
    "from sklearn.ensemble import RandomForestClassifier\n",
    "from sklearn.model_selection import GridSearchCV, StratifiedKFold\n",
    "from sklearn.metrics import accuracy_score, f1_score, precision_score"
   ]
  },
  {
   "cell_type": "code",
   "execution_count": 2,
   "metadata": {},
   "outputs": [],
   "source": [
    "#loading in the pca datasets\n",
    "\n",
    "df_training = pd.read_csv('../data/archive/train_pca.csv')\n",
    "df_testing = pd.read_csv('../data/archive/test_pca.csv')"
   ]
  },
  {
   "cell_type": "code",
   "execution_count": 3,
   "metadata": {},
   "outputs": [],
   "source": [
    "#Separating X and y training and testing\n",
    "x_train = df_training.iloc[:, :-1]\n",
    "y_train = df_training.iloc[:,-1]\n",
    "\n",
    "x_test = df_testing.iloc[:, :-1]\n",
    "y_test = df_testing.iloc[:,-1]"
   ]
  },
  {
   "cell_type": "code",
   "execution_count": 4,
   "metadata": {},
   "outputs": [],
   "source": [
    "#Initializing Random Forest Classifier\n",
    "\n",
    "rf = RandomForestClassifier()"
   ]
  },
  {
   "cell_type": "code",
   "execution_count": 5,
   "metadata": {},
   "outputs": [],
   "source": [
    "#Making a grid of values we want our grid search to test to find the best parameters\n",
    "grid_values = {'n_estimators': list(range(1,105,4))}\n",
    "\n",
    "rf_classifier = GridSearchCV(estimator = rf, param_grid = grid_values, cv = StratifiedKFold(n_splits = 5),\n",
    "                      scoring = ['accuracy', 'f1_micro', 'precision_micro'], refit = False, verbose = 0)\n",
    "\n",
    "rf_model = rf_classifier.fit(x_train, y_train)"
   ]
  },
  {
   "cell_type": "code",
   "execution_count": 6,
   "metadata": {},
   "outputs": [],
   "source": [
    "#initializing our lists so we can later store the best params that achieve best scores across metrics\n",
    "accuracy_best_params = []\n",
    "f1_best_params = []\n",
    "precision_best_params = []\n",
    "\n",
    "accuracy_best_params.append(rf_model.cv_results_['params'][ np.argmin(rf_model.cv_results_['rank_test_accuracy'])])\n",
    "f1_best_params.append(rf_model.cv_results_['params'][ np.argmin(rf_model.cv_results_['rank_test_f1_micro'])])\n",
    "precision_best_params.append(rf_model.cv_results_['params'][ np.argmin(rf_model.cv_results_['rank_test_precision_micro'])])"
   ]
  },
  {
   "cell_type": "code",
   "execution_count": 7,
   "metadata": {},
   "outputs": [
    {
     "data": {
      "text/plain": [
       "[{'n_estimators': 93}]"
      ]
     },
     "execution_count": 7,
     "metadata": {},
     "output_type": "execute_result"
    }
   ],
   "source": [
    "#printing the best accuracy parmas\n",
    "accuracy_best_params"
   ]
  },
  {
   "cell_type": "code",
   "execution_count": 8,
   "metadata": {},
   "outputs": [
    {
     "data": {
      "text/plain": [
       "[{'n_estimators': 93}]"
      ]
     },
     "execution_count": 8,
     "metadata": {},
     "output_type": "execute_result"
    }
   ],
   "source": [
    "#printing the best f1 parmas\n",
    "f1_best_params"
   ]
  },
  {
   "cell_type": "code",
   "execution_count": 9,
   "metadata": {},
   "outputs": [
    {
     "data": {
      "text/plain": [
       "[{'n_estimators': 93}]"
      ]
     },
     "execution_count": 9,
     "metadata": {},
     "output_type": "execute_result"
    }
   ],
   "source": [
    "#printing the best precision parmas\n",
    "precision_best_params"
   ]
  },
  {
   "cell_type": "code",
   "execution_count": 10,
   "metadata": {},
   "outputs": [],
   "source": [
    "#finding the accuracy score\n",
    "accuracy_test_score = []\n",
    "\n",
    "rf_clf = RandomForestClassifier(n_estimators = accuracy_best_params[0].get('n_estimators'))\n",
    "model = rf_clf.fit(x_train, y_train)\n",
    "\n",
    "y_pred = model.predict(x_test)\n",
    "\n",
    "accuracy_test_score.append(accuracy_score(y_test, y_pred))"
   ]
  },
  {
   "cell_type": "code",
   "execution_count": 11,
   "metadata": {},
   "outputs": [
    {
     "data": {
      "text/plain": [
       "[0.8971835765184933]"
      ]
     },
     "execution_count": 11,
     "metadata": {},
     "output_type": "execute_result"
    }
   ],
   "source": [
    "#printing the accuracy score\n",
    "accuracy_test_score"
   ]
  },
  {
   "cell_type": "code",
   "execution_count": 20,
   "metadata": {},
   "outputs": [],
   "source": [
    "#finding the f1 score\n",
    "f1_test_score = []\n",
    "\n",
    "rf_clf = RandomForestClassifier(n_estimators = f1_best_params[0].get('n_estimators'))\n",
    "model = rf_clf.fit(x_train, y_train)\n",
    "\n",
    "y_pred = model.predict(x_test)\n",
    "\n",
    "f1_test_score.append(f1_score(y_test, y_pred, average = 'micro'))"
   ]
  },
  {
   "cell_type": "code",
   "execution_count": 21,
   "metadata": {},
   "outputs": [
    {
     "data": {
      "text/plain": [
       "[0.8978622327790974]"
      ]
     },
     "execution_count": 21,
     "metadata": {},
     "output_type": "execute_result"
    }
   ],
   "source": [
    "#printing the f1 score\n",
    "f1_test_score"
   ]
  },
  {
   "cell_type": "code",
   "execution_count": 16,
   "metadata": {},
   "outputs": [],
   "source": [
    "#finding the precision score\n",
    "precision_test_score = []\n",
    "\n",
    "rf_clf = RandomForestClassifier(n_estimators = precision_best_params[0].get('n_estimators'))\n",
    "model = rf_clf.fit(x_train, y_train)\n",
    "\n",
    "y_pred = model.predict(x_test)\n",
    "\n",
    "precision_test_score.append(precision_score(y_test, y_pred, average = 'micro'))"
   ]
  },
  {
   "cell_type": "code",
   "execution_count": 17,
   "metadata": {},
   "outputs": [
    {
     "data": {
      "text/plain": [
       "[0.8985408890397014]"
      ]
     },
     "execution_count": 17,
     "metadata": {},
     "output_type": "execute_result"
    }
   ],
   "source": [
    "#printing the precision score\n",
    "precision_test_score"
   ]
  }
 ],
 "metadata": {
  "kernelspec": {
   "display_name": "Python 3",
   "language": "python",
   "name": "python3"
  },
  "language_info": {
   "codemirror_mode": {
    "name": "ipython",
    "version": 3
   },
   "file_extension": ".py",
   "mimetype": "text/x-python",
   "name": "python",
   "nbconvert_exporter": "python",
   "pygments_lexer": "ipython3",
   "version": "3.8.8"
  }
 },
 "nbformat": 4,
 "nbformat_minor": 4
}
