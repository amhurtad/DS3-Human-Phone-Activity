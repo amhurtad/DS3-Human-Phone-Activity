{
 "cells": [
  {
   "cell_type": "code",
   "execution_count": 15,
   "metadata": {},
   "outputs": [],
   "source": [
    "import pandas as pd\n",
    "import numpy as np\n",
    "import matplotlib.pyplot as plt\n",
    "import seaborn as sns\n",
    "from sklearn.ensemble import GradientBoostingClassifier\n",
    "from sklearn.model_selection import GridSearchCV, StratifiedKFold, cross_val_score\n",
    "from sklearn.metrics import accuracy_score, f1_score, precision_score\n",
    "import tensorflow as tf"
   ]
  },
  {
   "cell_type": "code",
   "execution_count": 16,
   "metadata": {},
   "outputs": [],
   "source": [
    "#loading in the datasets\n",
    "df_training = pd.read_csv('../data/archive/train_pca.csv')\n",
    "df_testing = pd.read_csv('../data/archive/test_pca.csv')"
   ]
  },
  {
   "cell_type": "code",
   "execution_count": 17,
   "metadata": {},
   "outputs": [],
   "source": [
    "#Just getting the X Variables\n",
    "x_train = df_training.iloc[:, :-1]\n",
    "\n",
    "\n",
    "x_test = df_testing.iloc[:, :-1]\n"
   ]
  },
  {
   "cell_type": "code",
   "execution_count": 18,
   "metadata": {},
   "outputs": [],
   "source": [
    "train_dep = pd.read_csv('../data/archive/train.csv')\n",
    "test_dep = pd.read_csv('../data/archive/test.csv')"
   ]
  },
  {
   "cell_type": "code",
   "execution_count": 19,
   "metadata": {},
   "outputs": [],
   "source": [
    "train_dep = train_dep.iloc[:,-1]\n",
    "test_dep = test_dep.iloc[:,-1]"
   ]
  },
  {
   "cell_type": "code",
   "execution_count": 20,
   "metadata": {},
   "outputs": [],
   "source": [
    "train_dep = pd.get_dummies(train_dep)\n",
    "test_dep = pd.get_dummies(test_dep)"
   ]
  },
  {
   "cell_type": "code",
   "execution_count": 21,
   "metadata": {},
   "outputs": [],
   "source": [
    "ann = tf.keras.models.Sequential()"
   ]
  },
  {
   "cell_type": "code",
   "execution_count": 22,
   "metadata": {},
   "outputs": [],
   "source": [
    "ann.add(tf.keras.layers.Dense(units=15, input_dim = 40,  activation='relu'))"
   ]
  },
  {
   "cell_type": "code",
   "execution_count": 23,
   "metadata": {},
   "outputs": [],
   "source": [
    "ann.add(tf.keras.layers.Dense(units=40,  activation='relu'))"
   ]
  },
  {
   "cell_type": "code",
   "execution_count": 24,
   "metadata": {},
   "outputs": [],
   "source": [
    "ann.add(tf.keras.layers.Dense(units=6,  activation='softmax'))"
   ]
  },
  {
   "cell_type": "code",
   "execution_count": 25,
   "metadata": {},
   "outputs": [],
   "source": [
    "ann.compile(optimizer = 'adam', loss = 'categorical_crossentropy', metrics = ['accuracy'])"
   ]
  },
  {
   "cell_type": "code",
   "execution_count": 26,
   "metadata": {},
   "outputs": [
    {
     "name": "stdout",
     "output_type": "stream",
     "text": [
      "Epoch 1/100\n",
      "1471/1471 [==============================] - 1s 519us/step - loss: 0.7976 - accuracy: 0.7051\n",
      "Epoch 2/100\n",
      "1471/1471 [==============================] - 1s 570us/step - loss: 0.1612 - accuracy: 0.9303\n",
      "Epoch 3/100\n",
      "1471/1471 [==============================] - 1s 564us/step - loss: 0.1379 - accuracy: 0.94080s - loss: 0.1383 - accuracy: \n",
      "Epoch 4/100\n",
      "1471/1471 [==============================] - 1s 559us/step - loss: 0.1181 - accuracy: 0.9496\n",
      "Epoch 5/100\n",
      "1471/1471 [==============================] - 1s 549us/step - loss: 0.1106 - accuracy: 0.9540\n",
      "Epoch 6/100\n",
      "1471/1471 [==============================] - 1s 562us/step - loss: 0.1013 - accuracy: 0.9539\n",
      "Epoch 7/100\n",
      "1471/1471 [==============================] - 1s 537us/step - loss: 0.0907 - accuracy: 0.9636\n",
      "Epoch 8/100\n",
      "1471/1471 [==============================] - 1s 520us/step - loss: 0.0833 - accuracy: 0.96680s - loss:\n",
      "Epoch 9/100\n",
      "1471/1471 [==============================] - 1s 503us/step - loss: 0.0899 - accuracy: 0.9642\n",
      "Epoch 10/100\n",
      "1471/1471 [==============================] - 1s 502us/step - loss: 0.0770 - accuracy: 0.9693\n",
      "Epoch 11/100\n",
      "1471/1471 [==============================] - 1s 538us/step - loss: 0.0702 - accuracy: 0.9697\n",
      "Epoch 12/100\n",
      "1471/1471 [==============================] - 1s 529us/step - loss: 0.0727 - accuracy: 0.9686\n",
      "Epoch 13/100\n",
      "1471/1471 [==============================] - 1s 499us/step - loss: 0.0682 - accuracy: 0.9734\n",
      "Epoch 14/100\n",
      "1471/1471 [==============================] - 1s 505us/step - loss: 0.0663 - accuracy: 0.9734\n",
      "Epoch 15/100\n",
      "1471/1471 [==============================] - 1s 510us/step - loss: 0.0482 - accuracy: 0.9833\n",
      "Epoch 16/100\n",
      "1471/1471 [==============================] - 1s 517us/step - loss: 0.0532 - accuracy: 0.9787\n",
      "Epoch 17/100\n",
      "1471/1471 [==============================] - 1s 515us/step - loss: 0.0454 - accuracy: 0.9832\n",
      "Epoch 18/100\n",
      "1471/1471 [==============================] - 1s 512us/step - loss: 0.0514 - accuracy: 0.9782\n",
      "Epoch 19/100\n",
      "1471/1471 [==============================] - 1s 504us/step - loss: 0.0480 - accuracy: 0.9794\n",
      "Epoch 20/100\n",
      "1471/1471 [==============================] - 1s 530us/step - loss: 0.0420 - accuracy: 0.9828\n",
      "Epoch 21/100\n",
      "1471/1471 [==============================] - 1s 502us/step - loss: 0.0409 - accuracy: 0.9841\n",
      "Epoch 22/100\n",
      "1471/1471 [==============================] - 1s 500us/step - loss: 0.0394 - accuracy: 0.9858\n",
      "Epoch 23/100\n",
      "1471/1471 [==============================] - 1s 508us/step - loss: 0.0389 - accuracy: 0.9862\n",
      "Epoch 24/100\n",
      "1471/1471 [==============================] - 1s 521us/step - loss: 0.0388 - accuracy: 0.9835\n",
      "Epoch 25/100\n",
      "1471/1471 [==============================] - 1s 518us/step - loss: 0.0372 - accuracy: 0.9858\n",
      "Epoch 26/100\n",
      "1471/1471 [==============================] - 1s 528us/step - loss: 0.0329 - accuracy: 0.9887\n",
      "Epoch 27/100\n",
      "1471/1471 [==============================] - 1s 512us/step - loss: 0.0389 - accuracy: 0.9854\n",
      "Epoch 28/100\n",
      "1471/1471 [==============================] - 1s 515us/step - loss: 0.0306 - accuracy: 0.9887\n",
      "Epoch 29/100\n",
      "1471/1471 [==============================] - 1s 540us/step - loss: 0.0347 - accuracy: 0.9870\n",
      "Epoch 30/100\n",
      "1471/1471 [==============================] - 1s 551us/step - loss: 0.0280 - accuracy: 0.9896\n",
      "Epoch 31/100\n",
      "1471/1471 [==============================] - 1s 529us/step - loss: 0.0289 - accuracy: 0.9899\n",
      "Epoch 32/100\n",
      "1471/1471 [==============================] - 1s 551us/step - loss: 0.0254 - accuracy: 0.9906\n",
      "Epoch 33/100\n",
      "1471/1471 [==============================] - 1s 581us/step - loss: 0.0233 - accuracy: 0.9916\n",
      "Epoch 34/100\n",
      "1471/1471 [==============================] - 1s 548us/step - loss: 0.0238 - accuracy: 0.9920\n",
      "Epoch 35/100\n",
      "1471/1471 [==============================] - 1s 512us/step - loss: 0.0256 - accuracy: 0.9914\n",
      "Epoch 36/100\n",
      "1471/1471 [==============================] - 1s 509us/step - loss: 0.0257 - accuracy: 0.9883\n",
      "Epoch 37/100\n",
      "1471/1471 [==============================] - 1s 508us/step - loss: 0.0228 - accuracy: 0.9918\n",
      "Epoch 38/100\n",
      "1471/1471 [==============================] - 1s 549us/step - loss: 0.0225 - accuracy: 0.9911\n",
      "Epoch 39/100\n",
      "1471/1471 [==============================] - 1s 526us/step - loss: 0.0254 - accuracy: 0.9910\n",
      "Epoch 40/100\n",
      "1471/1471 [==============================] - 1s 518us/step - loss: 0.0221 - accuracy: 0.9916\n",
      "Epoch 41/100\n",
      "1471/1471 [==============================] - 1s 508us/step - loss: 0.0240 - accuracy: 0.9898\n",
      "Epoch 42/100\n",
      "1471/1471 [==============================] - 1s 573us/step - loss: 0.0232 - accuracy: 0.9917\n",
      "Epoch 43/100\n",
      "1471/1471 [==============================] - 1s 582us/step - loss: 0.0221 - accuracy: 0.9927\n",
      "Epoch 44/100\n",
      "1471/1471 [==============================] - 1s 558us/step - loss: 0.0204 - accuracy: 0.9920\n",
      "Epoch 45/100\n",
      "1471/1471 [==============================] - 1s 552us/step - loss: 0.0182 - accuracy: 0.9929\n",
      "Epoch 46/100\n",
      "1471/1471 [==============================] - 1s 576us/step - loss: 0.0182 - accuracy: 0.9933\n",
      "Epoch 47/100\n",
      "1471/1471 [==============================] - 1s 566us/step - loss: 0.0164 - accuracy: 0.9934\n",
      "Epoch 48/100\n",
      "1471/1471 [==============================] - 1s 525us/step - loss: 0.0164 - accuracy: 0.9939\n",
      "Epoch 49/100\n",
      "1471/1471 [==============================] - 1s 522us/step - loss: 0.0143 - accuracy: 0.9945\n",
      "Epoch 50/100\n",
      "1471/1471 [==============================] - 1s 520us/step - loss: 0.0173 - accuracy: 0.9939\n",
      "Epoch 51/100\n",
      "1471/1471 [==============================] - 1s 509us/step - loss: 0.0140 - accuracy: 0.9950\n",
      "Epoch 52/100\n",
      "1471/1471 [==============================] - 1s 517us/step - loss: 0.0133 - accuracy: 0.9948\n",
      "Epoch 53/100\n",
      "1471/1471 [==============================] - 1s 528us/step - loss: 0.0128 - accuracy: 0.9955\n",
      "Epoch 54/100\n",
      "1471/1471 [==============================] - 1s 524us/step - loss: 0.0146 - accuracy: 0.9950\n",
      "Epoch 55/100\n",
      "1471/1471 [==============================] - 1s 548us/step - loss: 0.0153 - accuracy: 0.9942\n",
      "Epoch 56/100\n",
      "1471/1471 [==============================] - 1s 526us/step - loss: 0.0121 - accuracy: 0.9948\n",
      "Epoch 57/100\n",
      "1471/1471 [==============================] - 1s 528us/step - loss: 0.0146 - accuracy: 0.9948\n",
      "Epoch 58/100\n",
      "1471/1471 [==============================] - 1s 520us/step - loss: 0.0163 - accuracy: 0.9943\n",
      "Epoch 59/100\n",
      "1471/1471 [==============================] - 1s 526us/step - loss: 0.0103 - accuracy: 0.9958\n",
      "Epoch 60/100\n",
      "1471/1471 [==============================] - 1s 513us/step - loss: 0.0129 - accuracy: 0.9952\n",
      "Epoch 61/100\n",
      "1471/1471 [==============================] - 1s 533us/step - loss: 0.0128 - accuracy: 0.9955\n",
      "Epoch 62/100\n",
      "1471/1471 [==============================] - 1s 516us/step - loss: 0.0124 - accuracy: 0.9958\n",
      "Epoch 63/100\n",
      "1471/1471 [==============================] - 1s 499us/step - loss: 0.0100 - accuracy: 0.9957\n",
      "Epoch 64/100\n",
      "1471/1471 [==============================] - 1s 512us/step - loss: 0.0097 - accuracy: 0.9965\n",
      "Epoch 65/100\n",
      "1471/1471 [==============================] - 1s 509us/step - loss: 0.0133 - accuracy: 0.9944\n",
      "Epoch 66/100\n",
      "1471/1471 [==============================] - 1s 511us/step - loss: 0.0145 - accuracy: 0.9955\n",
      "Epoch 67/100\n",
      "1471/1471 [==============================] - 1s 530us/step - loss: 0.0139 - accuracy: 0.9964\n",
      "Epoch 68/100\n",
      "1471/1471 [==============================] - 1s 517us/step - loss: 0.0120 - accuracy: 0.9957\n",
      "Epoch 69/100\n",
      "1471/1471 [==============================] - 1s 506us/step - loss: 0.0079 - accuracy: 0.9969\n",
      "Epoch 70/100\n",
      "1471/1471 [==============================] - 1s 523us/step - loss: 0.0122 - accuracy: 0.9954\n",
      "Epoch 71/100\n",
      "1471/1471 [==============================] - 1s 518us/step - loss: 0.0122 - accuracy: 0.9957\n",
      "Epoch 72/100\n",
      "1471/1471 [==============================] - 1s 502us/step - loss: 0.0082 - accuracy: 0.9980\n",
      "Epoch 73/100\n",
      "1471/1471 [==============================] - 1s 528us/step - loss: 0.0091 - accuracy: 0.9970\n",
      "Epoch 74/100\n",
      "1471/1471 [==============================] - 1s 513us/step - loss: 0.0064 - accuracy: 0.9978\n",
      "Epoch 75/100\n",
      "1471/1471 [==============================] - 1s 496us/step - loss: 0.0115 - accuracy: 0.9959\n",
      "Epoch 76/100\n",
      "1471/1471 [==============================] - 1s 505us/step - loss: 0.0102 - accuracy: 0.9964\n",
      "Epoch 77/100\n",
      "1471/1471 [==============================] - 1s 518us/step - loss: 0.0105 - accuracy: 0.9956\n"
     ]
    },
    {
     "name": "stdout",
     "output_type": "stream",
     "text": [
      "Epoch 78/100\n",
      "1471/1471 [==============================] - 1s 575us/step - loss: 0.0107 - accuracy: 0.9965\n",
      "Epoch 79/100\n",
      "1471/1471 [==============================] - 1s 505us/step - loss: 0.0099 - accuracy: 0.9960\n",
      "Epoch 80/100\n",
      "1471/1471 [==============================] - 1s 540us/step - loss: 0.0168 - accuracy: 0.9944\n",
      "Epoch 81/100\n",
      "1471/1471 [==============================] - 1s 548us/step - loss: 0.0068 - accuracy: 0.9985\n",
      "Epoch 82/100\n",
      "1471/1471 [==============================] - 1s 541us/step - loss: 0.0049 - accuracy: 0.9989\n",
      "Epoch 83/100\n",
      "1471/1471 [==============================] - 1s 582us/step - loss: 0.0129 - accuracy: 0.9949\n",
      "Epoch 84/100\n",
      "1471/1471 [==============================] - 1s 544us/step - loss: 0.0044 - accuracy: 0.9983\n",
      "Epoch 85/100\n",
      "1471/1471 [==============================] - 1s 548us/step - loss: 0.0073 - accuracy: 0.9975\n",
      "Epoch 86/100\n",
      "1471/1471 [==============================] - 1s 557us/step - loss: 0.0136 - accuracy: 0.9970\n",
      "Epoch 87/100\n",
      "1471/1471 [==============================] - 1s 529us/step - loss: 0.0074 - accuracy: 0.9975\n",
      "Epoch 88/100\n",
      "1471/1471 [==============================] - 1s 513us/step - loss: 0.0141 - accuracy: 0.9946\n",
      "Epoch 89/100\n",
      "1471/1471 [==============================] - 1s 506us/step - loss: 0.0090 - accuracy: 0.9979\n",
      "Epoch 90/100\n",
      "1471/1471 [==============================] - 1s 513us/step - loss: 0.0063 - accuracy: 0.9979\n",
      "Epoch 91/100\n",
      "1471/1471 [==============================] - 1s 504us/step - loss: 0.0068 - accuracy: 0.9980\n",
      "Epoch 92/100\n",
      "1471/1471 [==============================] - 1s 507us/step - loss: 0.0075 - accuracy: 0.9973\n",
      "Epoch 93/100\n",
      "1471/1471 [==============================] - 1s 520us/step - loss: 0.0076 - accuracy: 0.9973\n",
      "Epoch 94/100\n",
      "1471/1471 [==============================] - 1s 507us/step - loss: 0.0056 - accuracy: 0.9985\n",
      "Epoch 95/100\n",
      "1471/1471 [==============================] - 1s 502us/step - loss: 0.0080 - accuracy: 0.9972\n",
      "Epoch 96/100\n",
      "1471/1471 [==============================] - 1s 539us/step - loss: 0.0071 - accuracy: 0.9966\n",
      "Epoch 97/100\n",
      "1471/1471 [==============================] - 1s 498us/step - loss: 0.0030 - accuracy: 0.9994\n",
      "Epoch 98/100\n",
      "1471/1471 [==============================] - 1s 536us/step - loss: 0.0086 - accuracy: 0.9963\n",
      "Epoch 99/100\n",
      "1471/1471 [==============================] - 1s 501us/step - loss: 0.0056 - accuracy: 0.9974\n",
      "Epoch 100/100\n",
      "1471/1471 [==============================] - 1s 499us/step - loss: 0.0048 - accuracy: 0.9980\n"
     ]
    },
    {
     "data": {
      "text/plain": [
       "<tensorflow.python.keras.callbacks.History at 0x21600f35490>"
      ]
     },
     "execution_count": 26,
     "metadata": {},
     "output_type": "execute_result"
    }
   ],
   "source": [
    "ann.fit(x_train, train_dep, batch_size = 5, epochs = 100)"
   ]
  },
  {
   "cell_type": "code",
   "execution_count": 27,
   "metadata": {},
   "outputs": [],
   "source": [
    "y_pred = ann.predict(x_test)\n",
    "y_pred = (y_pred > 0.5)*1\n",
    "test_dep = test_dep.to_numpy()"
   ]
  },
  {
   "cell_type": "code",
   "execution_count": 30,
   "metadata": {},
   "outputs": [
    {
     "ename": "NameError",
     "evalue": "name 'KerasClassifier' is not defined",
     "output_type": "error",
     "traceback": [
      "\u001b[1;31m---------------------------------------------------------------------------\u001b[0m",
      "\u001b[1;31mNameError\u001b[0m                                 Traceback (most recent call last)",
      "\u001b[1;32m<ipython-input-30-71ee6364e251>\u001b[0m in \u001b[0;36m<module>\u001b[1;34m\u001b[0m\n\u001b[0;32m      1\u001b[0m \u001b[1;32mfrom\u001b[0m \u001b[0msklearn\u001b[0m\u001b[1;33m.\u001b[0m\u001b[0mmetrics\u001b[0m \u001b[1;32mimport\u001b[0m \u001b[0mconfusion_matrix\u001b[0m\u001b[1;33m,\u001b[0m \u001b[0maccuracy_score\u001b[0m\u001b[1;33m\u001b[0m\u001b[1;33m\u001b[0m\u001b[0m\n\u001b[0;32m      2\u001b[0m \u001b[0maccuracy_score\u001b[0m\u001b[1;33m(\u001b[0m\u001b[0mtest_dep\u001b[0m\u001b[1;33m,\u001b[0m \u001b[0my_pred\u001b[0m\u001b[1;33m)\u001b[0m\u001b[1;33m\u001b[0m\u001b[1;33m\u001b[0m\u001b[0m\n\u001b[1;32m----> 3\u001b[1;33m \u001b[0mkeras_clf\u001b[0m \u001b[1;33m=\u001b[0m \u001b[0mKerasClassifier\u001b[0m\u001b[1;33m(\u001b[0m\u001b[0mann\u001b[0m\u001b[1;33m)\u001b[0m\u001b[1;33m\u001b[0m\u001b[1;33m\u001b[0m\u001b[0m\n\u001b[0m\u001b[0;32m      4\u001b[0m cross_val_accuracies = cross_val_score(estimator=ann, scoring=\"accuracy\", \n\u001b[0;32m      5\u001b[0m     X=x_train, y=train_dep, cv=5)\n",
      "\u001b[1;31mNameError\u001b[0m: name 'KerasClassifier' is not defined"
     ]
    }
   ],
   "source": [
    "from sklearn.metrics import confusion_matrix, accuracy_score\n",
    "from tensorflow.keras.wrappers.scikit_learn import KerasClassifier\n",
    "accuracy_score(test_dep, y_pred)\n",
    "keras_clf = KerasClassifier(ann)\n",
    "cross_val_accuracies = cross_val_score(estimator=ann, scoring=\"accuracy\", \n",
    "    X=x_train, y=train_dep, cv=5)"
   ]
  },
  {
   "cell_type": "code",
   "execution_count": null,
   "metadata": {},
   "outputs": [],
   "source": []
  }
 ],
 "metadata": {
  "kernelspec": {
   "display_name": "Python 3",
   "language": "python",
   "name": "python3"
  },
  "language_info": {
   "codemirror_mode": {
    "name": "ipython",
    "version": 3
   },
   "file_extension": ".py",
   "mimetype": "text/x-python",
   "name": "python",
   "nbconvert_exporter": "python",
   "pygments_lexer": "ipython3",
   "version": "3.8.5"
  }
 },
 "nbformat": 4,
 "nbformat_minor": 5
}
