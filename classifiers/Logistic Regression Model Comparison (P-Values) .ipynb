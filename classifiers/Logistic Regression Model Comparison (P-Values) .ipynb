{
 "cells": [
  {
   "cell_type": "code",
   "execution_count": 15,
   "id": "8e4b421a",
   "metadata": {},
   "outputs": [],
   "source": [
    "import scipy\n",
    "from scipy.stats import ttest_rel\n",
    "import numpy as np"
   ]
  },
  {
   "cell_type": "code",
   "execution_count": 24,
   "id": "9f02ea39",
   "metadata": {
    "scrolled": true
   },
   "outputs": [
    {
     "data": {
      "text/plain": [
       "array([0.92240697, 0.92263319, 0.92263319, 0.92263319, 0.92240697])"
      ]
     },
     "execution_count": 24,
     "metadata": {},
     "output_type": "execute_result"
    }
   ],
   "source": [
    "#Logistic Regression\n",
    "lg_acc_array = np.array([0.9222938581608415, \n",
    " 0.9226331862911435, \n",
    " 0.9226331862911435, \n",
    " 0.9226331862911435,\n",
    " 0.9222938581608415])\n",
    "lg_f1_array = np.array([0.9222938581608415,\n",
    " 0.9226331862911435,\n",
    " 0.9226331862911435,\n",
    " 0.9226331862911435,\n",
    " 0.9222938581608415])\n",
    "lg_pres_array = np.array([0.9226331862911435,\n",
    " 0.9226331862911435,\n",
    " 0.9226331862911435,\n",
    " 0.9226331862911435,\n",
    " 0.9226331862911435])\n",
    "\n",
    "lg_mean_scores = np.array([])\n",
    "for i in np.arange(0,5):\n",
    "    mean = np.mean([lg_acc_array[i],lg_f1_array[i],lg_pres_array[i]])\n",
    "    lg_mean_scores = np.append(lg_mean_scores, mean)\n",
    "\n",
    "lg_mean_scores"
   ]
  },
  {
   "cell_type": "code",
   "execution_count": 25,
   "id": "d52cfa29",
   "metadata": {},
   "outputs": [
    {
     "data": {
      "text/plain": [
       "array([0.8154055 , 0.81608415, 0.81981676, 0.81913811, 0.81551861])"
      ]
     },
     "execution_count": 25,
     "metadata": {},
     "output_type": "execute_result"
    }
   ],
   "source": [
    "#Decision Trees\n",
    "dt_acc_array = np.array([0.8242280285035629,\n",
    " 0.825924669155073,\n",
    " 0.831014591109603,\n",
    " 0.831014591109603,\n",
    " 0.8245673566338649])\n",
    "dt_f1_array = np.array([\n",
    "0.825585341024771,\n",
    " 0.824906684764167,\n",
    " 0.8310145911096029,\n",
    " 0.829996606718697,\n",
    " 0.825585341024771 ])\n",
    "dt_pres_array = np.array([0.7964031218187988,\n",
    " 0.7974211062097047,\n",
    " 0.7974211062097047,\n",
    " 0.7964031218187988,\n",
    " 0.7964031218187988])\n",
    "\n",
    "dt_mean_scores = np.array([])\n",
    "for i in np.arange(0,5):\n",
    "    mean = np.mean([dt_acc_array[i],dt_f1_array[i],dt_pres_array[i]])\n",
    "    dt_mean_scores = np.append(dt_mean_scores, mean)\n",
    "\n",
    "dt_mean_scores"
   ]
  },
  {
   "cell_type": "code",
   "execution_count": 26,
   "id": "c0c4a304",
   "metadata": {},
   "outputs": [
    {
     "data": {
      "text/plain": [
       "array([0.88530709, 0.87682389, 0.85171361, 0.88734306, 0.88734306])"
      ]
     },
     "execution_count": 26,
     "metadata": {},
     "output_type": "execute_result"
    }
   ],
   "source": [
    "#Knn\n",
    "knn_acc_array = np.array([0.8853070919579233,\n",
    " 0.8768238887003733,\n",
    " 0.8517136070580251,\n",
    " 0.8873430607397353,\n",
    " 0.8873430607397353])\n",
    "knn_f1_array = np.array([0.8853070919579233,\n",
    " 0.8768238887003733,\n",
    " 0.8517136070580251,\n",
    " 0.8873430607397353,\n",
    " 0.8873430607397353])\n",
    "knn_pres_array = np.array([0.8853070919579233,\n",
    " 0.8768238887003733,\n",
    " 0.8517136070580251,\n",
    " 0.8873430607397353,\n",
    " 0.8873430607397353])\n",
    "\n",
    "\n",
    "knn_mean_scores = np.array([])\n",
    "for i in np.arange(0,5):\n",
    "    mean = np.mean([knn_acc_array[i],knn_f1_array[i],knn_pres_array[i]])\n",
    "    knn_mean_scores = np.append(knn_mean_scores, mean)\n",
    "\n",
    "knn_mean_scores"
   ]
  },
  {
   "cell_type": "code",
   "execution_count": 27,
   "id": "278e8d48",
   "metadata": {},
   "outputs": [
    {
     "data": {
      "text/plain": [
       "array([0.89763601, 0.89345097, 0.90001131, 0.89435584, 0.89582626])"
      ]
     },
     "execution_count": 27,
     "metadata": {},
     "output_type": "execute_result"
    }
   ],
   "source": [
    "#random forest\n",
    "rf_acc_array = np.array([0.8971835765184933,\n",
    " 0.8934509670851714,\n",
    " 0.8944689514760774,\n",
    " 0.8998982015609094,\n",
    " 0.8954869358669834])\n",
    "rf_f1_array = np.array([0.8934509670851712,\n",
    " 0.8927723108245673,\n",
    " 0.9012555140821175,\n",
    " 0.8907363420427553,\n",
    " 0.8992195453003053])\n",
    "rf_pres_array = np.array([0.9022734984730234,\n",
    " 0.8941296233457754,\n",
    " 0.9043094672548354,\n",
    " 0.8924329826942654,\n",
    " 0.8927723108245673])\n",
    "\n",
    "rf_mean_scores = np.array([])\n",
    "for i in np.arange(0,5):\n",
    "    mean = np.mean([rf_acc_array[i],rf_f1_array[i],rf_pres_array[i]])\n",
    "    rf_mean_scores = np.append(rf_mean_scores, mean)\n",
    "\n",
    "rf_mean_scores"
   ]
  },
  {
   "cell_type": "code",
   "execution_count": 28,
   "id": "a49d1344",
   "metadata": {},
   "outputs": [
    {
     "data": {
      "text/plain": [
       "array([0.94502884, 0.94502884, 0.94706481, 0.94502884, 0.94502884])"
      ]
     },
     "execution_count": 28,
     "metadata": {},
     "output_type": "execute_result"
    }
   ],
   "source": [
    "#SVM\n",
    "svm_acc_array = np.array([0.9450288428910757,\n",
    " 0.9450288428910757,\n",
    " 0.9470648116728877,\n",
    " 0.9450288428910757,\n",
    " 0.9450288428910757])\n",
    "svm_f1_array = np.array([0.9450288428910757,\n",
    " 0.9450288428910757,\n",
    " 0.9470648116728877,\n",
    " 0.9450288428910757,\n",
    " 0.9450288428910757])\n",
    "svm_pres_array = np.array([0.9450288428910757,\n",
    " 0.9450288428910757,\n",
    " 0.9470648116728877,\n",
    " 0.9450288428910757,\n",
    " 0.9450288428910757])\n",
    "\n",
    "svm_mean_scores = np.array([])\n",
    "for i in np.arange(0,5):\n",
    "    mean = np.mean([svm_acc_array[i],svm_f1_array[i],svm_pres_array[i]])\n",
    "    svm_mean_scores = np.append(svm_mean_scores, mean)\n",
    "\n",
    "svm_mean_scores"
   ]
  },
  {
   "cell_type": "code",
   "execution_count": 31,
   "id": "851aca4b",
   "metadata": {},
   "outputs": [
    {
     "data": {
      "text/plain": [
       "array([0.8998982 , 0.90159484, 0.90430947, 0.89684425, 0.90091619])"
      ]
     },
     "execution_count": 31,
     "metadata": {},
     "output_type": "execute_result"
    }
   ],
   "source": [
    "#XGBoost\n",
    "xgb_acc_array = np.array([0.8998982015609094,\n",
    " 0.9015948422124194,\n",
    " 0.9043094672548354,\n",
    " 0.8968442483881914,\n",
    " 0.9009161859518154])\n",
    "xgb_f1_array = np.array([0.8998982015609094,\n",
    " 0.9015948422124194,\n",
    " 0.9043094672548354,\n",
    " 0.8968442483881914,\n",
    " 0.9009161859518154])\n",
    "xgb_pres_array = np.array([0.8998982015609094,\n",
    " 0.9015948422124194,\n",
    " 0.9043094672548354,\n",
    " 0.8968442483881914,\n",
    " 0.9009161859518154])\n",
    "\n",
    "xgb_mean_scores = np.array([])\n",
    "for i in np.arange(0,5):\n",
    "    mean = np.mean([xgb_acc_array[i],xgb_f1_array[i],xgb_pres_array[i]])\n",
    "    xgb_mean_scores = np.append(xgb_mean_scores, mean)\n",
    "\n",
    "xgb_mean_scores"
   ]
  },
  {
   "cell_type": "code",
   "execution_count": null,
   "id": "8e58c4b7",
   "metadata": {},
   "outputs": [],
   "source": [
    "#ann\n",
    "ann_acc_array = np.array([\n",
    "ann_f1_array = np.array([\n",
    "ann_pres_array = np.array([\n",
    "ann_mean_scores = np.mean([ann_acc_array,ann_f1_array,ann_pres_array])\n",
    "ann_mean_scores"
   ]
  },
  {
   "cell_type": "code",
   "execution_count": 37,
   "id": "47ccc689",
   "metadata": {},
   "outputs": [
    {
     "data": {
      "text/plain": [
       "Ttest_relResult(statistic=116.37046412379647, pvalue=3.270140520202308e-08)"
      ]
     },
     "execution_count": 37,
     "metadata": {},
     "output_type": "execute_result"
    }
   ],
   "source": [
    "#logistic regression vs Decision Trees\n",
    "scipy.stats.ttest_rel(lg_mean_scores, dt_mean_scores)"
   ]
  },
  {
   "cell_type": "code",
   "execution_count": 38,
   "id": "2ef99b29",
   "metadata": {},
   "outputs": [
    {
     "data": {
      "text/plain": [
       "Ttest_relResult(statistic=6.583064801426907, pvalue=0.002756876014444544)"
      ]
     },
     "execution_count": 38,
     "metadata": {},
     "output_type": "execute_result"
    }
   ],
   "source": [
    "#logistic regression vs knn\n",
    "scipy.stats.ttest_rel(lg_mean_scores, knn_mean_scores)"
   ]
  },
  {
   "cell_type": "code",
   "execution_count": 39,
   "id": "e4481374",
   "metadata": {},
   "outputs": [
    {
     "data": {
      "text/plain": [
       "Ttest_relResult(statistic=22.152429825922653, pvalue=2.458038705451503e-05)"
      ]
     },
     "execution_count": 39,
     "metadata": {},
     "output_type": "execute_result"
    }
   ],
   "source": [
    "#logistic regression vs random forest\n",
    "scipy.stats.ttest_rel(lg_mean_scores, rf_mean_scores)"
   ]
  },
  {
   "cell_type": "code",
   "execution_count": 40,
   "id": "701f1aef",
   "metadata": {},
   "outputs": [
    {
     "data": {
      "text/plain": [
       "Ttest_relResult(statistic=-59.02103856420462, pvalue=4.935068307902863e-07)"
      ]
     },
     "execution_count": 40,
     "metadata": {},
     "output_type": "execute_result"
    }
   ],
   "source": [
    "#logistic regression vs SVM\n",
    "scipy.stats.ttest_rel(lg_mean_scores, svm_mean_scores)"
   ]
  },
  {
   "cell_type": "code",
   "execution_count": 41,
   "id": "6112b1c0",
   "metadata": {},
   "outputs": [
    {
     "data": {
      "text/plain": [
       "Ttest_relResult(statistic=18.076106163526774, pvalue=5.5070912349657567e-05)"
      ]
     },
     "execution_count": 41,
     "metadata": {},
     "output_type": "execute_result"
    }
   ],
   "source": [
    "#logistic regression vs XGBoost\n",
    "scipy.stats.ttest_rel(lg_mean_scores, xgb_mean_scores)"
   ]
  }
 ],
 "metadata": {
  "kernelspec": {
   "display_name": "Python 3",
   "language": "python",
   "name": "python3"
  },
  "language_info": {
   "codemirror_mode": {
    "name": "ipython",
    "version": 3
   },
   "file_extension": ".py",
   "mimetype": "text/x-python",
   "name": "python",
   "nbconvert_exporter": "python",
   "pygments_lexer": "ipython3",
   "version": "3.8.8"
  }
 },
 "nbformat": 4,
 "nbformat_minor": 5
}
