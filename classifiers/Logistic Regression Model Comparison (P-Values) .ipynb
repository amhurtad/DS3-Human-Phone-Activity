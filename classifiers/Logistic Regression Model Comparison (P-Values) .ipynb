{
 "cells": [
  {
   "cell_type": "code",
   "execution_count": 2,
   "id": "c43eb049",
   "metadata": {},
   "outputs": [],
   "source": [
    "from scipy import stats\n",
    "import numpy as np"
   ]
  },
  {
   "cell_type": "code",
   "execution_count": 4,
   "id": "0e15a50c",
   "metadata": {
    "scrolled": true
   },
   "outputs": [],
   "source": [
    "#Logistic Regression\n",
    "lg_acc_array = np.array([0.9222938581608415, \n",
    " 0.9226331862911435, \n",
    " 0.9226331862911435, \n",
    " 0.9226331862911435,\n",
    " 0.9222938581608415])\n",
    "lg_f1_array = np.array([0.9222938581608415,\n",
    " 0.9226331862911435,\n",
    " 0.9226331862911435,\n",
    " 0.9226331862911435,\n",
    " 0.9222938581608415])\n",
    "lg_pres_array = np.array([0.9226331862911435,\n",
    " 0.9226331862911435,\n",
    " 0.9226331862911435,\n",
    " 0.9226331862911435,\n",
    " 0.9226331862911435])"
   ]
  },
  {
   "cell_type": "code",
   "execution_count": null,
   "id": "f4c3e3fd",
   "metadata": {},
   "outputs": [],
   "source": []
  },
  {
   "cell_type": "code",
   "execution_count": null,
   "id": "f9418409",
   "metadata": {},
   "outputs": [],
   "source": []
  },
  {
   "cell_type": "code",
   "execution_count": null,
   "id": "4cfadafb",
   "metadata": {},
   "outputs": [],
   "source": [
    "scipy.stats.ttest_rel(a, b)"
   ]
  }
 ],
 "metadata": {
  "kernelspec": {
   "display_name": "Python 3",
   "language": "python",
   "name": "python3"
  },
  "language_info": {
   "codemirror_mode": {
    "name": "ipython",
    "version": 3
   },
   "file_extension": ".py",
   "mimetype": "text/x-python",
   "name": "python",
   "nbconvert_exporter": "python",
   "pygments_lexer": "ipython3",
   "version": "3.8.8"
  }
 },
 "nbformat": 4,
 "nbformat_minor": 5
}
