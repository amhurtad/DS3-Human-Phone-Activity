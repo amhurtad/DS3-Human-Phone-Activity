{
 "cells": [
  {
   "cell_type": "markdown",
   "id": "italian-mauritius",
   "metadata": {},
   "source": [
    "# Logistic Regression w out PCA"
   ]
  },
  {
   "cell_type": "markdown",
   "id": "beginning-circular",
   "metadata": {},
   "source": [
    "# Logistic Regression w PCA"
   ]
  },
  {
   "cell_type": "code",
   "execution_count": null,
   "id": "adjusted-retrieval",
   "metadata": {},
   "outputs": [],
   "source": []
  }
 ],
 "metadata": {
  "kernelspec": {
   "display_name": "Python 3",
   "language": "python",
   "name": "python3"
  },
  "language_info": {
   "codemirror_mode": {
    "name": "ipython",
    "version": 3
   },
   "file_extension": ".py",
   "mimetype": "text/x-python",
   "name": "python",
   "nbconvert_exporter": "python",
   "pygments_lexer": "ipython3",
   "version": "3.7.3"
  }
 },
 "nbformat": 4,
 "nbformat_minor": 5
}
