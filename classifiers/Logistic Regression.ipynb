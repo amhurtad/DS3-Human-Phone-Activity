{
 "cells": [
  {
   "cell_type": "markdown",
   "id": "21d64005",
   "metadata": {},
   "source": [
    "# Logistic Regression"
   ]
  },
  {
   "cell_type": "code",
   "execution_count": 1,
   "id": "86a3c618",
   "metadata": {},
   "outputs": [],
   "source": [
    "import pandas as pd\n",
    "import numpy as np\n",
    "# imports from sklearn\n",
    "from sklearn.linear_model import LogisticRegression\n",
    "from sklearn.model_selection import GridSearchCV, StratifiedKFold\n",
    "\n",
    "#defining our model\n",
    "lg = LogisticRegression()"
   ]
  },
  {
   "cell_type": "code",
   "execution_count": 2,
   "id": "b58ca13e",
   "metadata": {},
   "outputs": [],
   "source": [
    "#loading in the pca datasets\n",
    "df_training_pca = pd.read_csv('../data/archive/train_pca.csv')\n",
    "df_testing_pca = pd.read_csv('../data/archive/test_pca.csv')\n",
    "\n",
    "#original datasets\n",
    "df_training = pd.read_csv('../data/archive/train.csv')\n",
    "df_testing = pd.read_csv('../data/archive/test.csv')"
   ]
  },
  {
   "cell_type": "code",
   "execution_count": 4,
   "id": "2396cc61",
   "metadata": {},
   "outputs": [],
   "source": [
    "#defining x and y with pca dataset\n",
    "x_pca_train = df_training_pca.iloc[:, :-1]\n",
    "y_pca_train = df_training_pca.iloc[:,-1]\n",
    "\n",
    "x_pca_test = df_testing_pca.iloc[:, :-1]\n",
    "y_pca_test = df_testing_pca.iloc[:,-1]"
   ]
  },
  {
   "cell_type": "code",
   "execution_count": 5,
   "id": "eed39805",
   "metadata": {},
   "outputs": [],
   "source": [
    "#defining x and y with original dataset\n",
    "x_train = df_training.iloc[:, :-2]\n",
    "y_train = df_training.iloc[:,-1]\n",
    "\n",
    "x_test = df_testing.iloc[:, :-2]\n",
    "y_test = df_testing.iloc[:,-1]"
   ]
  },
  {
   "cell_type": "markdown",
   "id": "7785465e",
   "metadata": {},
   "source": [
    "## With PCA"
   ]
  },
  {
   "cell_type": "code",
   "execution_count": 6,
   "id": "8f945acc",
   "metadata": {},
   "outputs": [],
   "source": [
    "#Making a grid of values we want our grid search to test to find the best parameters\n",
    "\n",
    "grid_values = [{'penalty': ['l2'], 'C' :[.01,.05,.1,.3,.5,.8,1], 'solver': ['newton-cg', 'lbfgs', 'sag', 'saga'], 'multi_class': ['multinomial'], 'max_iter' : [2000] }]\n",
    "\n",
    "\n",
    "lg_classifier = GridSearchCV(estimator = lg, param_grid = grid_values, cv = StratifiedKFold(n_splits = 5),\n",
    "                      scoring = ['accuracy', 'roc_auc_ovr', 'f1_micro'], refit = False, verbose = 0)\n",
    "\n",
    "lg_model = lg_classifier.fit(x_pca_train, y_pca_train)"
   ]
  },
  {
   "cell_type": "code",
   "execution_count": 7,
   "id": "87ed1fb8",
   "metadata": {},
   "outputs": [],
   "source": [
    "#initializing our lists so we can later store the best params that achieve best scores across metrics\n",
    "accuracy_best_params_pca = []\n",
    "precision_best_params_pca = []\n",
    "f1_best_params_pca = []\n",
    "\n",
    "accuracy_best_params_pca.append(lg_model.cv_results_['params'][ np.argmin(lg_model.cv_results_['rank_test_accuracy'])])\n",
    "precision_best_params_pca.append(lg_model.cv_results_['params'][ np.argmin(lg_model.cv_results_['rank_test_roc_auc_ovr'])])\n",
    "f1_best_params_pca.append(lg_model.cv_results_['params'][ np.argmin(lg_model.cv_results_['rank_test_f1_micro']) ])"
   ]
  },
  {
   "cell_type": "code",
   "execution_count": 8,
   "id": "086d2381",
   "metadata": {},
   "outputs": [
    {
     "data": {
      "text/plain": [
       "[{'C': 1,\n",
       "  'max_iter': 2000,\n",
       "  'multi_class': 'multinomial',\n",
       "  'penalty': 'l2',\n",
       "  'solver': 'newton-cg'}]"
      ]
     },
     "execution_count": 8,
     "metadata": {},
     "output_type": "execute_result"
    }
   ],
   "source": [
    "#printing best accuracy parmas\n",
    "accuracy_best_params_pca"
   ]
  },
  {
   "cell_type": "code",
   "execution_count": 9,
   "id": "4728efd8",
   "metadata": {},
   "outputs": [
    {
     "data": {
      "text/plain": [
       "[{'C': 1,\n",
       "  'max_iter': 2000,\n",
       "  'multi_class': 'multinomial',\n",
       "  'penalty': 'l2',\n",
       "  'solver': 'newton-cg'}]"
      ]
     },
     "execution_count": 9,
     "metadata": {},
     "output_type": "execute_result"
    }
   ],
   "source": [
    "#printing best precision parmas\n",
    "precision_best_params_pca"
   ]
  },
  {
   "cell_type": "code",
   "execution_count": 10,
   "id": "dc1840d3",
   "metadata": {},
   "outputs": [
    {
     "data": {
      "text/plain": [
       "[{'C': 1,\n",
       "  'max_iter': 2000,\n",
       "  'multi_class': 'multinomial',\n",
       "  'penalty': 'l2',\n",
       "  'solver': 'newton-cg'}]"
      ]
     },
     "execution_count": 10,
     "metadata": {},
     "output_type": "execute_result"
    }
   ],
   "source": [
    "#printing best f1 parmas\n",
    "f1_best_params_pca"
   ]
  },
  {
   "cell_type": "code",
   "execution_count": 11,
   "id": "e24dcb01",
   "metadata": {},
   "outputs": [],
   "source": [
    "#finding the accuracy metrics\n",
    "from sklearn.metrics import accuracy_score, f1_score, precision_score\n",
    "\n",
    "    \n",
    "def accuracy_metric(xtrain,ytrain,xtest,ytest):\n",
    "    accuracy_test_score = []\n",
    "    dt_clf = LogisticRegression(C=accuracy_best_params_pca[0]['C'], \n",
    "                                         multi_class = accuracy_best_params_pca[0]['multi_class'], \n",
    "                                         penalty = accuracy_best_params_pca[0]['penalty'],\n",
    "                                         solver = accuracy_best_params_pca[0]['solver'],\n",
    "                                         max_iter = accuracy_best_params_pca[0]['max_iter'])\n",
    "    model = dt_clf.fit(xtrain, ytrain)\n",
    "    y_pred = model.predict(xtest)\n",
    "    accuracy_test_score.append(accuracy_score(ytest, y_pred))\n",
    "    return accuracy_test_score\n",
    "\n",
    "def f1_metric(xtrain,ytrain,xtest,ytest):\n",
    "    f1_test_score = []\n",
    "    dt_clf = LogisticRegression(C=f1_best_params_pca[0]['C'], \n",
    "                                         multi_class = f1_best_params_pca[0]['multi_class'], \n",
    "                                         penalty = f1_best_params_pca[0]['penalty'],\n",
    "                                         solver = f1_best_params_pca[0]['solver'],\n",
    "                                         max_iter = f1_best_params_pca[0]['max_iter'])\n",
    "    model = dt_clf.fit(xtrain, ytrain)\n",
    "    y_pred = model.predict(xtest)\n",
    "    f1_test_score.append(f1_score(ytest, y_pred,average = 'micro'))\n",
    "    return f1_test_score\n",
    "\n",
    "def precision_metric(xtrain,ytrain,xtest,ytest):\n",
    "    precision_test_score = []\n",
    "    dt_clf = LogisticRegression(C=precision_best_params_pca[0]['C'], \n",
    "                                         multi_class = precision_best_params_pca[0]['multi_class'], \n",
    "                                         penalty = precision_best_params_pca[0]['penalty'],\n",
    "                                         solver = precision_best_params_pca[0]['solver'],\n",
    "                                         max_iter = precision_best_params_pca[0]['max_iter'])\n",
    "    model = dt_clf.fit(xtrain, ytrain)\n",
    "    y_pred = model.predict(xtest)\n",
    "    precision_test_score.append(precision_score(ytest, y_pred,average = 'micro'))\n",
    "    return precision_test_score"
   ]
  },
  {
   "cell_type": "code",
   "execution_count": 12,
   "id": "275ccc23",
   "metadata": {},
   "outputs": [
    {
     "name": "stdout",
     "output_type": "stream",
     "text": [
      "[0.9226331862911435]\n",
      "[0.9226331862911435]\n",
      "[0.9226331862911435]\n"
     ]
    }
   ],
   "source": [
    "#Printing metrics\n",
    "print(accuracy_metric(x_pca_train,y_pca_train,x_pca_test,y_pca_test))\n",
    "print(f1_metric(x_pca_train,y_pca_train,x_pca_test,y_pca_test))\n",
    "print(precision_metric(x_pca_train,y_pca_train,x_pca_test,y_pca_test))"
   ]
  },
  {
   "cell_type": "markdown",
   "id": "e4af908c",
   "metadata": {},
   "source": [
    "## Bootstrap with PCA"
   ]
  },
  {
   "cell_type": "code",
   "execution_count": 13,
   "id": "bd76faab",
   "metadata": {},
   "outputs": [],
   "source": [
    "#Separating X and y from testing since this won't be used in the for loop\n",
    "x_train_full_pca = df_training_pca.iloc[:,:-1]\n",
    "y_train_full_pca = df_training_pca.iloc[:,-1]\n",
    "\n",
    "x_test_pca = df_testing_pca.iloc[:, :-1]\n",
    "y_test_pca = df_testing_pca.iloc[:,-1]"
   ]
  },
  {
   "cell_type": "code",
   "execution_count": 14,
   "id": "1cb7dedb",
   "metadata": {},
   "outputs": [],
   "source": [
    "#getting all of our randomized samples from the training\n",
    "all_samples_pca = []\n",
    "\n",
    "for sample in range(0,5):\n",
    "    all_samples_pca.append(df_training.sample(n=5000, replace= True))"
   ]
  },
  {
   "cell_type": "code",
   "execution_count": 15,
   "id": "3cbf9eb0",
   "metadata": {},
   "outputs": [],
   "source": [
    "accuracy_best_params_pca = []\n",
    "precision_best_params_pca = []\n",
    "f1_best_params_pca = []\n",
    "\n",
    "#for loop to make five bootstraping samples \n",
    "for sample in all_samples_pca:\n",
    "    \n",
    "    \n",
    "    #Making a grid of values we want our grid search to test to find the best parameters\n",
    "    grid_values = [{'penalty': ['l2'], 'C' :[.01,.05,.1,.3,.5,.8,1], 'solver': ['newton-cg', 'lbfgs', 'sag', 'saga'], 'multi_class': ['multinomial'], 'max_iter' : [5000] }]\n",
    "\n",
    "\n",
    "    lg_classifier = GridSearchCV(estimator = lg, param_grid = grid_values, cv = StratifiedKFold(n_splits = 5),\n",
    "                      scoring = ['accuracy', 'roc_auc_ovr', 'f1_micro'], refit = False, verbose = 0)\n",
    "\n",
    "    x_train = sample.iloc[:, :-1]\n",
    "    y_train = sample.iloc[:,-1]\n",
    "    \n",
    "    lg_model = lg_classifier.fit(x_train, y_train)\n",
    "    \n",
    "    \n",
    "   \n",
    "\n",
    "    accuracy_best_params_pca.append(lg_model.cv_results_['params'][ np.argmin(lg_model.cv_results_['rank_test_accuracy'])])\n",
    "    precision_best_params_pca.append(lg_model.cv_results_['params'][ np.argmin(lg_model.cv_results_['rank_test_roc_auc_ovr'])])\n",
    "    f1_best_params_pca.append(lg_model.cv_results_['params'][ np.argmin(lg_model.cv_results_['rank_test_f1_micro']) ])\n",
    "    \n",
    "    "
   ]
  },
  {
   "cell_type": "code",
   "execution_count": 16,
   "id": "82f7e42a",
   "metadata": {},
   "outputs": [
    {
     "data": {
      "text/plain": [
       "[{'C': 0.8,\n",
       "  'max_iter': 5000,\n",
       "  'multi_class': 'multinomial',\n",
       "  'penalty': 'l2',\n",
       "  'solver': 'newton-cg'},\n",
       " {'C': 1,\n",
       "  'max_iter': 5000,\n",
       "  'multi_class': 'multinomial',\n",
       "  'penalty': 'l2',\n",
       "  'solver': 'newton-cg'},\n",
       " {'C': 1,\n",
       "  'max_iter': 5000,\n",
       "  'multi_class': 'multinomial',\n",
       "  'penalty': 'l2',\n",
       "  'solver': 'newton-cg'},\n",
       " {'C': 1,\n",
       "  'max_iter': 5000,\n",
       "  'multi_class': 'multinomial',\n",
       "  'penalty': 'l2',\n",
       "  'solver': 'newton-cg'},\n",
       " {'C': 1,\n",
       "  'max_iter': 5000,\n",
       "  'multi_class': 'multinomial',\n",
       "  'penalty': 'l2',\n",
       "  'solver': 'saga'}]"
      ]
     },
     "execution_count": 16,
     "metadata": {},
     "output_type": "execute_result"
    }
   ],
   "source": [
    "#printing best accuracy params for bootstrap samples\n",
    "accuracy_best_params_pca"
   ]
  },
  {
   "cell_type": "code",
   "execution_count": 17,
   "id": "bb9d534a",
   "metadata": {},
   "outputs": [
    {
     "data": {
      "text/plain": [
       "[{'C': 0.8,\n",
       "  'max_iter': 5000,\n",
       "  'multi_class': 'multinomial',\n",
       "  'penalty': 'l2',\n",
       "  'solver': 'newton-cg'},\n",
       " {'C': 1,\n",
       "  'max_iter': 5000,\n",
       "  'multi_class': 'multinomial',\n",
       "  'penalty': 'l2',\n",
       "  'solver': 'newton-cg'},\n",
       " {'C': 1,\n",
       "  'max_iter': 5000,\n",
       "  'multi_class': 'multinomial',\n",
       "  'penalty': 'l2',\n",
       "  'solver': 'newton-cg'},\n",
       " {'C': 1,\n",
       "  'max_iter': 5000,\n",
       "  'multi_class': 'multinomial',\n",
       "  'penalty': 'l2',\n",
       "  'solver': 'newton-cg'},\n",
       " {'C': 1,\n",
       "  'max_iter': 5000,\n",
       "  'multi_class': 'multinomial',\n",
       "  'penalty': 'l2',\n",
       "  'solver': 'newton-cg'}]"
      ]
     },
     "execution_count": 17,
     "metadata": {},
     "output_type": "execute_result"
    }
   ],
   "source": [
    "#printing best f1 params for bootstrap samples\n",
    "f1_best_params_pca"
   ]
  },
  {
   "cell_type": "code",
   "execution_count": 18,
   "id": "36417c46",
   "metadata": {},
   "outputs": [
    {
     "data": {
      "text/plain": [
       "[{'C': 1,\n",
       "  'max_iter': 5000,\n",
       "  'multi_class': 'multinomial',\n",
       "  'penalty': 'l2',\n",
       "  'solver': 'lbfgs'},\n",
       " {'C': 0.8,\n",
       "  'max_iter': 5000,\n",
       "  'multi_class': 'multinomial',\n",
       "  'penalty': 'l2',\n",
       "  'solver': 'newton-cg'},\n",
       " {'C': 1,\n",
       "  'max_iter': 5000,\n",
       "  'multi_class': 'multinomial',\n",
       "  'penalty': 'l2',\n",
       "  'solver': 'sag'},\n",
       " {'C': 1,\n",
       "  'max_iter': 5000,\n",
       "  'multi_class': 'multinomial',\n",
       "  'penalty': 'l2',\n",
       "  'solver': 'newton-cg'},\n",
       " {'C': 1,\n",
       "  'max_iter': 5000,\n",
       "  'multi_class': 'multinomial',\n",
       "  'penalty': 'l2',\n",
       "  'solver': 'lbfgs'}]"
      ]
     },
     "execution_count": 18,
     "metadata": {},
     "output_type": "execute_result"
    }
   ],
   "source": [
    "#printing best precision params for bootstrap samples\n",
    "precision_best_params_pca"
   ]
  },
  {
   "cell_type": "code",
   "execution_count": 49,
   "id": "e883a34f",
   "metadata": {},
   "outputs": [],
   "source": [
    "#finding the accuracy score for the five bootstraped samples\n",
    "accuracy_test_score_pca = []\n",
    "\n",
    "i = 0\n",
    "for param in accuracy_best_params_pca:\n",
    " \n",
    "    dt_clf = LogisticRegression(C=accuracy_best_params_pca[i]['C'], \n",
    "                                         multi_class = accuracy_best_params_pca[i]['multi_class'], \n",
    "                                         penalty = accuracy_best_params_pca[i]['penalty'],\n",
    "                                         solver = accuracy_best_params_pca[i]['solver'],\n",
    "                                         max_iter = accuracy_best_params_pca[i]['max_iter'])\n",
    "    model = dt_clf.fit(x_train_full_pca, y_train_full_pca)\n",
    "    y_pred = model.predict(x_test_pca)\n",
    "    accuracy_test_score_pca.append(accuracy_score(y_test_pca, y_pred))\n",
    "    i += 1"
   ]
  },
  {
   "cell_type": "code",
   "execution_count": 50,
   "id": "4801758f",
   "metadata": {},
   "outputs": [
    {
     "data": {
      "text/plain": [
       "[0.9229725144214456,\n",
       " 0.9226331862911435,\n",
       " 0.9226331862911435,\n",
       " 0.9226331862911435,\n",
       " 0.9226331862911435]"
      ]
     },
     "execution_count": 50,
     "metadata": {},
     "output_type": "execute_result"
    }
   ],
   "source": [
    "#printing the five bootstrapped samples accuracy score\n",
    "accuracy_test_score_pca"
   ]
  },
  {
   "cell_type": "code",
   "execution_count": 51,
   "id": "83529e02",
   "metadata": {},
   "outputs": [],
   "source": [
    "#finding the f1 score for the five bootstraped samples\n",
    "f1_test_score_pca = []\n",
    "\n",
    "i = 0\n",
    "for param in f1_best_params_pca:\n",
    "    \n",
    "    dt_clf = LogisticRegression(C=f1_best_params_pca[0]['C'], \n",
    "                                         multi_class = f1_best_params_pca[i]['multi_class'], \n",
    "                                         penalty = f1_best_params_pca[i]['penalty'],\n",
    "                                         solver = f1_best_params_pca[i]['solver'],\n",
    "                                         max_iter = f1_best_params_pca[i]['max_iter'])\n",
    "    model = dt_clf.fit(x_train_full_pca, y_train_full_pca)\n",
    "    y_pred = model.predict(x_test_pca)\n",
    "    f1_test_score_pca.append(f1_score(y_test_pca, y_pred,average = 'micro'))\n",
    "    i += 1"
   ]
  },
  {
   "cell_type": "code",
   "execution_count": 52,
   "id": "033e71d6",
   "metadata": {},
   "outputs": [
    {
     "data": {
      "text/plain": [
       "[0.9229725144214456,\n",
       " 0.9229725144214456,\n",
       " 0.9229725144214456,\n",
       " 0.9229725144214456,\n",
       " 0.9229725144214456]"
      ]
     },
     "execution_count": 52,
     "metadata": {},
     "output_type": "execute_result"
    }
   ],
   "source": [
    "#printing the five bootstrapped samples f1 score\n",
    "f1_test_score_pca"
   ]
  },
  {
   "cell_type": "code",
   "execution_count": 24,
   "id": "9fab7812",
   "metadata": {},
   "outputs": [],
   "source": [
    "#finding the precision score for the five bootstraped samples\n",
    "precision_test_score_pca = []\n",
    "\n",
    "i = 0\n",
    "for param in precision_best_params_pca:\n",
    "    \n",
    "    dt_clf = LogisticRegression(C=precision_best_params_pca[0]['C'], \n",
    "                                         multi_class = precision_best_params_pca[0]['multi_class'], \n",
    "                                         penalty = precision_best_params_pca[0]['penalty'],\n",
    "                                         solver = precision_best_params_pca[0]['solver'],\n",
    "                                         max_iter = precision_best_params_pca[0]['max_iter'])\n",
    "    model = dt_clf.fit(x_train_full_pca, y_train_full_pca)\n",
    "    y_pred = model.predict(x_test_pca)\n",
    "    precision_test_score_pca.append(precision_score(y_test_pca, y_pred,average = 'micro'))\n",
    "    i += 1"
   ]
  },
  {
   "cell_type": "code",
   "execution_count": 1,
   "id": "5a057c87",
   "metadata": {},
   "outputs": [
    {
     "ename": "NameError",
     "evalue": "name 'precision_test_score_pca' is not defined",
     "output_type": "error",
     "traceback": [
      "\u001b[1;31m---------------------------------------------------------------------------\u001b[0m",
      "\u001b[1;31mNameError\u001b[0m                                 Traceback (most recent call last)",
      "\u001b[1;32m<ipython-input-1-72eb59265cd6>\u001b[0m in \u001b[0;36m<module>\u001b[1;34m\u001b[0m\n\u001b[1;32m----> 1\u001b[1;33m \u001b[0mprecision_test_score_pca\u001b[0m\u001b[1;33m\u001b[0m\u001b[1;33m\u001b[0m\u001b[0m\n\u001b[0m",
      "\u001b[1;31mNameError\u001b[0m: name 'precision_test_score_pca' is not defined"
     ]
    }
   ],
   "source": [
    "#printing the five bootstrapped samples precision score\n",
    "precision_test_score_pca"
   ]
  },
  {
   "cell_type": "markdown",
   "id": "6d6b255c",
   "metadata": {},
   "source": [
    "# Logistic Regression (Non-PCA)"
   ]
  },
  {
   "cell_type": "code",
   "execution_count": 26,
   "id": "13ab5dad",
   "metadata": {},
   "outputs": [],
   "source": [
    "#Making a grid of values we want our grid search to test to find the best parameters\n",
    "\n",
    "grid_values = [{'penalty': ['l2'], 'C' :[.01,.05,.1,.3,.5,.8,1], 'solver': ['newton-cg', 'lbfgs', 'sag', 'saga'], 'multi_class': ['multinomial'], 'max_iter' : [5000] }]\n",
    "\n",
    "\n",
    "lg_classifier = GridSearchCV(estimator = lg, param_grid = grid_values, cv = StratifiedKFold(n_splits = 5),\n",
    "                      scoring = ['accuracy', 'roc_auc_ovr', 'f1_micro'], refit = False, verbose = 0)\n",
    "\n",
    "lg_model = lg_classifier.fit(x_train, y_train)"
   ]
  },
  {
   "cell_type": "code",
   "execution_count": 27,
   "id": "e91bbee9",
   "metadata": {},
   "outputs": [],
   "source": [
    "#initializing our lists so we can later store the best params that achieve best scores across metrics\n",
    "accuracy_best_params = []\n",
    "precision_best_params = []\n",
    "f1_best_params = []\n",
    "\n",
    "accuracy_best_params.append(lg_model.cv_results_['params'][ np.argmin(lg_model.cv_results_['rank_test_accuracy'])])\n",
    "precision_best_params.append(lg_model.cv_results_['params'][ np.argmin(lg_model.cv_results_['rank_test_roc_auc_ovr'])])\n",
    "f1_best_params.append(lg_model.cv_results_['params'][ np.argmin(lg_model.cv_results_['rank_test_f1_micro']) ])"
   ]
  },
  {
   "cell_type": "code",
   "execution_count": 28,
   "id": "b8c02516",
   "metadata": {},
   "outputs": [
    {
     "data": {
      "text/plain": [
       "[{'C': 1,\n",
       "  'max_iter': 5000,\n",
       "  'multi_class': 'multinomial',\n",
       "  'penalty': 'l2',\n",
       "  'solver': 'saga'}]"
      ]
     },
     "execution_count": 28,
     "metadata": {},
     "output_type": "execute_result"
    }
   ],
   "source": [
    "#printing best accuracy parmas\n",
    "accuracy_best_params"
   ]
  },
  {
   "cell_type": "code",
   "execution_count": 29,
   "id": "230f5bba",
   "metadata": {},
   "outputs": [
    {
     "data": {
      "text/plain": [
       "[{'C': 1,\n",
       "  'max_iter': 5000,\n",
       "  'multi_class': 'multinomial',\n",
       "  'penalty': 'l2',\n",
       "  'solver': 'lbfgs'}]"
      ]
     },
     "execution_count": 29,
     "metadata": {},
     "output_type": "execute_result"
    }
   ],
   "source": [
    "#printing best precision parmas\n",
    "precision_best_params"
   ]
  },
  {
   "cell_type": "code",
   "execution_count": 30,
   "id": "5dc3b719",
   "metadata": {},
   "outputs": [
    {
     "data": {
      "text/plain": [
       "[{'C': 1,\n",
       "  'max_iter': 5000,\n",
       "  'multi_class': 'multinomial',\n",
       "  'penalty': 'l2',\n",
       "  'solver': 'newton-cg'}]"
      ]
     },
     "execution_count": 30,
     "metadata": {},
     "output_type": "execute_result"
    }
   ],
   "source": [
    "#printing best f1 parmas\n",
    "f1_best_params"
   ]
  },
  {
   "cell_type": "code",
   "execution_count": 31,
   "id": "61c20ea2",
   "metadata": {},
   "outputs": [],
   "source": [
    "#finding the metrics\n",
    "def accuracy_metric(xtrain,ytrain,xtest,ytest):\n",
    "    accuracy_test_score = []\n",
    "    dt_clf = LogisticRegression(C=accuracy_best_params[0]['C'], \n",
    "                                         multi_class = accuracy_best_params[0]['multi_class'], \n",
    "                                         penalty = accuracy_best_params[0]['penalty'],\n",
    "                                         solver = accuracy_best_params[0]['solver'],\n",
    "                                         max_iter = accuracy_best_params[0]['max_iter'])\n",
    "    model = dt_clf.fit(xtrain, ytrain)\n",
    "    y_pred = model.predict(xtest)\n",
    "    accuracy_test_score.append(accuracy_score(ytest, y_pred))\n",
    "    return accuracy_test_score\n",
    "\n",
    "def f1_metric(xtrain,ytrain,xtest,ytest):\n",
    "    f1_test_score = []\n",
    "    dt_clf = LogisticRegression(C=f1_best_params[0]['C'], \n",
    "                                         multi_class = f1_best_params[0]['multi_class'], \n",
    "                                         penalty = f1_best_params[0]['penalty'],\n",
    "                                         solver = f1_best_params[0]['solver'],\n",
    "                                         max_iter = f1_best_params[0]['max_iter'])\n",
    "    model = dt_clf.fit(xtrain, ytrain)\n",
    "    y_pred = model.predict(xtest)\n",
    "    f1_test_score.append(f1_score(ytest, y_pred,average = 'micro'))\n",
    "    return f1_test_score\n",
    "\n",
    "def precision_metric(xtrain,ytrain,xtest,ytest):\n",
    "    precision_test_score = []\n",
    "    dt_clf = LogisticRegression(C=precision_best_params[0]['C'], \n",
    "                                         multi_class = precision_best_params[0]['multi_class'], \n",
    "                                         penalty = precision_best_params[0]['penalty'],\n",
    "                                         solver = precision_best_params[0]['solver'],\n",
    "                                         max_iter = precision_best_params[0]['max_iter'])\n",
    "    model = dt_clf.fit(xtrain, ytrain)\n",
    "    y_pred = model.predict(xtest)\n",
    "    precision_test_score.append(precision_score(ytest, y_pred,average = 'micro'))\n",
    "    return precision_test_score"
   ]
  },
  {
   "cell_type": "code",
   "execution_count": 54,
   "id": "46de02bc",
   "metadata": {},
   "outputs": [
    {
     "name": "stdout",
     "output_type": "stream",
     "text": [
      "[0.9558873430607397]\n",
      "[0.9558873430607397]\n",
      "[0.9555480149304377]\n"
     ]
    }
   ],
   "source": [
    "#printing the metrics\n",
    "print(accuracy_metric(x_train,y_train,x_test,y_test))\n",
    "print(f1_metric(x_train,y_train,x_test,y_test))\n",
    "print(precision_metric(x_train,y_train,x_test,y_test))"
   ]
  },
  {
   "cell_type": "markdown",
   "id": "013fab91",
   "metadata": {},
   "source": [
    "## Bootstrap without PCA"
   ]
  },
  {
   "cell_type": "code",
   "execution_count": 33,
   "id": "d4588523",
   "metadata": {},
   "outputs": [],
   "source": [
    "#Separating X and y from testing since this won't be used in the for loop\n",
    "x_train_full = df_training.iloc[:,:-1]\n",
    "y_train_full = df_training.iloc[:,-1]\n",
    "\n",
    "x_test = df_testing.iloc[:, :-1]\n",
    "y_test = df_testing.iloc[:,-1]"
   ]
  },
  {
   "cell_type": "code",
   "execution_count": 34,
   "id": "4c16ea02",
   "metadata": {},
   "outputs": [],
   "source": [
    "#getting all of our randomized samples from the training\n",
    "all_samples = []\n",
    "\n",
    "for sample in range(0,5):\n",
    "    all_samples.append(df_training.sample(n=5000, replace= True))"
   ]
  },
  {
   "cell_type": "code",
   "execution_count": 36,
   "id": "ca47ff49",
   "metadata": {},
   "outputs": [],
   "source": [
    "accuracy_best_params = []\n",
    "precision_best_params = []\n",
    "f1_best_params = []\n",
    "\n",
    "#for loop to get five bootstrap samples\n",
    "for sample in all_samples:\n",
    "    \n",
    "    \n",
    "    #Making a grid of values we want our grid search to test to find the best parameters\n",
    "    grid_values = [{'penalty': ['l2'], 'C' :[.01,.05,.1,.3,.5,.8,1], 'solver': ['newton-cg', 'lbfgs', 'sag', 'saga'], 'multi_class': ['multinomial'], 'max_iter' : [5000] }]\n",
    "\n",
    "\n",
    "    lg_classifier = GridSearchCV(estimator = lg, param_grid = grid_values, cv = StratifiedKFold(n_splits = 5),\n",
    "                      scoring = ['accuracy', 'roc_auc_ovr', 'f1_micro'], refit = False, verbose = 0)\n",
    "\n",
    "    x_train = sample.iloc[:, :-1]\n",
    "    y_train = sample.iloc[:,-1]\n",
    "    \n",
    "    lg_model = lg_classifier.fit(x_train, y_train)\n",
    "    \n",
    "    \n",
    "   \n",
    "\n",
    "    accuracy_best_params.append(lg_model.cv_results_['params'][ np.argmin(lg_model.cv_results_['rank_test_accuracy'])])\n",
    "    precision_best_params.append(lg_model.cv_results_['params'][ np.argmin(lg_model.cv_results_['rank_test_roc_auc_ovr'])])\n",
    "    f1_best_params.append(lg_model.cv_results_['params'][ np.argmin(lg_model.cv_results_['rank_test_f1_micro']) ])"
   ]
  },
  {
   "cell_type": "code",
   "execution_count": 37,
   "id": "62e33ca4",
   "metadata": {},
   "outputs": [
    {
     "data": {
      "text/plain": [
       "[{'C': 1,\n",
       "  'max_iter': 5000,\n",
       "  'multi_class': 'multinomial',\n",
       "  'penalty': 'l2',\n",
       "  'solver': 'sag'},\n",
       " {'C': 1,\n",
       "  'max_iter': 5000,\n",
       "  'multi_class': 'multinomial',\n",
       "  'penalty': 'l2',\n",
       "  'solver': 'newton-cg'},\n",
       " {'C': 1,\n",
       "  'max_iter': 5000,\n",
       "  'multi_class': 'multinomial',\n",
       "  'penalty': 'l2',\n",
       "  'solver': 'newton-cg'},\n",
       " {'C': 1,\n",
       "  'max_iter': 5000,\n",
       "  'multi_class': 'multinomial',\n",
       "  'penalty': 'l2',\n",
       "  'solver': 'sag'},\n",
       " {'C': 1,\n",
       "  'max_iter': 5000,\n",
       "  'multi_class': 'multinomial',\n",
       "  'penalty': 'l2',\n",
       "  'solver': 'newton-cg'}]"
      ]
     },
     "execution_count": 37,
     "metadata": {},
     "output_type": "execute_result"
    }
   ],
   "source": [
    "#printing the best accuracy params for the five bootstrap samples\n",
    "accuracy_best_params"
   ]
  },
  {
   "cell_type": "code",
   "execution_count": 38,
   "id": "c790a11b",
   "metadata": {},
   "outputs": [
    {
     "data": {
      "text/plain": [
       "[{'C': 1,\n",
       "  'max_iter': 5000,\n",
       "  'multi_class': 'multinomial',\n",
       "  'penalty': 'l2',\n",
       "  'solver': 'sag'},\n",
       " {'C': 1,\n",
       "  'max_iter': 5000,\n",
       "  'multi_class': 'multinomial',\n",
       "  'penalty': 'l2',\n",
       "  'solver': 'newton-cg'},\n",
       " {'C': 1,\n",
       "  'max_iter': 5000,\n",
       "  'multi_class': 'multinomial',\n",
       "  'penalty': 'l2',\n",
       "  'solver': 'newton-cg'},\n",
       " {'C': 1,\n",
       "  'max_iter': 5000,\n",
       "  'multi_class': 'multinomial',\n",
       "  'penalty': 'l2',\n",
       "  'solver': 'sag'},\n",
       " {'C': 1,\n",
       "  'max_iter': 5000,\n",
       "  'multi_class': 'multinomial',\n",
       "  'penalty': 'l2',\n",
       "  'solver': 'newton-cg'}]"
      ]
     },
     "execution_count": 38,
     "metadata": {},
     "output_type": "execute_result"
    }
   ],
   "source": [
    "#printing the best f1 params for the five bootstrap samples\n",
    "f1_best_params"
   ]
  },
  {
   "cell_type": "code",
   "execution_count": 39,
   "id": "0097ed7e",
   "metadata": {},
   "outputs": [
    {
     "data": {
      "text/plain": [
       "[{'C': 1,\n",
       "  'max_iter': 5000,\n",
       "  'multi_class': 'multinomial',\n",
       "  'penalty': 'l2',\n",
       "  'solver': 'newton-cg'},\n",
       " {'C': 1,\n",
       "  'max_iter': 5000,\n",
       "  'multi_class': 'multinomial',\n",
       "  'penalty': 'l2',\n",
       "  'solver': 'newton-cg'},\n",
       " {'C': 1,\n",
       "  'max_iter': 5000,\n",
       "  'multi_class': 'multinomial',\n",
       "  'penalty': 'l2',\n",
       "  'solver': 'lbfgs'},\n",
       " {'C': 1,\n",
       "  'max_iter': 5000,\n",
       "  'multi_class': 'multinomial',\n",
       "  'penalty': 'l2',\n",
       "  'solver': 'sag'},\n",
       " {'C': 1,\n",
       "  'max_iter': 5000,\n",
       "  'multi_class': 'multinomial',\n",
       "  'penalty': 'l2',\n",
       "  'solver': 'lbfgs'}]"
      ]
     },
     "execution_count": 39,
     "metadata": {},
     "output_type": "execute_result"
    }
   ],
   "source": [
    "#printing the best precision params for the five bootstrap samples\n",
    "precision_best_params"
   ]
  },
  {
   "cell_type": "code",
   "execution_count": 41,
   "id": "b00c4589",
   "metadata": {},
   "outputs": [],
   "source": [
    "#finding the accuracy score for the five bootstraped samples\n",
    "accuracy_test_score = []\n",
    "\n",
    "i = 0\n",
    "for param in accuracy_best_params:\n",
    " \n",
    "    dt_clf = LogisticRegression(C=accuracy_best_params[i]['C'], \n",
    "                                         multi_class = accuracy_best_params[i]['multi_class'], \n",
    "                                         penalty = accuracy_best_params[i]['penalty'],\n",
    "                                         solver = accuracy_best_params[i]['solver'],\n",
    "                                         max_iter = accuracy_best_params[i]['max_iter'])\n",
    "    model = dt_clf.fit(x_train_full, y_train_full)\n",
    "    y_pred = model.predict(x_test)\n",
    "    accuracy_test_score.append(accuracy_score(y_test, y_pred))\n",
    "    i += 1"
   ]
  },
  {
   "cell_type": "code",
   "execution_count": 42,
   "id": "27dc5660",
   "metadata": {},
   "outputs": [
    {
     "data": {
      "text/plain": [
       "[0.9592806243637597,\n",
       " 0.9596199524940617,\n",
       " 0.9596199524940617,\n",
       " 0.9592806243637597,\n",
       " 0.9596199524940617]"
      ]
     },
     "execution_count": 42,
     "metadata": {},
     "output_type": "execute_result"
    }
   ],
   "source": [
    "accuracy_test_score"
   ]
  },
  {
   "cell_type": "code",
   "execution_count": 43,
   "id": "d7422a09",
   "metadata": {},
   "outputs": [],
   "source": [
    "#finding the f1 score for the five bootstraped samples\n",
    "f1_test_score = []\n",
    "\n",
    "i = 0\n",
    "for param in f1_best_params:\n",
    "    \n",
    "    dt_clf = LogisticRegression(C=f1_best_params[0]['C'], \n",
    "                                         multi_class = f1_best_params[i]['multi_class'], \n",
    "                                         penalty = f1_best_params[i]['penalty'],\n",
    "                                         solver = f1_best_params[i]['solver'],\n",
    "                                         max_iter = f1_best_params[i]['max_iter'])\n",
    "    model = dt_clf.fit(x_train_full, y_train_full)\n",
    "    y_pred = model.predict(x_test)\n",
    "    f1_test_score.append(f1_score(y_test, y_pred,average = 'micro'))\n",
    "    i += 1"
   ]
  },
  {
   "cell_type": "code",
   "execution_count": 44,
   "id": "c8013a9b",
   "metadata": {},
   "outputs": [
    {
     "data": {
      "text/plain": [
       "[0.9592806243637597,\n",
       " 0.9596199524940617,\n",
       " 0.9596199524940617,\n",
       " 0.9596199524940617,\n",
       " 0.9596199524940617]"
      ]
     },
     "execution_count": 44,
     "metadata": {},
     "output_type": "execute_result"
    }
   ],
   "source": [
    "f1_test_score"
   ]
  },
  {
   "cell_type": "code",
   "execution_count": 45,
   "id": "21464d29",
   "metadata": {},
   "outputs": [],
   "source": [
    "#finding the precision score for the five bootstraped samples\n",
    "precision_test_score = []\n",
    "\n",
    "i = 0\n",
    "for param in precision_best_params:\n",
    "    \n",
    "    dt_clf = LogisticRegression(C=precision_best_params[0]['C'], \n",
    "                                         multi_class = precision_best_params[0]['multi_class'], \n",
    "                                         penalty = precision_best_params[0]['penalty'],\n",
    "                                         solver = precision_best_params[0]['solver'],\n",
    "                                         max_iter = precision_best_params[0]['max_iter'])\n",
    "    model = dt_clf.fit(x_train_full, y_train_full)\n",
    "    y_pred = model.predict(x_test)\n",
    "    precision_test_score.append(precision_score(y_test, y_pred,average = 'micro'))\n",
    "    i += 1"
   ]
  },
  {
   "cell_type": "code",
   "execution_count": 46,
   "id": "6901b4fd",
   "metadata": {},
   "outputs": [
    {
     "data": {
      "text/plain": [
       "[0.9596199524940617,\n",
       " 0.9596199524940617,\n",
       " 0.9596199524940617,\n",
       " 0.9596199524940617,\n",
       " 0.9596199524940617]"
      ]
     },
     "execution_count": 46,
     "metadata": {},
     "output_type": "execute_result"
    }
   ],
   "source": [
    "precision_test_score"
   ]
  }
 ],
 "metadata": {
  "kernelspec": {
   "display_name": "Python 3",
   "language": "python",
   "name": "python3"
  },
  "language_info": {
   "codemirror_mode": {
    "name": "ipython",
    "version": 3
   },
   "file_extension": ".py",
   "mimetype": "text/x-python",
   "name": "python",
   "nbconvert_exporter": "python",
   "pygments_lexer": "ipython3",
   "version": "3.8.8"
  }
 },
 "nbformat": 4,
 "nbformat_minor": 5
}
