{
 "cells": [
  {
   "cell_type": "markdown",
   "id": "21d64005",
   "metadata": {},
   "source": [
    "# Logistic Regression"
   ]
  },
  {
   "cell_type": "code",
   "execution_count": 1,
   "id": "86a3c618",
   "metadata": {},
   "outputs": [],
   "source": [
    "import pandas as pd\n",
    "import numpy as np\n",
    "# imports from sklearn\n",
    "from sklearn.linear_model import LogisticRegression\n",
    "from sklearn.model_selection import GridSearchCV, StratifiedKFold\n",
    "\n",
    "lg = LogisticRegression()"
   ]
  },
  {
   "cell_type": "code",
   "execution_count": 2,
   "id": "b58ca13e",
   "metadata": {},
   "outputs": [],
   "source": [
    "#loading in the datasets\n",
    "df_training = pd.read_csv('../data/archive/train_pca.csv')\n",
    "df_testing = pd.read_csv('../data/archive/test_pca.csv')"
   ]
  },
  {
   "cell_type": "code",
   "execution_count": 3,
   "id": "2396cc61",
   "metadata": {},
   "outputs": [],
   "source": [
    "x_train = df_training.iloc[:, :-1]\n",
    "y_train = df_training.iloc[:,-1]\n",
    "\n",
    "x_test = df_testing.iloc[:, :-1]\n",
    "y_test = df_testing.iloc[:,-1]"
   ]
  },
  {
   "cell_type": "code",
   "execution_count": 4,
   "id": "8f945acc",
   "metadata": {},
   "outputs": [],
   "source": [
    "#Making a grid of values we want our grid search to test to find the best parameters\n",
    "\n",
    "grid_values = [{'penalty': ['l2'], 'C' :[.01,.05,.1,.3,.5,.8,1], 'solver': ['newton-cg', 'lbfgs', 'sag', 'saga'], 'multi_class': ['multinomial'], 'max_iter' : [2000] }]\n",
    "\n",
    "\n",
    "lg_classifier = GridSearchCV(estimator = lg, param_grid = grid_values, cv = StratifiedKFold(n_splits = 5),\n",
    "                      scoring = ['accuracy', 'roc_auc_ovr', 'f1_micro'], refit = False, verbose = 0)\n",
    "\n",
    "lg_model = lg_classifier.fit(x_train, y_train)"
   ]
  },
  {
   "cell_type": "code",
   "execution_count": 5,
   "id": "87ed1fb8",
   "metadata": {},
   "outputs": [],
   "source": [
    "#initializing our lists so we can later store the best params that achieve best scores across metrics\n",
    "accuracy_best_params = []\n",
    "precision_best_params = []\n",
    "f1_best_params = []\n",
    "\n",
    "accuracy_best_params.append(lg_model.cv_results_['params'][ np.argmin(lg_model.cv_results_['rank_test_accuracy'])])\n",
    "precision_best_params.append(lg_model.cv_results_['params'][ np.argmin(lg_model.cv_results_['rank_test_roc_auc_ovr'])])\n",
    "f1_best_params.append(lg_model.cv_results_['params'][ np.argmin(lg_model.cv_results_['rank_test_f1_micro']) ])"
   ]
  },
  {
   "cell_type": "code",
   "execution_count": 6,
   "id": "086d2381",
   "metadata": {},
   "outputs": [
    {
     "data": {
      "text/plain": [
       "[{'C': 1,\n",
       "  'max_iter': 2000,\n",
       "  'multi_class': 'multinomial',\n",
       "  'penalty': 'l2',\n",
       "  'solver': 'newton-cg'}]"
      ]
     },
     "execution_count": 6,
     "metadata": {},
     "output_type": "execute_result"
    }
   ],
   "source": [
    "accuracy_best_params"
   ]
  },
  {
   "cell_type": "code",
   "execution_count": 7,
   "id": "4728efd8",
   "metadata": {},
   "outputs": [
    {
     "data": {
      "text/plain": [
       "[{'C': 1,\n",
       "  'max_iter': 2000,\n",
       "  'multi_class': 'multinomial',\n",
       "  'penalty': 'l2',\n",
       "  'solver': 'newton-cg'}]"
      ]
     },
     "execution_count": 7,
     "metadata": {},
     "output_type": "execute_result"
    }
   ],
   "source": [
    "precision_best_params"
   ]
  },
  {
   "cell_type": "code",
   "execution_count": 8,
   "id": "dc1840d3",
   "metadata": {},
   "outputs": [
    {
     "data": {
      "text/plain": [
       "[{'C': 1,\n",
       "  'max_iter': 2000,\n",
       "  'multi_class': 'multinomial',\n",
       "  'penalty': 'l2',\n",
       "  'solver': 'newton-cg'}]"
      ]
     },
     "execution_count": 8,
     "metadata": {},
     "output_type": "execute_result"
    }
   ],
   "source": [
    "f1_best_params"
   ]
  },
  {
   "cell_type": "code",
   "execution_count": 9,
   "id": "e24dcb01",
   "metadata": {},
   "outputs": [],
   "source": [
    "#finding the accuracy metrics\n",
    "from sklearn.metrics import accuracy_score, f1_score, precision_score\n",
    "\n",
    "    \n",
    "def accuracy_metric(xtrain,ytrain,xtest,ytest):\n",
    "    accuracy_test_score = []\n",
    "    dt_clf = LogisticRegression(C=accuracy_best_params[0]['C'], \n",
    "                                         multi_class = accuracy_best_params[0]['multi_class'], \n",
    "                                         penalty = accuracy_best_params[0]['penalty'],\n",
    "                                         solver = accuracy_best_params[0]['solver'],\n",
    "                                         max_iter = accuracy_best_params[0]['max_iter'])\n",
    "    model = dt_clf.fit(xtrain, ytrain)\n",
    "    y_pred = model.predict(xtest)\n",
    "    accuracy_test_score.append(accuracy_score(ytest, y_pred))\n",
    "    return accuracy_test_score\n",
    "\n",
    "def f1_metric(xtrain,ytrain,xtest,ytest):\n",
    "    f1_test_score = []\n",
    "    dt_clf = LogisticRegression(C=f1_best_params[0]['C'], \n",
    "                                         multi_class = f1_best_params[0]['multi_class'], \n",
    "                                         penalty = f1_best_params[0]['penalty'],\n",
    "                                         solver = f1_best_params[0]['solver'],\n",
    "                                         max_iter = f1_best_params[0]['max_iter'])\n",
    "    model = dt_clf.fit(xtrain, ytrain)\n",
    "    y_pred = model.predict(xtest)\n",
    "    f1_test_score.append(f1_score(ytest, y_pred,average = 'micro'))\n",
    "    return f1_test_score\n",
    "\n",
    "def precision_metric(xtrain,ytrain,xtest,ytest):\n",
    "    precision_test_score = []\n",
    "    dt_clf = LogisticRegression(C=precision_best_params[0]['C'], \n",
    "                                         multi_class = precision_best_params[0]['multi_class'], \n",
    "                                         penalty = precision_best_params[0]['penalty'],\n",
    "                                         solver = precision_best_params[0]['solver'],\n",
    "                                         max_iter = precision_best_params[0]['max_iter'])\n",
    "    model = dt_clf.fit(xtrain, ytrain)\n",
    "    y_pred = model.predict(xtest)\n",
    "    precision_test_score.append(precision_score(ytest, y_pred,average = 'micro'))\n",
    "    return precision_test_score"
   ]
  },
  {
   "cell_type": "code",
   "execution_count": 10,
   "id": "275ccc23",
   "metadata": {},
   "outputs": [
    {
     "name": "stdout",
     "output_type": "stream",
     "text": [
      "[0.9226331862911435]\n",
      "[0.9226331862911435]\n",
      "[0.9226331862911435]\n"
     ]
    }
   ],
   "source": [
    "print(accuracy_metric(x_train,y_train,x_test,y_test))\n",
    "print(f1_metric(x_train,y_train,x_test,y_test))\n",
    "print(precision_metric(x_train,y_train,x_test,y_test))"
   ]
  },
  {
   "cell_type": "markdown",
   "id": "e4af908c",
   "metadata": {},
   "source": [
    "## Bootstrap"
   ]
  },
  {
   "cell_type": "code",
   "execution_count": 11,
   "id": "bd76faab",
   "metadata": {},
   "outputs": [],
   "source": [
    "#Separating X and y from testing since this won't be used in the for loop\n",
    "x_train_full = df_training.iloc[:,:-1]\n",
    "y_train_full = df_training.iloc[:,-1]\n",
    "\n",
    "x_test = df_testing.iloc[:, :-1]\n",
    "y_test = df_testing.iloc[:,-1]"
   ]
  },
  {
   "cell_type": "code",
   "execution_count": 12,
   "id": "1cb7dedb",
   "metadata": {},
   "outputs": [],
   "source": [
    "#getting all of our randomized samples from the training\n",
    "all_samples = []\n",
    "\n",
    "for sample in range(0,5):\n",
    "    all_samples.append(df_training.sample(n=5000, replace= True))"
   ]
  },
  {
   "cell_type": "code",
   "execution_count": 13,
   "id": "3cbf9eb0",
   "metadata": {},
   "outputs": [],
   "source": [
    "accuracy_best_params = []\n",
    "precision_best_params = []\n",
    "f1_best_params = []\n",
    "\n",
    "\n",
    "for sample in all_samples:\n",
    "    \n",
    "    \n",
    "    #Making a grid of values we want our grid search to test to find the best parameters\n",
    "    grid_values = [{'penalty': ['l2'], 'C' :[.01,.05,.1,.3,.5,.8,1], 'solver': ['newton-cg', 'lbfgs', 'sag', 'saga'], 'multi_class': ['multinomial'], 'max_iter' : [2000] }]\n",
    "\n",
    "\n",
    "    lg_classifier = GridSearchCV(estimator = lg, param_grid = grid_values, cv = StratifiedKFold(n_splits = 5),\n",
    "                      scoring = ['accuracy', 'roc_auc_ovr', 'f1_micro'], refit = False, verbose = 0)\n",
    "\n",
    "    x_train = sample.iloc[:, :-1]\n",
    "    y_train = sample.iloc[:,-1]\n",
    "    \n",
    "    lg_model = lg_classifier.fit(x_train, y_train)\n",
    "    \n",
    "    \n",
    "   \n",
    "\n",
    "    accuracy_best_params.append(lg_model.cv_results_['params'][ np.argmin(lg_model.cv_results_['rank_test_accuracy'])])\n",
    "    precision_best_params.append(lg_model.cv_results_['params'][ np.argmin(lg_model.cv_results_['rank_test_roc_auc_ovr'])])\n",
    "    f1_best_params.append(lg_model.cv_results_['params'][ np.argmin(lg_model.cv_results_['rank_test_f1_micro']) ])\n",
    "    \n",
    "    \n",
    "  "
   ]
  },
  {
   "cell_type": "code",
   "execution_count": 14,
   "id": "82f7e42a",
   "metadata": {},
   "outputs": [
    {
     "data": {
      "text/plain": [
       "[{'C': 1,\n",
       "  'max_iter': 2000,\n",
       "  'multi_class': 'multinomial',\n",
       "  'penalty': 'l2',\n",
       "  'solver': 'sag'},\n",
       " {'C': 1,\n",
       "  'max_iter': 2000,\n",
       "  'multi_class': 'multinomial',\n",
       "  'penalty': 'l2',\n",
       "  'solver': 'newton-cg'},\n",
       " {'C': 1,\n",
       "  'max_iter': 2000,\n",
       "  'multi_class': 'multinomial',\n",
       "  'penalty': 'l2',\n",
       "  'solver': 'newton-cg'},\n",
       " {'C': 1,\n",
       "  'max_iter': 2000,\n",
       "  'multi_class': 'multinomial',\n",
       "  'penalty': 'l2',\n",
       "  'solver': 'newton-cg'},\n",
       " {'C': 1,\n",
       "  'max_iter': 2000,\n",
       "  'multi_class': 'multinomial',\n",
       "  'penalty': 'l2',\n",
       "  'solver': 'sag'}]"
      ]
     },
     "execution_count": 14,
     "metadata": {},
     "output_type": "execute_result"
    }
   ],
   "source": [
    "accuracy_best_params"
   ]
  },
  {
   "cell_type": "code",
   "execution_count": 15,
   "id": "bb9d534a",
   "metadata": {},
   "outputs": [
    {
     "data": {
      "text/plain": [
       "[{'C': 1,\n",
       "  'max_iter': 2000,\n",
       "  'multi_class': 'multinomial',\n",
       "  'penalty': 'l2',\n",
       "  'solver': 'sag'},\n",
       " {'C': 1,\n",
       "  'max_iter': 2000,\n",
       "  'multi_class': 'multinomial',\n",
       "  'penalty': 'l2',\n",
       "  'solver': 'newton-cg'},\n",
       " {'C': 1,\n",
       "  'max_iter': 2000,\n",
       "  'multi_class': 'multinomial',\n",
       "  'penalty': 'l2',\n",
       "  'solver': 'newton-cg'},\n",
       " {'C': 1,\n",
       "  'max_iter': 2000,\n",
       "  'multi_class': 'multinomial',\n",
       "  'penalty': 'l2',\n",
       "  'solver': 'newton-cg'},\n",
       " {'C': 1,\n",
       "  'max_iter': 2000,\n",
       "  'multi_class': 'multinomial',\n",
       "  'penalty': 'l2',\n",
       "  'solver': 'sag'}]"
      ]
     },
     "execution_count": 15,
     "metadata": {},
     "output_type": "execute_result"
    }
   ],
   "source": [
    "f1_best_params"
   ]
  },
  {
   "cell_type": "code",
   "execution_count": 16,
   "id": "36417c46",
   "metadata": {},
   "outputs": [
    {
     "data": {
      "text/plain": [
       "[{'C': 1,\n",
       "  'max_iter': 2000,\n",
       "  'multi_class': 'multinomial',\n",
       "  'penalty': 'l2',\n",
       "  'solver': 'newton-cg'},\n",
       " {'C': 1,\n",
       "  'max_iter': 2000,\n",
       "  'multi_class': 'multinomial',\n",
       "  'penalty': 'l2',\n",
       "  'solver': 'newton-cg'},\n",
       " {'C': 1,\n",
       "  'max_iter': 2000,\n",
       "  'multi_class': 'multinomial',\n",
       "  'penalty': 'l2',\n",
       "  'solver': 'newton-cg'},\n",
       " {'C': 1,\n",
       "  'max_iter': 2000,\n",
       "  'multi_class': 'multinomial',\n",
       "  'penalty': 'l2',\n",
       "  'solver': 'newton-cg'},\n",
       " {'C': 1,\n",
       "  'max_iter': 2000,\n",
       "  'multi_class': 'multinomial',\n",
       "  'penalty': 'l2',\n",
       "  'solver': 'lbfgs'}]"
      ]
     },
     "execution_count": 16,
     "metadata": {},
     "output_type": "execute_result"
    }
   ],
   "source": [
    "precision_best_params"
   ]
  },
  {
   "cell_type": "code",
   "execution_count": 17,
   "id": "09845b59",
   "metadata": {},
   "outputs": [
    {
     "name": "stdout",
     "output_type": "stream",
     "text": [
      "[0.9202578893790295]\n",
      "[0.9202578893790295]\n",
      "[0.9205972175093315]\n"
     ]
    }
   ],
   "source": [
    "print(accuracy_metric(x_train,y_train,x_test,y_test))\n",
    "print(f1_metric(x_train,y_train,x_test,y_test))\n",
    "print(precision_metric(x_train,y_train,x_test,y_test))"
   ]
  },
  {
   "cell_type": "code",
   "execution_count": 18,
   "id": "e883a34f",
   "metadata": {},
   "outputs": [],
   "source": [
    "accuracy_test_score = []\n",
    "\n",
    "i = 0\n",
    "for param in accuracy_best_params:\n",
    " \n",
    "    dt_clf = LogisticRegression(C=accuracy_best_params[i]['C'], \n",
    "                                         multi_class = accuracy_best_params[i]['multi_class'], \n",
    "                                         penalty = accuracy_best_params[i]['penalty'],\n",
    "                                         solver = accuracy_best_params[i]['solver'],\n",
    "                                         max_iter = accuracy_best_params[i]['max_iter'])\n",
    "    model = dt_clf.fit(x_train_full, y_train_full)\n",
    "    y_pred = model.predict(x_test)\n",
    "    accuracy_test_score.append(accuracy_score(y_test, y_pred))\n",
    "    i += 1"
   ]
  },
  {
   "cell_type": "code",
   "execution_count": 19,
   "id": "4801758f",
   "metadata": {},
   "outputs": [
    {
     "data": {
      "text/plain": [
       "[0.9222938581608415,\n",
       " 0.9226331862911435,\n",
       " 0.9226331862911435,\n",
       " 0.9226331862911435,\n",
       " 0.9222938581608415]"
      ]
     },
     "execution_count": 19,
     "metadata": {},
     "output_type": "execute_result"
    }
   ],
   "source": [
    "accuracy_test_score"
   ]
  },
  {
   "cell_type": "code",
   "execution_count": 20,
   "id": "83529e02",
   "metadata": {},
   "outputs": [],
   "source": [
    "f1_test_score = []\n",
    "\n",
    "i = 0\n",
    "for param in f1_best_params:\n",
    "    \n",
    "    dt_clf = LogisticRegression(C=f1_best_params[0]['C'], \n",
    "                                         multi_class = f1_best_params[i]['multi_class'], \n",
    "                                         penalty = f1_best_params[i]['penalty'],\n",
    "                                         solver = f1_best_params[i]['solver'],\n",
    "                                         max_iter = f1_best_params[i]['max_iter'])\n",
    "    model = dt_clf.fit(x_train_full, y_train_full)\n",
    "    y_pred = model.predict(x_test)\n",
    "    f1_test_score.append(f1_score(y_test, y_pred,average = 'micro'))\n",
    "    i += 1"
   ]
  },
  {
   "cell_type": "code",
   "execution_count": 21,
   "id": "033e71d6",
   "metadata": {},
   "outputs": [
    {
     "data": {
      "text/plain": [
       "[0.9222938581608415,\n",
       " 0.9226331862911435,\n",
       " 0.9226331862911435,\n",
       " 0.9226331862911435,\n",
       " 0.9222938581608415]"
      ]
     },
     "execution_count": 21,
     "metadata": {},
     "output_type": "execute_result"
    }
   ],
   "source": [
    "f1_test_score"
   ]
  },
  {
   "cell_type": "code",
   "execution_count": 22,
   "id": "9fab7812",
   "metadata": {},
   "outputs": [],
   "source": [
    "precision_test_score = []\n",
    "\n",
    "i = 0\n",
    "for param in precision_best_params:\n",
    "    \n",
    "    dt_clf = LogisticRegression(C=precision_best_params[0]['C'], \n",
    "                                         multi_class = precision_best_params[0]['multi_class'], \n",
    "                                         penalty = precision_best_params[0]['penalty'],\n",
    "                                         solver = precision_best_params[0]['solver'],\n",
    "                                         max_iter = precision_best_params[0]['max_iter'])\n",
    "    model = dt_clf.fit(x_train_full, y_train_full)\n",
    "    y_pred = model.predict(x_test)\n",
    "    precision_test_score.append(precision_score(y_test, y_pred,average = 'micro'))\n",
    "    i += 1"
   ]
  },
  {
   "cell_type": "code",
   "execution_count": 23,
   "id": "5a057c87",
   "metadata": {},
   "outputs": [
    {
     "data": {
      "text/plain": [
       "[0.9226331862911435,\n",
       " 0.9226331862911435,\n",
       " 0.9226331862911435,\n",
       " 0.9226331862911435,\n",
       " 0.9226331862911435]"
      ]
     },
     "execution_count": 23,
     "metadata": {},
     "output_type": "execute_result"
    }
   ],
   "source": [
    "precision_test_score"
   ]
  }
 ],
 "metadata": {
  "kernelspec": {
   "display_name": "Python 3",
   "language": "python",
   "name": "python3"
  },
  "language_info": {
   "codemirror_mode": {
    "name": "ipython",
    "version": 3
   },
   "file_extension": ".py",
   "mimetype": "text/x-python",
   "name": "python",
   "nbconvert_exporter": "python",
   "pygments_lexer": "ipython3",
   "version": "3.8.8"
  }
 },
 "nbformat": 4,
 "nbformat_minor": 5
}
