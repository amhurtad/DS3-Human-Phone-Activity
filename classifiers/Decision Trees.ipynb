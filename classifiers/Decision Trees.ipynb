{
 "cells": [
  {
   "cell_type": "markdown",
   "id": "cc46c7bd",
   "metadata": {},
   "source": [
    "# Decision Trees"
   ]
  },
  {
   "cell_type": "code",
   "execution_count": 1,
   "id": "7132cd8f",
   "metadata": {},
   "outputs": [],
   "source": [
    "import pandas as pd\n",
    "import numpy as np\n",
    "# imports from sklearn\n",
    "from sklearn import tree\n",
    "from sklearn.model_selection import GridSearchCV, StratifiedKFold\n",
    "\n",
    "dt = tree.DecisionTreeClassifier()"
   ]
  },
  {
   "cell_type": "code",
   "execution_count": 2,
   "id": "5642ddbf",
   "metadata": {},
   "outputs": [],
   "source": [
    "#loading in the datasets\n",
    "#pca datasets\n",
    "df_pca_training = pd.read_csv('../data/archive/train_pca.csv')\n",
    "df_pca_testing = pd.read_csv('../data/archive/test_pca.csv')"
   ]
  },
  {
   "cell_type": "code",
   "execution_count": 3,
   "id": "f11de9b1",
   "metadata": {},
   "outputs": [],
   "source": [
    "#defining x and y with pca dataset\n",
    "x_pca_train = df_pca_training.iloc[:, :-1]\n",
    "y_pca_train = df_pca_training.iloc[:,-1]\n",
    "\n",
    "x_pca_test = df_pca_testing.iloc[:, :-1]\n",
    "y_pca_test = df_pca_testing.iloc[:,-1]"
   ]
  },
  {
   "cell_type": "code",
   "execution_count": 5,
   "id": "aa551182",
   "metadata": {},
   "outputs": [],
   "source": [
    "#Making a grid of values we want our grid search to test to find the best parameters\n",
    "\n",
    "grid_values = [{'criterion': ['gini', 'entropy'], 'max_depth' :list(range(1,104,4)), 'min_samples_leaf':list(range(10,100,10))}]\n",
    "\n",
    "dt_classifier = GridSearchCV(estimator = dt, param_grid = grid_values, cv = StratifiedKFold(n_splits = 5),\n",
    "                      scoring = ['accuracy', 'roc_auc_ovr', 'f1_micro'], refit = False, verbose = 0)\n",
    "\n",
    "dt_pca_model = dt_classifier.fit(x_pca_train, y_pca_train)"
   ]
  },
  {
   "cell_type": "code",
   "execution_count": 6,
   "id": "47e17b76",
   "metadata": {},
   "outputs": [],
   "source": [
    "#initializing our lists so we can later store the best params that achieve best scores across metrics\n",
    "accuracy_best_params = []\n",
    "precision_best_params = []\n",
    "f1_best_params = []\n",
    "\n",
    "def params(model):\n",
    "    accuracy_best_params.append(model.cv_results_['params'][ np.argmin(model.cv_results_['rank_test_accuracy'])])\n",
    "    precision_best_params.append(model.cv_results_['params'][ np.argmin(model.cv_results_['rank_test_roc_auc_ovr'])])\n",
    "    f1_best_params.append(model.cv_results_['params'][ np.argmin(model.cv_results_['rank_test_f1_micro']) ])\n",
    "    \n",
    "    print(accuracy_best_params)\n",
    "    print(precision_best_params)\n",
    "    print(f1_best_params)"
   ]
  },
  {
   "cell_type": "code",
   "execution_count": 8,
   "id": "e0e9fd43",
   "metadata": {},
   "outputs": [
    {
     "name": "stdout",
     "output_type": "stream",
     "text": [
      "[{'criterion': 'entropy', 'max_depth': 37, 'min_samples_leaf': 80}, {'criterion': 'entropy', 'max_depth': 37, 'min_samples_leaf': 80}]\n",
      "[{'criterion': 'gini', 'max_depth': 97, 'min_samples_leaf': 60}, {'criterion': 'gini', 'max_depth': 97, 'min_samples_leaf': 60}]\n",
      "[{'criterion': 'entropy', 'max_depth': 37, 'min_samples_leaf': 80}, {'criterion': 'entropy', 'max_depth': 37, 'min_samples_leaf': 80}]\n"
     ]
    }
   ],
   "source": [
    "#shows best params for the model\n",
    "params(dt_pca_model)"
   ]
  },
  {
   "cell_type": "code",
   "execution_count": 9,
   "id": "ef49600a",
   "metadata": {},
   "outputs": [],
   "source": [
    "#finding the accuracy metrics\n",
    "from sklearn.metrics import accuracy_score, f1_score, precision_score\n",
    "    \n",
    "def accuracy_metric(xtrain,ytrain,xtest,ytest):\n",
    "    accuracy_test_score = []\n",
    "    dt_clf = tree.DecisionTreeClassifier(criterion=accuracy_best_params[0]['criterion'], \n",
    "                                         max_depth = accuracy_best_params[0]['max_depth'], \n",
    "                                         min_samples_leaf = accuracy_best_params[0]['min_samples_leaf'])\n",
    "    model = dt_clf.fit(xtrain, ytrain)\n",
    "    y_pred = model.predict(xtest)\n",
    "    accuracy_test_score.append(accuracy_score(ytest, y_pred))\n",
    "    return accuracy_test_score\n",
    "\n",
    "def f1_metric(xtrain,ytrain,xtest,ytest):\n",
    "    f1_test_score = []\n",
    "    dt_clf = tree.DecisionTreeClassifier(criterion=f1_best_params[0]['criterion'], \n",
    "                                         max_depth = f1_best_params[0]['max_depth'], \n",
    "                                         min_samples_leaf = f1_best_params[0]['min_samples_leaf'])\n",
    "    model = dt_clf.fit(xtrain, ytrain)\n",
    "    y_pred = model.predict(xtest)\n",
    "    f1_test_score.append(f1_score(ytest, y_pred,average = 'micro'))\n",
    "    return f1_test_score\n",
    "\n",
    "def precision_metric(xtrain,ytrain,xtest,ytest):\n",
    "    precision_test_score = []\n",
    "    dt_clf = tree.DecisionTreeClassifier(criterion=precision_best_params[0]['criterion'], \n",
    "                                         max_depth = precision_best_params[0]['max_depth'], \n",
    "                                         min_samples_leaf = precision_best_params[0]['min_samples_leaf'])\n",
    "    model = dt_clf.fit(xtrain, ytrain)\n",
    "    y_pred = model.predict(xtest)\n",
    "    precision_test_score.append(precision_score(ytest, y_pred,average = 'micro'))\n",
    "    return precision_test_score"
   ]
  },
  {
   "cell_type": "code",
   "execution_count": 11,
   "id": "4154fdfb",
   "metadata": {},
   "outputs": [
    {
     "name": "stdout",
     "output_type": "stream",
     "text": [
      "[0.8089582626399728]\n",
      "[0.808958262639973]\n",
      "[0.7991177468612148]\n"
     ]
    }
   ],
   "source": [
    "#Printing the accuracy metrics\n",
    "print(accuracy_metric(x_pca_train,y_pca_train,x_pca_test,y_pca_test))\n",
    "print(f1_metric(x_pca_train,y_pca_train,x_pca_test,y_pca_test))\n",
    "print(precision_metric(x_pca_train,y_pca_train,x_pca_test,y_pca_test))"
   ]
  },
  {
   "cell_type": "markdown",
   "id": "e568fdf9",
   "metadata": {},
   "source": [
    "## Bootstrap"
   ]
  },
  {
   "cell_type": "code",
   "execution_count": 12,
   "id": "81649a3d",
   "metadata": {},
   "outputs": [],
   "source": [
    "#Separating X and y from testing since this won't be used in the for loop\n",
    "x_train_full = df_pca_training.iloc[:,:-1]\n",
    "y_train_full = df_pca_training.iloc[:,-1]\n",
    "\n",
    "x_test = df_pca_testing.iloc[:, :-1]\n",
    "y_test = df_pca_testing.iloc[:,-1]"
   ]
  },
  {
   "cell_type": "code",
   "execution_count": 13,
   "id": "c405a5cc",
   "metadata": {},
   "outputs": [],
   "source": [
    "#getting all of our randomized samples from the training\n",
    "all_samples = []\n",
    "\n",
    "for sample in range(0,5):\n",
    "    all_samples.append(df_pca_training.sample(n=5000, replace= True))"
   ]
  },
  {
   "cell_type": "code",
   "execution_count": 14,
   "id": "b6ee334b",
   "metadata": {},
   "outputs": [],
   "source": [
    "#Making a grid of values we want our grid search to test to find the best parameters\n",
    "#looping this 5 times to get 5 bootstrap samples\n",
    "\n",
    "\n",
    "accuracy_best_params = []\n",
    "precision_best_params = []\n",
    "f1_best_params = []\n",
    "\n",
    "\n",
    "for sample in all_samples:\n",
    "    \n",
    "    \n",
    "    #Making a grid of values we want our grid search to test to find the best parameters\n",
    "    grid_values = [{'criterion': ['gini', 'entropy'], 'max_depth' :list(range(1,104,4)), 'min_samples_leaf':list(range(10,100,10))}]\n",
    "\n",
    "    dt_classifier = GridSearchCV(estimator = dt, param_grid = grid_values, cv = StratifiedKFold(n_splits = 5),\n",
    "                      scoring = ['accuracy', 'roc_auc_ovr', 'f1_micro'], refit = False, verbose = 0)\n",
    "\n",
    "    x_train = sample.iloc[:, :-1]\n",
    "    y_train = sample.iloc[:,-1]\n",
    "    \n",
    "    dt_pca_model = dt_classifier.fit(x_pca_train, y_pca_train)\n",
    "    \n",
    "    accuracy_best_params.append(dt_pca_model.cv_results_['params'][ np.argmin(dt_pca_model.cv_results_['rank_test_accuracy'])])\n",
    "    precision_best_params.append(dt_pca_model.cv_results_['params'][ np.argmin(dt_pca_model.cv_results_['rank_test_roc_auc_ovr'])])\n",
    "    f1_best_params.append(dt_pca_model.cv_results_['params'][ np.argmin(dt_pca_model.cv_results_['rank_test_f1_micro']) ])\n",
    "    "
   ]
  },
  {
   "cell_type": "code",
   "execution_count": 15,
   "id": "966b1877",
   "metadata": {},
   "outputs": [
    {
     "data": {
      "text/plain": [
       "[{'criterion': 'entropy', 'max_depth': 17, 'min_samples_leaf': 10},\n",
       " {'criterion': 'entropy', 'max_depth': 65, 'min_samples_leaf': 10},\n",
       " {'criterion': 'entropy', 'max_depth': 33, 'min_samples_leaf': 20},\n",
       " {'criterion': 'entropy', 'max_depth': 65, 'min_samples_leaf': 20},\n",
       " {'criterion': 'entropy', 'max_depth': 25, 'min_samples_leaf': 10}]"
      ]
     },
     "execution_count": 15,
     "metadata": {},
     "output_type": "execute_result"
    }
   ],
   "source": [
    "#best accuracy parms for bootstrap samples\n",
    "accuracy_best_params"
   ]
  },
  {
   "cell_type": "code",
   "execution_count": 16,
   "id": "0b3f87cb",
   "metadata": {},
   "outputs": [
    {
     "data": {
      "text/plain": [
       "[{'criterion': 'gini', 'max_depth': 9, 'min_samples_leaf': 70},\n",
       " {'criterion': 'gini', 'max_depth': 101, 'min_samples_leaf': 70},\n",
       " {'criterion': 'gini', 'max_depth': 9, 'min_samples_leaf': 70},\n",
       " {'criterion': 'gini', 'max_depth': 9, 'min_samples_leaf': 70},\n",
       " {'criterion': 'gini', 'max_depth': 81, 'min_samples_leaf': 70}]"
      ]
     },
     "execution_count": 16,
     "metadata": {},
     "output_type": "execute_result"
    }
   ],
   "source": [
    "#best precision parms for bootstrap samples\n",
    "precision_best_params"
   ]
  },
  {
   "cell_type": "code",
   "execution_count": 17,
   "id": "85d1cd8c",
   "metadata": {},
   "outputs": [
    {
     "data": {
      "text/plain": [
       "[{'criterion': 'entropy', 'max_depth': 17, 'min_samples_leaf': 10},\n",
       " {'criterion': 'entropy', 'max_depth': 65, 'min_samples_leaf': 10},\n",
       " {'criterion': 'entropy', 'max_depth': 33, 'min_samples_leaf': 20},\n",
       " {'criterion': 'entropy', 'max_depth': 65, 'min_samples_leaf': 20},\n",
       " {'criterion': 'entropy', 'max_depth': 25, 'min_samples_leaf': 10}]"
      ]
     },
     "execution_count": 17,
     "metadata": {},
     "output_type": "execute_result"
    }
   ],
   "source": [
    "#best f1 parms for bootstrap samples\n",
    "f1_best_params"
   ]
  },
  {
   "cell_type": "code",
   "execution_count": 19,
   "id": "07fb88b8",
   "metadata": {},
   "outputs": [],
   "source": [
    "#finding the accuracy score for the 5 bootstraped samples\n",
    "accuracy_test_score = []\n",
    "\n",
    "i = 0\n",
    "for param in accuracy_best_params:\n",
    " \n",
    "    dt_clf = tree.DecisionTreeClassifier(criterion=accuracy_best_params[i]['criterion'], \n",
    "                                         max_depth = accuracy_best_params[i]['max_depth'], \n",
    "                                         min_samples_leaf = accuracy_best_params[i]['min_samples_leaf'])\n",
    "    model = dt_clf.fit(x_train_full, y_train_full)\n",
    "    y_pred = model.predict(x_test)\n",
    "    accuracy_test_score.append(accuracy_score(y_test, y_pred))\n",
    "    i += 1"
   ]
  },
  {
   "cell_type": "code",
   "execution_count": 20,
   "id": "426d0f67",
   "metadata": {},
   "outputs": [
    {
     "data": {
      "text/plain": [
       "[0.8242280285035629,\n",
       " 0.825924669155073,\n",
       " 0.831014591109603,\n",
       " 0.831014591109603,\n",
       " 0.8245673566338649]"
      ]
     },
     "execution_count": 20,
     "metadata": {},
     "output_type": "execute_result"
    }
   ],
   "source": [
    "accuracy_test_score"
   ]
  },
  {
   "cell_type": "code",
   "execution_count": 21,
   "id": "76e65598",
   "metadata": {},
   "outputs": [],
   "source": [
    "#finding the f1 score for the 5 bootstraped samples\n",
    "f1_test_score = []\n",
    "\n",
    "i = 0\n",
    "for param in f1_best_params:\n",
    "    \n",
    "    dt_clf = tree.DecisionTreeClassifier(criterion=f1_best_params[i]['criterion'], \n",
    "                                         max_depth = f1_best_params[i]['max_depth'], \n",
    "                                         min_samples_leaf = f1_best_params[i]['min_samples_leaf'])\n",
    "    model = dt_clf.fit(x_train_full, y_train_full)\n",
    "    y_pred = model.predict(x_test)\n",
    "    f1_test_score.append(f1_score(y_test, y_pred,average = 'micro'))\n",
    "    i += 1"
   ]
  },
  {
   "cell_type": "code",
   "execution_count": 22,
   "id": "7725d50e",
   "metadata": {},
   "outputs": [
    {
     "data": {
      "text/plain": [
       "[0.825585341024771,\n",
       " 0.824906684764167,\n",
       " 0.8310145911096029,\n",
       " 0.829996606718697,\n",
       " 0.825585341024771]"
      ]
     },
     "execution_count": 22,
     "metadata": {},
     "output_type": "execute_result"
    }
   ],
   "source": [
    "f1_test_score"
   ]
  },
  {
   "cell_type": "code",
   "execution_count": 23,
   "id": "932fe33d",
   "metadata": {},
   "outputs": [],
   "source": [
    "#finding the precision score for the 5 bootstraped samples\n",
    "precision_test_score = []\n",
    "\n",
    "i = 0\n",
    "for param in precision_best_params:\n",
    "    \n",
    "    dt_clf = tree.DecisionTreeClassifier(criterion=precision_best_params[i]['criterion'], \n",
    "                                         max_depth = precision_best_params[i]['max_depth'], \n",
    "                                         min_samples_leaf = precision_best_params[i]['min_samples_leaf'])\n",
    "    model = dt_clf.fit(x_train_full, y_train_full)\n",
    "    y_pred = model.predict(x_test)\n",
    "    precision_test_score.append(precision_score(y_test, y_pred,average = 'micro'))\n",
    "    i += 1"
   ]
  },
  {
   "cell_type": "code",
   "execution_count": 24,
   "id": "5209e400",
   "metadata": {},
   "outputs": [
    {
     "data": {
      "text/plain": [
       "[0.7964031218187988,\n",
       " 0.7974211062097047,\n",
       " 0.7974211062097047,\n",
       " 0.7964031218187988,\n",
       " 0.7964031218187988]"
      ]
     },
     "execution_count": 24,
     "metadata": {},
     "output_type": "execute_result"
    }
   ],
   "source": [
    "precision_test_score"
   ]
  }
 ],
 "metadata": {
  "kernelspec": {
   "display_name": "Python 3",
   "language": "python",
   "name": "python3"
  },
  "language_info": {
   "codemirror_mode": {
    "name": "ipython",
    "version": 3
   },
   "file_extension": ".py",
   "mimetype": "text/x-python",
   "name": "python",
   "nbconvert_exporter": "python",
   "pygments_lexer": "ipython3",
   "version": "3.8.8"
  }
 },
 "nbformat": 4,
 "nbformat_minor": 5
}
