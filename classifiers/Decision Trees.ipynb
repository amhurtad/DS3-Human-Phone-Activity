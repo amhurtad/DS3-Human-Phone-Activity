{
 "cells": [
  {
   "cell_type": "markdown",
   "id": "cc46c7bd",
   "metadata": {},
   "source": [
    "# Decision Trees"
   ]
  },
  {
   "cell_type": "code",
   "execution_count": 1,
   "id": "7132cd8f",
   "metadata": {},
   "outputs": [],
   "source": [
    "import pandas as pd\n",
    "import numpy as np\n",
    "# imports from sklearn\n",
    "from sklearn import tree\n",
    "from sklearn.model_selection import GridSearchCV, StratifiedKFold\n",
    "\n",
    "dt = tree.DecisionTreeClassifier()"
   ]
  },
  {
   "cell_type": "code",
   "execution_count": 2,
   "id": "5642ddbf",
   "metadata": {},
   "outputs": [],
   "source": [
    "#loading in the datasets\n",
    "#pca datasets\n",
    "df_pca_training = pd.read_csv('../data/archive/train_pca.csv')\n",
    "df_pca_testing = pd.read_csv('../data/archive/test_pca.csv')\n",
    "\n",
    "#original datasets\n",
    "df_training = pd.read_csv('../data/archive/train.csv')\n",
    "df_testing = pd.read_csv('../data/archive/test.csv')"
   ]
  },
  {
   "cell_type": "code",
   "execution_count": 3,
   "id": "f11de9b1",
   "metadata": {},
   "outputs": [],
   "source": [
    "#defining x and y with pca dataset\n",
    "x_pca_train = df_pca_training.iloc[:, :-1]\n",
    "y_pca_train = df_pca_training.iloc[:,-1]\n",
    "\n",
    "x_pca_test = df_pca_testing.iloc[:, :-1]\n",
    "y_pca_test = df_pca_testing.iloc[:,-1]"
   ]
  },
  {
   "cell_type": "code",
   "execution_count": 4,
   "id": "ba953b8e",
   "metadata": {},
   "outputs": [],
   "source": [
    "#defining x and y with original dataset\n",
    "x_train = df_training.iloc[:, :-2]\n",
    "y_train = df_training.iloc[:,-1]\n",
    "\n",
    "x_test = df_testing.iloc[:, :-2]\n",
    "y_test = df_testing.iloc[:,-1]"
   ]
  },
  {
   "cell_type": "code",
   "execution_count": 5,
   "id": "aa551182",
   "metadata": {},
   "outputs": [],
   "source": [
    "#Making a grid of values we want our grid search to test to find the best parameters\n",
    "\n",
    "grid_values = [{'criterion': ['gini', 'entropy'], 'max_depth' :list(range(1,104,4)), 'min_samples_leaf':list(range(10,100,10))}]\n",
    "\n",
    "dt_classifier = GridSearchCV(estimator = dt, param_grid = grid_values, cv = StratifiedKFold(n_splits = 5),\n",
    "                      scoring = ['accuracy', 'roc_auc_ovr', 'f1_micro'], refit = False, verbose = 0)\n",
    "\n",
    "dt_pca_model = dt_classifier.fit(x_pca_train, y_pca_train)\n",
    "dt_model = dt_classifier.fit(x_train, y_train)"
   ]
  },
  {
   "cell_type": "code",
   "execution_count": 6,
   "id": "47e17b76",
   "metadata": {},
   "outputs": [],
   "source": [
    "#initializing our lists so we can later store the best params that achieve best scores across metrics\n",
    "accuracy_best_params = []\n",
    "precision_best_params = []\n",
    "f1_best_params = []\n",
    "\n",
    "def params(model):\n",
    "    accuracy_best_params.append(model.cv_results_['params'][ np.argmin(model.cv_results_['rank_test_accuracy'])])\n",
    "    precision_best_params.append(model.cv_results_['params'][ np.argmin(model.cv_results_['rank_test_roc_auc_ovr'])])\n",
    "    f1_best_params.append(model.cv_results_['params'][ np.argmin(model.cv_results_['rank_test_f1_micro']) ])\n",
    "    \n",
    "    print(accuracy_best_params)\n",
    "    print(precision_best_params)\n",
    "    print(f1_best_params)"
   ]
  },
  {
   "cell_type": "code",
   "execution_count": 7,
   "id": "16a22464",
   "metadata": {},
   "outputs": [
    {
     "name": "stdout",
     "output_type": "stream",
     "text": [
      "[{'criterion': 'entropy', 'max_depth': 5, 'min_samples_leaf': 10}]\n",
      "[{'criterion': 'gini', 'max_depth': 81, 'min_samples_leaf': 60}]\n",
      "[{'criterion': 'entropy', 'max_depth': 5, 'min_samples_leaf': 10}]\n"
     ]
    }
   ],
   "source": [
    "params(dt_model)"
   ]
  },
  {
   "cell_type": "code",
   "execution_count": 8,
   "id": "e0e9fd43",
   "metadata": {},
   "outputs": [
    {
     "name": "stdout",
     "output_type": "stream",
     "text": [
      "[{'criterion': 'entropy', 'max_depth': 5, 'min_samples_leaf': 10}, {'criterion': 'entropy', 'max_depth': 5, 'min_samples_leaf': 10}]\n",
      "[{'criterion': 'gini', 'max_depth': 81, 'min_samples_leaf': 60}, {'criterion': 'gini', 'max_depth': 81, 'min_samples_leaf': 60}]\n",
      "[{'criterion': 'entropy', 'max_depth': 5, 'min_samples_leaf': 10}, {'criterion': 'entropy', 'max_depth': 5, 'min_samples_leaf': 10}]\n"
     ]
    }
   ],
   "source": [
    "params(dt_pca_model)"
   ]
  },
  {
   "cell_type": "code",
   "execution_count": 13,
   "id": "ef49600a",
   "metadata": {},
   "outputs": [],
   "source": [
    "#finding the accuracy metrics\n",
    "from sklearn.metrics import accuracy_score, f1_score, precision_score\n",
    "    \n",
    "def accuracy_metric(xtrain,ytrain,xtest,ytest):\n",
    "    accuracy_test_score = []\n",
    "    dt_clf = tree.DecisionTreeClassifier(criterion=accuracy_best_params[0]['criterion'], \n",
    "                                         max_depth = accuracy_best_params[0]['max_depth'], \n",
    "                                         min_samples_leaf = accuracy_best_params[0]['min_samples_leaf'])\n",
    "    model = dt_clf.fit(xtrain, ytrain)\n",
    "    y_pred = model.predict(xtest)\n",
    "    accuracy_test_score.append(accuracy_score(ytest, y_pred))\n",
    "    return accuracy_test_score\n",
    "\n",
    "def f1_metric(xtrain,ytrain,xtest,ytest):\n",
    "    f1_test_score = []\n",
    "    dt_clf = tree.DecisionTreeClassifier(criterion=f1_best_params[0]['criterion'], \n",
    "                                         max_depth = f1_best_params[0]['max_depth'], \n",
    "                                         min_samples_leaf = f1_best_params[0]['min_samples_leaf'])\n",
    "    model = dt_clf.fit(xtrain, ytrain)\n",
    "    y_pred = model.predict(xtest)\n",
    "    f1_test_score.append(f1_score(ytest, y_pred,average = 'micro'))\n",
    "    return f1_test_score\n",
    "\n",
    "def precision_metric(xtrain,ytrain,xtest,ytest):\n",
    "    precision_test_score = []\n",
    "    dt_clf = tree.DecisionTreeClassifier(criterion=precision_best_params[0]['criterion'], \n",
    "                                         max_depth = precision_best_params[0]['max_depth'], \n",
    "                                         min_samples_leaf = precision_best_params[0]['min_samples_leaf'])\n",
    "    model = dt_clf.fit(xtrain, ytrain)\n",
    "    y_pred = model.predict(xtest)\n",
    "    precision_test_score.append(precision_score(ytest, y_pred,average = 'micro'))\n",
    "    return precision_test_score"
   ]
  },
  {
   "cell_type": "code",
   "execution_count": 14,
   "id": "6cb52ec8",
   "metadata": {},
   "outputs": [
    {
     "name": "stdout",
     "output_type": "stream",
     "text": [
      "[0.8581608415337632]\n",
      "[0.8608754665761792]\n",
      "[0.8588394977943672]\n"
     ]
    }
   ],
   "source": [
    "print(accuracy_metric(x_train,y_train,x_test,y_test))\n",
    "print(f1_metric(x_train,y_train,x_test,y_test))\n",
    "print(precision_metric(x_train,y_train,x_test,y_test))"
   ]
  },
  {
   "cell_type": "code",
   "execution_count": 15,
   "id": "4154fdfb",
   "metadata": {},
   "outputs": [
    {
     "name": "stdout",
     "output_type": "stream",
     "text": [
      "[0.8177807940278249]\n",
      "[0.8177807940278249]\n",
      "[0.7991177468612148]\n"
     ]
    }
   ],
   "source": [
    "print(accuracy_metric(x_pca_train,y_pca_train,x_pca_test,y_pca_test))\n",
    "print(f1_metric(x_pca_train,y_pca_train,x_pca_test,y_pca_test))\n",
    "print(precision_metric(x_pca_train,y_pca_train,x_pca_test,y_pca_test))"
   ]
  }
 ],
 "metadata": {
  "kernelspec": {
   "display_name": "Python 3",
   "language": "python",
   "name": "python3"
  },
  "language_info": {
   "codemirror_mode": {
    "name": "ipython",
    "version": 3
   },
   "file_extension": ".py",
   "mimetype": "text/x-python",
   "name": "python",
   "nbconvert_exporter": "python",
   "pygments_lexer": "ipython3",
   "version": "3.8.8"
  }
 },
 "nbformat": 4,
 "nbformat_minor": 5
}
