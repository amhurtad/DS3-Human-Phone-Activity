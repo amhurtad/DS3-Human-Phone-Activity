{
 "cells": [
  {
   "cell_type": "markdown",
   "metadata": {},
   "source": [
    "# KNN Classifier"
   ]
  },
  {
   "cell_type": "code",
   "execution_count": 18,
   "metadata": {},
   "outputs": [],
   "source": [
    "import pandas as pd\n",
    "import numpy as np\n",
    "import matplotlib.pyplot as plt\n",
    "import seaborn as sns"
   ]
  },
  {
   "cell_type": "code",
   "execution_count": 39,
   "metadata": {},
   "outputs": [],
   "source": [
    "#loading in the datasets\n",
    "df_training = pd.read_csv('../data/archive/train.csv')\n",
    "df_testing = pd.read_csv('../data/archive/test.csv')"
   ]
  },
  {
   "cell_type": "markdown",
   "metadata": {},
   "source": [
    "# PCA - Principal Component Analysis"
   ]
  },
  {
   "cell_type": "code",
   "execution_count": 20,
   "metadata": {},
   "outputs": [],
   "source": [
    "#Start my importing the necessary library\n",
    "from sklearn.decomposition import PCA"
   ]
  },
  {
   "cell_type": "code",
   "execution_count": 21,
   "metadata": {},
   "outputs": [],
   "source": [
    "pca = PCA(n_components = 3)"
   ]
  },
  {
   "cell_type": "code",
   "execution_count": 22,
   "metadata": {},
   "outputs": [],
   "source": [
    "#Now we have to extract only the independent variables \n",
    "x_train_pca = df_training.iloc[:,:-2]\n",
    "x_test_pca = df_testing.iloc[:,:-2]"
   ]
  },
  {
   "cell_type": "code",
   "execution_count": 23,
   "metadata": {},
   "outputs": [],
   "source": [
    "#Now let's fit our features to our pca model on both training and test sets\n",
    "train_components = pca.fit_transform(x_train_pca)\n",
    "test_components = pca.fit_transform(x_test_pca)"
   ]
  },
  {
   "cell_type": "code",
   "execution_count": 24,
   "metadata": {},
   "outputs": [
    {
     "data": {
      "text/html": [
       "<div>\n",
       "<style scoped>\n",
       "    .dataframe tbody tr th:only-of-type {\n",
       "        vertical-align: middle;\n",
       "    }\n",
       "\n",
       "    .dataframe tbody tr th {\n",
       "        vertical-align: top;\n",
       "    }\n",
       "\n",
       "    .dataframe thead th {\n",
       "        text-align: right;\n",
       "    }\n",
       "</style>\n",
       "<table border=\"1\" class=\"dataframe\">\n",
       "  <thead>\n",
       "    <tr style=\"text-align: right;\">\n",
       "      <th></th>\n",
       "      <th>principal component 1</th>\n",
       "      <th>principal component 2</th>\n",
       "      <th>principal component 3</th>\n",
       "    </tr>\n",
       "  </thead>\n",
       "  <tbody>\n",
       "    <tr>\n",
       "      <th>0</th>\n",
       "      <td>-5.520280</td>\n",
       "      <td>-0.290278</td>\n",
       "      <td>-1.529928</td>\n",
       "    </tr>\n",
       "    <tr>\n",
       "      <th>1</th>\n",
       "      <td>-5.535350</td>\n",
       "      <td>-0.082530</td>\n",
       "      <td>-1.924804</td>\n",
       "    </tr>\n",
       "    <tr>\n",
       "      <th>2</th>\n",
       "      <td>-5.474988</td>\n",
       "      <td>0.287387</td>\n",
       "      <td>-2.144641</td>\n",
       "    </tr>\n",
       "    <tr>\n",
       "      <th>3</th>\n",
       "      <td>-5.677232</td>\n",
       "      <td>0.897031</td>\n",
       "      <td>-2.018220</td>\n",
       "    </tr>\n",
       "    <tr>\n",
       "      <th>4</th>\n",
       "      <td>-5.748749</td>\n",
       "      <td>1.162952</td>\n",
       "      <td>-2.139533</td>\n",
       "    </tr>\n",
       "  </tbody>\n",
       "</table>\n",
       "</div>"
      ],
      "text/plain": [
       "   principal component 1  principal component 2  principal component 3\n",
       "0              -5.520280              -0.290278              -1.529928\n",
       "1              -5.535350              -0.082530              -1.924804\n",
       "2              -5.474988               0.287387              -2.144641\n",
       "3              -5.677232               0.897031              -2.018220\n",
       "4              -5.748749               1.162952              -2.139533"
      ]
     },
     "execution_count": 24,
     "metadata": {},
     "output_type": "execute_result"
    }
   ],
   "source": [
    "#Let's look at our pca features for training set \n",
    "pca_train_df = pd.DataFrame(data = train_components, columns = ['principal component 1', 'principal component 2',\n",
    "                                                    'principal component 3'] )\n",
    "pca_train_df.head()"
   ]
  },
  {
   "cell_type": "code",
   "execution_count": 25,
   "metadata": {},
   "outputs": [
    {
     "data": {
      "text/html": [
       "<div>\n",
       "<style scoped>\n",
       "    .dataframe tbody tr th:only-of-type {\n",
       "        vertical-align: middle;\n",
       "    }\n",
       "\n",
       "    .dataframe tbody tr th {\n",
       "        vertical-align: top;\n",
       "    }\n",
       "\n",
       "    .dataframe thead th {\n",
       "        text-align: right;\n",
       "    }\n",
       "</style>\n",
       "<table border=\"1\" class=\"dataframe\">\n",
       "  <thead>\n",
       "    <tr style=\"text-align: right;\">\n",
       "      <th></th>\n",
       "      <th>principal component 1</th>\n",
       "      <th>principal component 2</th>\n",
       "      <th>principal component 3</th>\n",
       "    </tr>\n",
       "  </thead>\n",
       "  <tbody>\n",
       "    <tr>\n",
       "      <th>0</th>\n",
       "      <td>-2.754984</td>\n",
       "      <td>-1.387993</td>\n",
       "      <td>0.129400</td>\n",
       "    </tr>\n",
       "    <tr>\n",
       "      <th>1</th>\n",
       "      <td>-4.399115</td>\n",
       "      <td>-1.256751</td>\n",
       "      <td>-0.480589</td>\n",
       "    </tr>\n",
       "    <tr>\n",
       "      <th>2</th>\n",
       "      <td>-5.066335</td>\n",
       "      <td>-0.616208</td>\n",
       "      <td>-1.428895</td>\n",
       "    </tr>\n",
       "    <tr>\n",
       "      <th>3</th>\n",
       "      <td>-5.186594</td>\n",
       "      <td>-0.900992</td>\n",
       "      <td>-1.470128</td>\n",
       "    </tr>\n",
       "    <tr>\n",
       "      <th>4</th>\n",
       "      <td>-5.080981</td>\n",
       "      <td>-1.593048</td>\n",
       "      <td>-1.103905</td>\n",
       "    </tr>\n",
       "  </tbody>\n",
       "</table>\n",
       "</div>"
      ],
      "text/plain": [
       "   principal component 1  principal component 2  principal component 3\n",
       "0              -2.754984              -1.387993               0.129400\n",
       "1              -4.399115              -1.256751              -0.480589\n",
       "2              -5.066335              -0.616208              -1.428895\n",
       "3              -5.186594              -0.900992              -1.470128\n",
       "4              -5.080981              -1.593048              -1.103905"
      ]
     },
     "execution_count": 25,
     "metadata": {},
     "output_type": "execute_result"
    }
   ],
   "source": [
    "#Now for the test set\n",
    "pca_test_df = pd.DataFrame(data = test_components, columns = ['principal component 1', 'principal component 2',\n",
    "                                                    'principal component 3'] )\n",
    "pca_test_df.head()"
   ]
  },
  {
   "cell_type": "code",
   "execution_count": 26,
   "metadata": {},
   "outputs": [],
   "source": [
    "#Before using these features to train our model, we should turn our categorical 'activity' variable to numerical \n",
    "df_training['Activity'] = np.where((df_training['Activity'] == 'LAYING') , 1, df_training['Activity'])\n",
    "df_training['Activity'] = np.where((df_training['Activity'] == 'STANDING') , 2, df_training['Activity'])\n",
    "df_training['Activity'] = np.where((df_training['Activity'] == 'SITTING') , 3, df_training['Activity'])\n",
    "df_training['Activity'] = np.where((df_training['Activity'] == 'WALKING') , 4, df_training['Activity'])\n",
    "df_training['Activity'] = np.where((df_training['Activity'] == 'WALKING_UPSTAIRS') , 5, df_training['Activity'])\n",
    "df_training['Activity'] = np.where((df_training['Activity'] == 'WALKING_DOWNSTAIRS') , 6, df_training['Activity'])"
   ]
  },
  {
   "cell_type": "code",
   "execution_count": 27,
   "metadata": {},
   "outputs": [
    {
     "data": {
      "text/plain": [
       "0    2\n",
       "1    2\n",
       "2    2\n",
       "3    2\n",
       "4    2\n",
       "Name: Activity, dtype: object"
      ]
     },
     "execution_count": 27,
     "metadata": {},
     "output_type": "execute_result"
    }
   ],
   "source": [
    "#Now if we look at our acitivity column we have changed values to numbers\n",
    "df_training['Activity'].head()"
   ]
  },
  {
   "cell_type": "code",
   "execution_count": 28,
   "metadata": {},
   "outputs": [],
   "source": [
    "#Now let's do the same for testing\n",
    "df_testing['Activity'] = np.where((df_testing['Activity'] == 'LAYING') , 1, df_testing['Activity'])\n",
    "df_testing['Activity'] = np.where((df_testing['Activity'] == 'STANDING') , 2, df_testing['Activity'])\n",
    "df_testing['Activity'] = np.where((df_testing['Activity'] == 'SITTING') , 3, df_testing['Activity'])\n",
    "df_testing['Activity'] = np.where((df_testing['Activity'] == 'WALKING') , 4, df_testing['Activity'])\n",
    "df_testing['Activity'] = np.where((df_testing['Activity'] == 'WALKING_UPSTAIRS') , 5, df_testing['Activity'])\n",
    "df_testing['Activity'] = np.where((df_testing['Activity'] == 'WALKING_DOWNSTAIRS') , 6, df_testing['Activity'])"
   ]
  },
  {
   "cell_type": "code",
   "execution_count": 29,
   "metadata": {},
   "outputs": [
    {
     "data": {
      "text/plain": [
       "0    2\n",
       "1    2\n",
       "2    2\n",
       "3    2\n",
       "4    2\n",
       "Name: Activity, dtype: object"
      ]
     },
     "execution_count": 29,
     "metadata": {},
     "output_type": "execute_result"
    }
   ],
   "source": [
    "df_testing['Activity'].head()"
   ]
  },
  {
   "cell_type": "code",
   "execution_count": 30,
   "metadata": {},
   "outputs": [],
   "source": [
    "df_training['Activity'] = pd.to_numeric(df_training['Activity'])\n",
    "df_testing['Activity'] = pd.to_numeric(df_testing['Activity'])"
   ]
  },
  {
   "cell_type": "code",
   "execution_count": 31,
   "metadata": {},
   "outputs": [],
   "source": [
    "#Now let's get our x and y features\n",
    "x_train = pca_train_df.iloc[:]\n",
    "y_train = df_training.iloc[:,-1]\n",
    "\n",
    "x_test = pca_test_df.iloc[:]\n",
    "y_test = df_testing.iloc[:,-1]"
   ]
  },
  {
   "cell_type": "code",
   "execution_count": 32,
   "metadata": {},
   "outputs": [],
   "source": [
    "#initializing our lists so we can later store the best params that achieve best scores across metrics\n",
    "accuracy_best_params = []\n",
    "roc_auc_best_params = []\n",
    "f1_best_params = []\n",
    "\n",
    "\n",
    "#Now that we have our new features, we can use them to train our KNN model\n",
    "from sklearn.neighbors import KNeighborsClassifier\n",
    "from sklearn.model_selection import GridSearchCV, StratifiedKFold\n",
    "\n",
    "#Making a grid of values we want our grid search to test to find the best parameters\n",
    "grid_values ={'n_neighbors': list(range(1,105,4))}\n",
    "\n",
    "knn = KNeighborsClassifier()\n",
    "\n",
    "knn_classifier = GridSearchCV(estimator = knn, param_grid = grid_values, cv = StratifiedKFold(n_splits = 5),\n",
    "                      scoring = ['accuracy', 'roc_auc_ovr', 'f1_micro'], refit = False, verbose = 0)\n",
    "\n",
    "knn_model = knn_classifier.fit(x_train, y_train)\n",
    "\n",
    "\n",
    "accuracy_best_params.append(knn_model.cv_results_['params'][ np.argmin(knn_model.cv_results_['rank_test_accuracy'])])\n",
    "roc_auc_best_params.append(knn_model.cv_results_['params'][ np.argmin(knn_model.cv_results_['rank_test_roc_auc_ovr'])])\n",
    "f1_best_params.append(knn_model.cv_results_['params'][ np.argmin(knn_model.cv_results_['rank_test_f1_micro']) ])"
   ]
  },
  {
   "cell_type": "code",
   "execution_count": 33,
   "metadata": {},
   "outputs": [
    {
     "data": {
      "text/plain": [
       "[{'n_neighbors': 69}]"
      ]
     },
     "execution_count": 33,
     "metadata": {},
     "output_type": "execute_result"
    }
   ],
   "source": [
    "accuracy_best_params"
   ]
  },
  {
   "cell_type": "code",
   "execution_count": 34,
   "metadata": {},
   "outputs": [
    {
     "data": {
      "text/plain": [
       "[{'n_neighbors': 101}]"
      ]
     },
     "execution_count": 34,
     "metadata": {},
     "output_type": "execute_result"
    }
   ],
   "source": [
    "roc_auc_best_params"
   ]
  },
  {
   "cell_type": "code",
   "execution_count": 35,
   "metadata": {},
   "outputs": [
    {
     "data": {
      "text/plain": [
       "[{'n_neighbors': 69}]"
      ]
     },
     "execution_count": 35,
     "metadata": {},
     "output_type": "execute_result"
    }
   ],
   "source": [
    "f1_best_params"
   ]
  },
  {
   "cell_type": "code",
   "execution_count": 40,
   "metadata": {},
   "outputs": [],
   "source": [
    "from sklearn.metrics import accuracy_score, f1_score, roc_auc_score\n",
    "accuracy_test_score = []\n",
    "\n",
    "knn_clf = KNeighborsClassifier(n_neighbors = 69)\n",
    "model = knn_clf.fit(x_train, y_train)\n",
    "\n",
    "y_pred = model.predict(x_test)\n",
    "\n",
    "accuracy_test_score.append(accuracy_score(y_test, y_pred))"
   ]
  },
  {
   "cell_type": "code",
   "execution_count": 41,
   "metadata": {},
   "outputs": [
    {
     "data": {
      "text/plain": [
       "[0.6192738378011537]"
      ]
     },
     "execution_count": 41,
     "metadata": {},
     "output_type": "execute_result"
    }
   ],
   "source": [
    "accuracy_test_score"
   ]
  },
  {
   "cell_type": "code",
   "execution_count": null,
   "metadata": {},
   "outputs": [],
   "source": []
  }
 ],
 "metadata": {
  "kernelspec": {
   "display_name": "Python 3",
   "language": "python",
   "name": "python3"
  },
  "language_info": {
   "codemirror_mode": {
    "name": "ipython",
    "version": 3
   },
   "file_extension": ".py",
   "mimetype": "text/x-python",
   "name": "python",
   "nbconvert_exporter": "python",
   "pygments_lexer": "ipython3",
   "version": "3.8.5"
  }
 },
 "nbformat": 4,
 "nbformat_minor": 4
}
