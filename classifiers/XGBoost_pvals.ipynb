{
 "cells": [
  {
   "cell_type": "markdown",
   "id": "attended-feeding",
   "metadata": {},
   "source": [
    "# XGBoost Performance Comparison"
   ]
  },
  {
   "cell_type": "code",
   "execution_count": 34,
   "id": "short-momentum",
   "metadata": {},
   "outputs": [],
   "source": [
    "from scipy.stats import ttest_rel\n",
    "import numpy as np"
   ]
  },
  {
   "cell_type": "code",
   "execution_count": 35,
   "id": "statutory-journey",
   "metadata": {},
   "outputs": [],
   "source": [
    "xgb_accuracy = [0.8998982015609094, 0.9015948422124194, 0.9043094672548354, 0.8968442483881914, 0.9009161859518154]\n",
    "xgb_f1 = [0.8998982015609094,0.9015948422124194,0.9043094672548354,0.8968442483881914,0.9009161859518154]\n",
    "xgb_precision = [0.8998982015609094, 0.9015948422124194, 0.9043094672548354, 0.8968442483881914, 0.9009161859518154]"
   ]
  },
  {
   "cell_type": "code",
   "execution_count": 36,
   "id": "textile-married",
   "metadata": {},
   "outputs": [],
   "source": [
    "knn_accuracy = [0.8853070919579233, 0.8768238887003733, 0.8517136070580251, 0.8873430607397353, 0.8873430607397353]\n",
    "knn_f1 = [0.8853070919579233,0.8768238887003733,0.8517136070580251,0.8873430607397353,0.8873430607397353]\n",
    "knn_precision = [0.8853070919579233, 0.8768238887003733, 0.8517136070580251, 0.8873430607397353, 0.8873430607397353]"
   ]
  },
  {
   "cell_type": "code",
   "execution_count": 37,
   "id": "compressed-figure",
   "metadata": {},
   "outputs": [],
   "source": [
    "dt_accuracy = [0.8242280285035629, 0.825924669155073, 0.831014591109603, 0.831014591109603, 0.8245673566338649]\n",
    "dt_f1 = [0.825585341024771,0.824906684764167, 0.8310145911096029, 0.829996606718697, 0.825585341024771]\n",
    "dt_precision = [0.7964031218187988, 0.7974211062097047, 0.7974211062097047, 0.7964031218187988, 0.7964031218187988]"
   ]
  },
  {
   "cell_type": "code",
   "execution_count": 38,
   "id": "spatial-surveillance",
   "metadata": {},
   "outputs": [],
   "source": [
    "rf_accuracy = [0.8971835765184933, 0.8934509670851714, 0.8944689514760774, 0.8998982015609094, 0.8954869358669834]\n",
    "rf_f1 = [0.8934509670851712, 0.8927723108245673, 0.9012555140821175, 0.8907363420427553, 0.8992195453003053]\n",
    "rf_precision = [0.9022734984730234, 0.8941296233457754, 0.9043094672548354, 0.8924329826942654, 0.8927723108245673]"
   ]
  },
  {
   "cell_type": "code",
   "execution_count": 39,
   "id": "civic-forge",
   "metadata": {},
   "outputs": [],
   "source": [
    "def p_val(xgb, model):\n",
    "    return ttest_rel(xgb, model)"
   ]
  },
  {
   "cell_type": "markdown",
   "id": "confused-request",
   "metadata": {},
   "source": [
    "## Accuracy"
   ]
  },
  {
   "cell_type": "code",
   "execution_count": 40,
   "id": "inner-console",
   "metadata": {},
   "outputs": [
    {
     "data": {
      "text/plain": [
       "Ttest_relResult(statistic=2.9446549149265193, pvalue=0.042193125485396665)"
      ]
     },
     "execution_count": 40,
     "metadata": {},
     "output_type": "execute_result"
    }
   ],
   "source": [
    "p_val(xgb_accuracy, knn_accuracy)"
   ]
  },
  {
   "cell_type": "code",
   "execution_count": 41,
   "id": "infectious-birmingham",
   "metadata": {},
   "outputs": [
    {
     "data": {
      "text/plain": [
       "Ttest_relResult(statistic=37.55600926918273, pvalue=3.0018123725006653e-06)"
      ]
     },
     "execution_count": 41,
     "metadata": {},
     "output_type": "execute_result"
    }
   ],
   "source": [
    "p_val(xgb_accuracy, dt_accuracy)"
   ]
  },
  {
   "cell_type": "code",
   "execution_count": 42,
   "id": "white-chester",
   "metadata": {},
   "outputs": [
    {
     "data": {
      "text/plain": [
       "Ttest_relResult(statistic=2.0350709222911947, pvalue=0.1115671768384705)"
      ]
     },
     "execution_count": 42,
     "metadata": {},
     "output_type": "execute_result"
    }
   ],
   "source": [
    "p_val(xgb_accuracy, rf_accuracy)"
   ]
  },
  {
   "cell_type": "markdown",
   "id": "harmful-gamma",
   "metadata": {},
   "source": [
    "## F1"
   ]
  },
  {
   "cell_type": "code",
   "execution_count": 43,
   "id": "sudden-hormone",
   "metadata": {},
   "outputs": [
    {
     "data": {
      "text/plain": [
       "Ttest_relResult(statistic=2.9446549149265193, pvalue=0.042193125485396665)"
      ]
     },
     "execution_count": 43,
     "metadata": {},
     "output_type": "execute_result"
    }
   ],
   "source": [
    "p_val(xgb_f1, knn_f1)"
   ]
  },
  {
   "cell_type": "code",
   "execution_count": 44,
   "id": "automotive-document",
   "metadata": {},
   "outputs": [
    {
     "data": {
      "text/plain": [
       "Ttest_relResult(statistic=42.943109714327626, pvalue=1.7579596168466937e-06)"
      ]
     },
     "execution_count": 44,
     "metadata": {},
     "output_type": "execute_result"
    }
   ],
   "source": [
    "p_val(xgb_f1, dt_f1)"
   ]
  },
  {
   "cell_type": "code",
   "execution_count": 45,
   "id": "necessary-microwave",
   "metadata": {},
   "outputs": [
    {
     "data": {
      "text/plain": [
       "Ttest_relResult(statistic=4.107031752382547, pvalue=0.014767907835608217)"
      ]
     },
     "execution_count": 45,
     "metadata": {},
     "output_type": "execute_result"
    }
   ],
   "source": [
    "p_val(xgb_f1, rf_f1)"
   ]
  },
  {
   "cell_type": "markdown",
   "id": "cooperative-supplement",
   "metadata": {},
   "source": [
    "## Precision"
   ]
  },
  {
   "cell_type": "code",
   "execution_count": 46,
   "id": "stunning-stone",
   "metadata": {},
   "outputs": [
    {
     "data": {
      "text/plain": [
       "Ttest_relResult(statistic=2.9446549149265193, pvalue=0.042193125485396665)"
      ]
     },
     "execution_count": 46,
     "metadata": {},
     "output_type": "execute_result"
    }
   ],
   "source": [
    "p_val(xgb_precision, knn_precision)"
   ]
  },
  {
   "cell_type": "code",
   "execution_count": 47,
   "id": "polyphonic-tongue",
   "metadata": {},
   "outputs": [
    {
     "data": {
      "text/plain": [
       "Ttest_relResult(statistic=100.19170062266481, pvalue=5.950259270890445e-08)"
      ]
     },
     "execution_count": 47,
     "metadata": {},
     "output_type": "execute_result"
    }
   ],
   "source": [
    "p_val(xgb_precision, dt_precision)"
   ]
  },
  {
   "cell_type": "code",
   "execution_count": 48,
   "id": "rural-islam",
   "metadata": {},
   "outputs": [
    {
     "data": {
      "text/plain": [
       "Ttest_relResult(statistic=1.712993337615511, pvalue=0.16187234333341768)"
      ]
     },
     "execution_count": 48,
     "metadata": {},
     "output_type": "execute_result"
    }
   ],
   "source": [
    "p_val(xgb_precision, rf_precision)"
   ]
  },
  {
   "cell_type": "markdown",
   "id": "applied-council",
   "metadata": {},
   "source": [
    "## Averaged Metrics"
   ]
  },
  {
   "cell_type": "code",
   "execution_count": 81,
   "id": "rough-london",
   "metadata": {},
   "outputs": [],
   "source": [
    "def get_avg(list1,list2,list3):\n",
    "    output = []\n",
    "    for x in list(range(0,5)):\n",
    "        output.append(sum([list1[x],list2[x],list3[x]])/3)\n",
    "    return output"
   ]
  },
  {
   "cell_type": "code",
   "execution_count": 82,
   "id": "opening-addiction",
   "metadata": {},
   "outputs": [],
   "source": [
    "xgb_avg = get_avg(xgb_accuracy, xgb_precision, xgb_f1)\n",
    "knn_avg = get_avg(knn_accuracy, knn_precision, knn_f1)\n",
    "dt_avg = get_avg(dt_accuracy, dt_precision, dt_f1)\n",
    "rf_avg = get_avg(rf_accuracy, rf_precision, rf_f1)"
   ]
  },
  {
   "cell_type": "code",
   "execution_count": 83,
   "id": "temporal-rover",
   "metadata": {},
   "outputs": [
    {
     "data": {
      "text/plain": [
       "Ttest_relResult(statistic=2.944654914926506, pvalue=0.04219312548539723)"
      ]
     },
     "execution_count": 83,
     "metadata": {},
     "output_type": "execute_result"
    }
   ],
   "source": [
    "p_val(xgb_avg, knn_avg)"
   ]
  },
  {
   "cell_type": "code",
   "execution_count": 84,
   "id": "analyzed-failing",
   "metadata": {},
   "outputs": [
    {
     "data": {
      "text/plain": [
       "Ttest_relResult(statistic=56.840374368325165, pvalue=5.736247957492668e-07)"
      ]
     },
     "execution_count": 84,
     "metadata": {},
     "output_type": "execute_result"
    }
   ],
   "source": [
    "p_val(xgb_avg,dt_avg)"
   ]
  },
  {
   "cell_type": "code",
   "execution_count": 85,
   "id": "above-rolling",
   "metadata": {},
   "outputs": [
    {
     "data": {
      "text/plain": [
       "Ttest_relResult(statistic=4.182034151460633, pvalue=0.013895479290366136)"
      ]
     },
     "execution_count": 85,
     "metadata": {},
     "output_type": "execute_result"
    }
   ],
   "source": [
    "p_val(xgb_avg,rf_avg)"
   ]
  },
  {
   "cell_type": "code",
   "execution_count": null,
   "id": "amino-vampire",
   "metadata": {},
   "outputs": [],
   "source": []
  }
 ],
 "metadata": {
  "kernelspec": {
   "display_name": "Python 3",
   "language": "python",
   "name": "python3"
  },
  "language_info": {
   "codemirror_mode": {
    "name": "ipython",
    "version": 3
   },
   "file_extension": ".py",
   "mimetype": "text/x-python",
   "name": "python",
   "nbconvert_exporter": "python",
   "pygments_lexer": "ipython3",
   "version": "3.7.3"
  }
 },
 "nbformat": 4,
 "nbformat_minor": 5
}
