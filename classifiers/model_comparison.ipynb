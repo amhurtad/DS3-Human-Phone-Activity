{
 "cells": [
  {
   "cell_type": "code",
   "execution_count": 2,
   "metadata": {},
   "outputs": [],
   "source": [
    "# imports for p-value and comparison testing\n",
    "\n",
    "import scipy\n",
    "from scipy.stats import ttest_rel\n",
    "import numpy as np\n",
    "import pandas as pd"
   ]
  },
  {
   "cell_type": "code",
   "execution_count": 3,
   "metadata": {},
   "outputs": [],
   "source": [
    "# read the results from the csv file\n",
    "results = pd.read_csv('classifier_results.csv')"
   ]
  },
  {
   "cell_type": "code",
   "execution_count": 6,
   "metadata": {},
   "outputs": [
    {
     "data": {
      "text/html": [
       "<div>\n",
       "<style scoped>\n",
       "    .dataframe tbody tr th:only-of-type {\n",
       "        vertical-align: middle;\n",
       "    }\n",
       "\n",
       "    .dataframe tbody tr th {\n",
       "        vertical-align: top;\n",
       "    }\n",
       "\n",
       "    .dataframe thead th {\n",
       "        text-align: right;\n",
       "    }\n",
       "</style>\n",
       "<table border=\"1\" class=\"dataframe\">\n",
       "  <thead>\n",
       "    <tr style=\"text-align: right;\">\n",
       "      <th></th>\n",
       "      <th>lg_acc</th>\n",
       "      <th>lg_f1</th>\n",
       "      <th>lg_prec</th>\n",
       "      <th>dt_acc</th>\n",
       "      <th>dt_f1</th>\n",
       "      <th>dt_prec</th>\n",
       "      <th>knn_acc</th>\n",
       "      <th>knn_f1</th>\n",
       "      <th>knn_prec</th>\n",
       "      <th>rf_acc</th>\n",
       "      <th>rf_f1</th>\n",
       "      <th>rf_prec</th>\n",
       "      <th>svm_acc</th>\n",
       "      <th>svm_f1</th>\n",
       "      <th>svm_prec</th>\n",
       "      <th>xgb_acc</th>\n",
       "      <th>xgb_f1</th>\n",
       "      <th>xgb_prec</th>\n",
       "    </tr>\n",
       "  </thead>\n",
       "  <tbody>\n",
       "    <tr>\n",
       "      <th>0</th>\n",
       "      <td>0.922294</td>\n",
       "      <td>0.922294</td>\n",
       "      <td>0.922633</td>\n",
       "      <td>0.824228</td>\n",
       "      <td>0.825585</td>\n",
       "      <td>0.796403</td>\n",
       "      <td>0.885307</td>\n",
       "      <td>0.885307</td>\n",
       "      <td>0.885307</td>\n",
       "      <td>0.897184</td>\n",
       "      <td>0.893451</td>\n",
       "      <td>0.902273</td>\n",
       "      <td>0.945029</td>\n",
       "      <td>0.945029</td>\n",
       "      <td>0.945029</td>\n",
       "      <td>0.899898</td>\n",
       "      <td>0.899898</td>\n",
       "      <td>0.899898</td>\n",
       "    </tr>\n",
       "    <tr>\n",
       "      <th>1</th>\n",
       "      <td>0.922633</td>\n",
       "      <td>0.922633</td>\n",
       "      <td>0.922633</td>\n",
       "      <td>0.825925</td>\n",
       "      <td>0.824907</td>\n",
       "      <td>0.797421</td>\n",
       "      <td>0.876824</td>\n",
       "      <td>0.876824</td>\n",
       "      <td>0.876824</td>\n",
       "      <td>0.893451</td>\n",
       "      <td>0.892772</td>\n",
       "      <td>0.894130</td>\n",
       "      <td>0.945029</td>\n",
       "      <td>0.945029</td>\n",
       "      <td>0.945029</td>\n",
       "      <td>0.901595</td>\n",
       "      <td>0.901595</td>\n",
       "      <td>0.901595</td>\n",
       "    </tr>\n",
       "    <tr>\n",
       "      <th>2</th>\n",
       "      <td>0.922633</td>\n",
       "      <td>0.922633</td>\n",
       "      <td>0.922633</td>\n",
       "      <td>0.831015</td>\n",
       "      <td>0.831015</td>\n",
       "      <td>0.797421</td>\n",
       "      <td>0.851714</td>\n",
       "      <td>0.851714</td>\n",
       "      <td>0.851714</td>\n",
       "      <td>0.894469</td>\n",
       "      <td>0.901256</td>\n",
       "      <td>0.904309</td>\n",
       "      <td>0.947065</td>\n",
       "      <td>0.947065</td>\n",
       "      <td>0.947065</td>\n",
       "      <td>0.904309</td>\n",
       "      <td>0.904309</td>\n",
       "      <td>0.904309</td>\n",
       "    </tr>\n",
       "    <tr>\n",
       "      <th>3</th>\n",
       "      <td>0.922633</td>\n",
       "      <td>0.922633</td>\n",
       "      <td>0.922633</td>\n",
       "      <td>0.831015</td>\n",
       "      <td>0.829997</td>\n",
       "      <td>0.796403</td>\n",
       "      <td>0.887343</td>\n",
       "      <td>0.887343</td>\n",
       "      <td>0.887343</td>\n",
       "      <td>0.899898</td>\n",
       "      <td>0.890736</td>\n",
       "      <td>0.892433</td>\n",
       "      <td>0.945029</td>\n",
       "      <td>0.945029</td>\n",
       "      <td>0.945029</td>\n",
       "      <td>0.896844</td>\n",
       "      <td>0.896844</td>\n",
       "      <td>0.896844</td>\n",
       "    </tr>\n",
       "    <tr>\n",
       "      <th>4</th>\n",
       "      <td>0.922294</td>\n",
       "      <td>0.922294</td>\n",
       "      <td>0.922633</td>\n",
       "      <td>0.824567</td>\n",
       "      <td>0.825585</td>\n",
       "      <td>0.796403</td>\n",
       "      <td>0.887343</td>\n",
       "      <td>0.887343</td>\n",
       "      <td>0.887343</td>\n",
       "      <td>0.895487</td>\n",
       "      <td>0.899220</td>\n",
       "      <td>0.892772</td>\n",
       "      <td>0.945029</td>\n",
       "      <td>0.945029</td>\n",
       "      <td>0.945029</td>\n",
       "      <td>0.900916</td>\n",
       "      <td>0.900916</td>\n",
       "      <td>0.900916</td>\n",
       "    </tr>\n",
       "  </tbody>\n",
       "</table>\n",
       "</div>"
      ],
      "text/plain": [
       "     lg_acc     lg_f1   lg_prec    dt_acc     dt_f1   dt_prec   knn_acc  \\\n",
       "0  0.922294  0.922294  0.922633  0.824228  0.825585  0.796403  0.885307   \n",
       "1  0.922633  0.922633  0.922633  0.825925  0.824907  0.797421  0.876824   \n",
       "2  0.922633  0.922633  0.922633  0.831015  0.831015  0.797421  0.851714   \n",
       "3  0.922633  0.922633  0.922633  0.831015  0.829997  0.796403  0.887343   \n",
       "4  0.922294  0.922294  0.922633  0.824567  0.825585  0.796403  0.887343   \n",
       "\n",
       "     knn_f1  knn_prec    rf_acc     rf_f1   rf_prec   svm_acc    svm_f1  \\\n",
       "0  0.885307  0.885307  0.897184  0.893451  0.902273  0.945029  0.945029   \n",
       "1  0.876824  0.876824  0.893451  0.892772  0.894130  0.945029  0.945029   \n",
       "2  0.851714  0.851714  0.894469  0.901256  0.904309  0.947065  0.947065   \n",
       "3  0.887343  0.887343  0.899898  0.890736  0.892433  0.945029  0.945029   \n",
       "4  0.887343  0.887343  0.895487  0.899220  0.892772  0.945029  0.945029   \n",
       "\n",
       "   svm_prec   xgb_acc    xgb_f1  xgb_prec  \n",
       "0  0.945029  0.899898  0.899898  0.899898  \n",
       "1  0.945029  0.901595  0.901595  0.901595  \n",
       "2  0.947065  0.904309  0.904309  0.904309  \n",
       "3  0.945029  0.896844  0.896844  0.896844  \n",
       "4  0.945029  0.900916  0.900916  0.900916  "
      ]
     },
     "execution_count": 6,
     "metadata": {},
     "output_type": "execute_result"
    }
   ],
   "source": [
    "results"
   ]
  },
  {
   "cell_type": "code",
   "execution_count": 10,
   "metadata": {},
   "outputs": [
    {
     "data": {
      "text/plain": [
       "array([0.92240697, 0.92263319, 0.92263319, 0.92263319, 0.92240697])"
      ]
     },
     "execution_count": 10,
     "metadata": {},
     "output_type": "execute_result"
    }
   ],
   "source": [
    "# function to create the mean array for each model, pass in abbreviation of the model\n",
    "# lg = logistic regression\n",
    "# dt = decision tree\n",
    "# knn = k nearest neighbours\n",
    "# rf = random forest\n",
    "# svm = support vector machine\n",
    "# xgb = XGradientBoost\n",
    "\n",
    "def create_mean_arr(model):\n",
    "    accuracy = model + \"_acc\"\n",
    "    f1 = model + \"_f1\"\n",
    "    precision = model + \"_prec\"\n",
    "    mean_arr = []\n",
    "    for i in range(5):\n",
    "        mean = np.mean([results.get(accuracy).iloc[i],results.get(f1).iloc[i],results.get(precision).iloc[i]])\n",
    "        mean_arr = np.append(mean_arr, mean)\n",
    "    return mean_arr\n",
    "\n",
    "create_mean_arr(\"lg\")"
   ]
  },
  {
   "cell_type": "code",
   "execution_count": 16,
   "metadata": {},
   "outputs": [],
   "source": [
    "# function to compare one model to all the others, returns dictionary with p-values\n",
    "\n",
    "def compare_all(model):\n",
    "    all_models = [\"lg\", \"dt\", \"knn\", \"rf\", \"svm\", \"xgb\"]\n",
    "    all_models.remove(model)\n",
    "    model_stats = create_mean_arr(model)\n",
    "    comparisons = {}\n",
    "    for to_compare in all_models:\n",
    "        to_compare_stats = create_mean_arr(to_compare)\n",
    "        comparisons[model + \" vs. \" + to_compare] = scipy.stats.ttest_rel(model_stats, to_compare_stats)\n",
    "    return comparisons\n",
    "\n",
    "svm_comparisons = compare_all(\"svm\")"
   ]
  },
  {
   "cell_type": "code",
   "execution_count": 18,
   "metadata": {},
   "outputs": [
    {
     "data": {
      "text/plain": [
       "{'svm vs. lg': Ttest_relResult(statistic=59.02103778902338, pvalue=4.935068566923435e-07),\n",
       " 'svm vs. dt': Ttest_relResult(statistic=176.76826942083483, pvalue=6.143860654207963e-09),\n",
       " 'svm vs. knn': Ttest_relResult(statistic=9.44223482345051, pvalue=0.0007015454243357278),\n",
       " 'svm vs. rf': Ttest_relResult(statistic=55.51593357358502, pvalue=6.302920491569847e-07),\n",
       " 'svm vs. xgb': Ttest_relResult(statistic=47.071428531556734, pvalue=1.2184736952974621e-06)}"
      ]
     },
     "execution_count": 18,
     "metadata": {},
     "output_type": "execute_result"
    }
   ],
   "source": [
    "svm_comparisons"
   ]
  },
  {
   "cell_type": "code",
   "execution_count": null,
   "metadata": {},
   "outputs": [],
   "source": []
  }
 ],
 "metadata": {
  "kernelspec": {
   "display_name": "Python 3",
   "language": "python",
   "name": "python3"
  },
  "language_info": {
   "codemirror_mode": {
    "name": "ipython",
    "version": 3
   },
   "file_extension": ".py",
   "mimetype": "text/x-python",
   "name": "python",
   "nbconvert_exporter": "python",
   "pygments_lexer": "ipython3",
   "version": "3.8.5"
  }
 },
 "nbformat": 4,
 "nbformat_minor": 4
}
