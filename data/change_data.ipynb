{
 "cells": [
  {
   "cell_type": "code",
   "execution_count": 1,
   "metadata": {},
   "outputs": [],
   "source": [
    "import pandas as pd\n",
    "import seaborn as sns"
   ]
  },
  {
   "cell_type": "code",
   "execution_count": 2,
   "metadata": {},
   "outputs": [],
   "source": [
    "#loading in the original data\n",
    "\n",
    "df_training_og = pd.read_csv('../data/archive/train.csv')\n",
    "df_testing_og = pd.read_csv('../data/archive/test.csv')"
   ]
  },
  {
   "cell_type": "markdown",
   "metadata": {},
   "source": [
    "# PCA - Principal Component Analysis"
   ]
  },
  {
   "cell_type": "code",
   "execution_count": 3,
   "metadata": {},
   "outputs": [],
   "source": [
    "#Start my importing the necessary library\n",
    "from sklearn.decomposition import PCA"
   ]
  },
  {
   "cell_type": "code",
   "execution_count": 4,
   "metadata": {},
   "outputs": [],
   "source": [
    "#Now we have to extract only the independent variables \n",
    "x_train_pca = df_training_og.iloc[:,:-2]\n",
    "x_test_pca = df_testing_og.iloc[:,:-2]"
   ]
  },
  {
   "cell_type": "code",
   "execution_count": 5,
   "metadata": {},
   "outputs": [],
   "source": [
    "pca = PCA(n_components = 40)"
   ]
  },
  {
   "cell_type": "code",
   "execution_count": 6,
   "metadata": {},
   "outputs": [
    {
     "data": {
      "text/plain": [
       "PCA(n_components=40)"
      ]
     },
     "execution_count": 6,
     "metadata": {},
     "output_type": "execute_result"
    }
   ],
   "source": [
    "pca.fit(x_train_pca)"
   ]
  },
  {
   "cell_type": "code",
   "execution_count": 7,
   "metadata": {},
   "outputs": [
    {
     "data": {
      "text/plain": [
       "array([0.6255444 , 0.04913023, 0.04121467, 0.01874956, 0.0169486 ,\n",
       "       0.01272069, 0.01176685, 0.01068973, 0.0096938 , 0.00858018,\n",
       "       0.00762302, 0.00672446, 0.0057942 , 0.00557881, 0.00498926,\n",
       "       0.00474938, 0.004672  , 0.00431618, 0.00425715, 0.00410395,\n",
       "       0.00394002, 0.00375309, 0.00352426, 0.00339359, 0.00332138,\n",
       "       0.00319426, 0.00301761, 0.00291781, 0.00289566, 0.00281913,\n",
       "       0.0027667 , 0.00263374, 0.00255252, 0.0023561 , 0.0023053 ,\n",
       "       0.00223359, 0.00222723, 0.00209126, 0.00207687, 0.00204603])"
      ]
     },
     "execution_count": 7,
     "metadata": {},
     "output_type": "execute_result"
    }
   ],
   "source": [
    "pca.explained_variance_ratio_"
   ]
  },
  {
   "cell_type": "code",
   "execution_count": 8,
   "metadata": {},
   "outputs": [
    {
     "data": {
      "image/png": "[encoded data removed]",
      "text/plain": [
       "<Figure size 432x288 with 1 Axes>"
      ]
     },
     "metadata": {
      "needs_background": "light"
     },
     "output_type": "display_data"
    }
   ],
   "source": [
    "#only showing our top 5 components\n",
    "scree_plot = pd.DataFrame({'var':pca.explained_variance_ratio_[0:5],\n",
    "             'PC':['PC1','PC2','PC3','PC4','PC5']})\n",
    "sns.barplot(x='PC',y=\"var\", \n",
    "           data=scree_plot, color=\"c\");"
   ]
  },
  {
   "cell_type": "code",
   "execution_count": 9,
   "metadata": {},
   "outputs": [
    {
     "data": {
      "text/plain": [
       "0.9139132388207949"
      ]
     },
     "execution_count": 9,
     "metadata": {},
     "output_type": "execute_result"
    }
   ],
   "source": [
    "#Now we have enough components to account for over 90% of the variance of the data\n",
    "sum(pca.explained_variance_ratio_)"
   ]
  },
  {
   "cell_type": "code",
   "execution_count": 10,
   "metadata": {},
   "outputs": [],
   "source": [
    "#Now let's fit our features to our pca model on both training and test sets\n",
    "train_components = pca.transform(x_train_pca)\n",
    "test_components = pca.transform(x_test_pca)"
   ]
  },
  {
   "cell_type": "code",
   "execution_count": 11,
   "metadata": {},
   "outputs": [
    {
     "data": {
      "text/html": [
       "<div>\n",
       "<style scoped>\n",
       "    .dataframe tbody tr th:only-of-type {\n",
       "        vertical-align: middle;\n",
       "    }\n",
       "\n",
       "    .dataframe tbody tr th {\n",
       "        vertical-align: top;\n",
       "    }\n",
       "\n",
       "    .dataframe thead th {\n",
       "        text-align: right;\n",
       "    }\n",
       "</style>\n",
       "<table border=\"1\" class=\"dataframe\">\n",
       "  <thead>\n",
       "    <tr style=\"text-align: right;\">\n",
       "      <th></th>\n",
       "      <th>0</th>\n",
       "      <th>1</th>\n",
       "      <th>2</th>\n",
       "      <th>3</th>\n",
       "      <th>4</th>\n",
       "      <th>5</th>\n",
       "      <th>6</th>\n",
       "      <th>7</th>\n",
       "      <th>8</th>\n",
       "      <th>9</th>\n",
       "      <th>...</th>\n",
       "      <th>30</th>\n",
       "      <th>31</th>\n",
       "      <th>32</th>\n",
       "      <th>33</th>\n",
       "      <th>34</th>\n",
       "      <th>35</th>\n",
       "      <th>36</th>\n",
       "      <th>37</th>\n",
       "      <th>38</th>\n",
       "      <th>39</th>\n",
       "    </tr>\n",
       "  </thead>\n",
       "  <tbody>\n",
       "    <tr>\n",
       "      <th>0</th>\n",
       "      <td>-5.520280</td>\n",
       "      <td>-0.290278</td>\n",
       "      <td>-1.529929</td>\n",
       "      <td>1.333242</td>\n",
       "      <td>1.425089</td>\n",
       "      <td>-0.194708</td>\n",
       "      <td>0.577454</td>\n",
       "      <td>0.691490</td>\n",
       "      <td>-1.222866</td>\n",
       "      <td>-0.363414</td>\n",
       "      <td>...</td>\n",
       "      <td>1.413105</td>\n",
       "      <td>-0.431077</td>\n",
       "      <td>-0.300903</td>\n",
       "      <td>-0.222870</td>\n",
       "      <td>1.219722</td>\n",
       "      <td>-0.387184</td>\n",
       "      <td>0.224403</td>\n",
       "      <td>0.162459</td>\n",
       "      <td>-0.281716</td>\n",
       "      <td>0.114221</td>\n",
       "    </tr>\n",
       "    <tr>\n",
       "      <th>1</th>\n",
       "      <td>-5.535350</td>\n",
       "      <td>-0.082530</td>\n",
       "      <td>-1.924804</td>\n",
       "      <td>0.671273</td>\n",
       "      <td>0.671260</td>\n",
       "      <td>0.735144</td>\n",
       "      <td>-0.616908</td>\n",
       "      <td>-0.771714</td>\n",
       "      <td>-0.615496</td>\n",
       "      <td>-0.895525</td>\n",
       "      <td>...</td>\n",
       "      <td>0.046214</td>\n",
       "      <td>0.104300</td>\n",
       "      <td>-0.135536</td>\n",
       "      <td>-0.474420</td>\n",
       "      <td>-0.157540</td>\n",
       "      <td>0.248820</td>\n",
       "      <td>-0.039574</td>\n",
       "      <td>0.052115</td>\n",
       "      <td>0.075519</td>\n",
       "      <td>-0.175563</td>\n",
       "    </tr>\n",
       "    <tr>\n",
       "      <th>2</th>\n",
       "      <td>-5.474988</td>\n",
       "      <td>0.287387</td>\n",
       "      <td>-2.144642</td>\n",
       "      <td>0.531806</td>\n",
       "      <td>0.207824</td>\n",
       "      <td>-0.037772</td>\n",
       "      <td>0.057628</td>\n",
       "      <td>0.093917</td>\n",
       "      <td>-0.063147</td>\n",
       "      <td>-0.216898</td>\n",
       "      <td>...</td>\n",
       "      <td>-0.399918</td>\n",
       "      <td>-0.031234</td>\n",
       "      <td>0.375908</td>\n",
       "      <td>0.009050</td>\n",
       "      <td>0.448845</td>\n",
       "      <td>0.568450</td>\n",
       "      <td>-0.247134</td>\n",
       "      <td>0.175307</td>\n",
       "      <td>-0.165340</td>\n",
       "      <td>-0.169643</td>\n",
       "    </tr>\n",
       "    <tr>\n",
       "      <th>3</th>\n",
       "      <td>-5.677232</td>\n",
       "      <td>0.897031</td>\n",
       "      <td>-2.018220</td>\n",
       "      <td>0.157125</td>\n",
       "      <td>0.759085</td>\n",
       "      <td>1.079547</td>\n",
       "      <td>-0.267805</td>\n",
       "      <td>-0.731391</td>\n",
       "      <td>0.281296</td>\n",
       "      <td>0.466269</td>\n",
       "      <td>...</td>\n",
       "      <td>0.003211</td>\n",
       "      <td>-0.198705</td>\n",
       "      <td>0.842424</td>\n",
       "      <td>0.137532</td>\n",
       "      <td>0.216647</td>\n",
       "      <td>0.037059</td>\n",
       "      <td>0.006989</td>\n",
       "      <td>0.050980</td>\n",
       "      <td>-0.242266</td>\n",
       "      <td>0.549648</td>\n",
       "    </tr>\n",
       "    <tr>\n",
       "      <th>4</th>\n",
       "      <td>-5.748749</td>\n",
       "      <td>1.162952</td>\n",
       "      <td>-2.139533</td>\n",
       "      <td>0.207823</td>\n",
       "      <td>0.473090</td>\n",
       "      <td>0.463035</td>\n",
       "      <td>-0.152227</td>\n",
       "      <td>-0.107509</td>\n",
       "      <td>0.289819</td>\n",
       "      <td>0.539206</td>\n",
       "      <td>...</td>\n",
       "      <td>-0.301939</td>\n",
       "      <td>0.057874</td>\n",
       "      <td>0.124936</td>\n",
       "      <td>0.311634</td>\n",
       "      <td>-0.051371</td>\n",
       "      <td>0.524159</td>\n",
       "      <td>0.254183</td>\n",
       "      <td>-0.151819</td>\n",
       "      <td>0.339568</td>\n",
       "      <td>-0.019127</td>\n",
       "    </tr>\n",
       "  </tbody>\n",
       "</table>\n",
       "<p>5 rows × 40 columns</p>\n",
       "</div>"
      ],
      "text/plain": [
       "         0         1         2         3         4         5         6   \\\n",
       "0 -5.520280 -0.290278 -1.529929  1.333242  1.425089 -0.194708  0.577454   \n",
       "1 -5.535350 -0.082530 -1.924804  0.671273  0.671260  0.735144 -0.616908   \n",
       "2 -5.474988  0.287387 -2.144642  0.531806  0.207824 -0.037772  0.057628   \n",
       "3 -5.677232  0.897031 -2.018220  0.157125  0.759085  1.079547 -0.267805   \n",
       "4 -5.748749  1.162952 -2.139533  0.207823  0.473090  0.463035 -0.152227   \n",
       "\n",
       "         7         8         9   ...        30        31        32        33  \\\n",
       "0  0.691490 -1.222866 -0.363414  ...  1.413105 -0.431077 -0.300903 -0.222870   \n",
       "1 -0.771714 -0.615496 -0.895525  ...  0.046214  0.104300 -0.135536 -0.474420   \n",
       "2  0.093917 -0.063147 -0.216898  ... -0.399918 -0.031234  0.375908  0.009050   \n",
       "3 -0.731391  0.281296  0.466269  ...  0.003211 -0.198705  0.842424  0.137532   \n",
       "4 -0.107509  0.289819  0.539206  ... -0.301939  0.057874  0.124936  0.311634   \n",
       "\n",
       "         34        35        36        37        38        39  \n",
       "0  1.219722 -0.387184  0.224403  0.162459 -0.281716  0.114221  \n",
       "1 -0.157540  0.248820 -0.039574  0.052115  0.075519 -0.175563  \n",
       "2  0.448845  0.568450 -0.247134  0.175307 -0.165340 -0.169643  \n",
       "3  0.216647  0.037059  0.006989  0.050980 -0.242266  0.549648  \n",
       "4 -0.051371  0.524159  0.254183 -0.151819  0.339568 -0.019127  \n",
       "\n",
       "[5 rows x 40 columns]"
      ]
     },
     "execution_count": 11,
     "metadata": {},
     "output_type": "execute_result"
    }
   ],
   "source": [
    "#Let's look at our pca features for training set \n",
    "pca_train_df = pd.DataFrame(data = train_components)\n",
    "pca_train_df.head()"
   ]
  },
  {
   "cell_type": "code",
   "execution_count": 12,
   "metadata": {},
   "outputs": [
    {
     "data": {
      "text/html": [
       "<div>\n",
       "<style scoped>\n",
       "    .dataframe tbody tr th:only-of-type {\n",
       "        vertical-align: middle;\n",
       "    }\n",
       "\n",
       "    .dataframe tbody tr th {\n",
       "        vertical-align: top;\n",
       "    }\n",
       "\n",
       "    .dataframe thead th {\n",
       "        text-align: right;\n",
       "    }\n",
       "</style>\n",
       "<table border=\"1\" class=\"dataframe\">\n",
       "  <thead>\n",
       "    <tr style=\"text-align: right;\">\n",
       "      <th></th>\n",
       "      <th>0</th>\n",
       "      <th>1</th>\n",
       "      <th>2</th>\n",
       "      <th>3</th>\n",
       "      <th>4</th>\n",
       "      <th>5</th>\n",
       "      <th>6</th>\n",
       "      <th>7</th>\n",
       "      <th>8</th>\n",
       "      <th>9</th>\n",
       "      <th>...</th>\n",
       "      <th>30</th>\n",
       "      <th>31</th>\n",
       "      <th>32</th>\n",
       "      <th>33</th>\n",
       "      <th>34</th>\n",
       "      <th>35</th>\n",
       "      <th>36</th>\n",
       "      <th>37</th>\n",
       "      <th>38</th>\n",
       "      <th>39</th>\n",
       "    </tr>\n",
       "  </thead>\n",
       "  <tbody>\n",
       "    <tr>\n",
       "      <th>0</th>\n",
       "      <td>-2.686743</td>\n",
       "      <td>-1.216821</td>\n",
       "      <td>-0.722075</td>\n",
       "      <td>-0.117271</td>\n",
       "      <td>-0.546360</td>\n",
       "      <td>0.442701</td>\n",
       "      <td>-0.387679</td>\n",
       "      <td>0.327529</td>\n",
       "      <td>0.117682</td>\n",
       "      <td>-1.593977</td>\n",
       "      <td>...</td>\n",
       "      <td>0.936377</td>\n",
       "      <td>-0.230479</td>\n",
       "      <td>-0.860302</td>\n",
       "      <td>-0.361803</td>\n",
       "      <td>0.295981</td>\n",
       "      <td>0.278165</td>\n",
       "      <td>-0.578174</td>\n",
       "      <td>-0.541808</td>\n",
       "      <td>0.146741</td>\n",
       "      <td>-0.241536</td>\n",
       "    </tr>\n",
       "    <tr>\n",
       "      <th>1</th>\n",
       "      <td>-4.331255</td>\n",
       "      <td>-0.766327</td>\n",
       "      <td>-1.128404</td>\n",
       "      <td>-0.152942</td>\n",
       "      <td>-0.505817</td>\n",
       "      <td>0.485306</td>\n",
       "      <td>-0.423214</td>\n",
       "      <td>0.805947</td>\n",
       "      <td>0.591644</td>\n",
       "      <td>-0.986363</td>\n",
       "      <td>...</td>\n",
       "      <td>-0.239139</td>\n",
       "      <td>-0.237161</td>\n",
       "      <td>-0.792492</td>\n",
       "      <td>-0.195671</td>\n",
       "      <td>0.542325</td>\n",
       "      <td>0.245167</td>\n",
       "      <td>-0.179631</td>\n",
       "      <td>-0.211499</td>\n",
       "      <td>-0.085032</td>\n",
       "      <td>-0.110764</td>\n",
       "    </tr>\n",
       "    <tr>\n",
       "      <th>2</th>\n",
       "      <td>-4.985360</td>\n",
       "      <td>0.371301</td>\n",
       "      <td>-1.656858</td>\n",
       "      <td>-0.235971</td>\n",
       "      <td>-0.102938</td>\n",
       "      <td>-0.113283</td>\n",
       "      <td>-0.143993</td>\n",
       "      <td>0.279862</td>\n",
       "      <td>0.330125</td>\n",
       "      <td>-0.163722</td>\n",
       "      <td>...</td>\n",
       "      <td>-0.178452</td>\n",
       "      <td>-0.071075</td>\n",
       "      <td>0.513348</td>\n",
       "      <td>-0.362662</td>\n",
       "      <td>-0.236516</td>\n",
       "      <td>0.341733</td>\n",
       "      <td>-0.612415</td>\n",
       "      <td>-0.020657</td>\n",
       "      <td>-0.591216</td>\n",
       "      <td>0.203212</td>\n",
       "    </tr>\n",
       "    <tr>\n",
       "      <th>3</th>\n",
       "      <td>-5.099876</td>\n",
       "      <td>0.243743</td>\n",
       "      <td>-1.802703</td>\n",
       "      <td>0.263715</td>\n",
       "      <td>-0.050454</td>\n",
       "      <td>-0.794957</td>\n",
       "      <td>0.083771</td>\n",
       "      <td>0.650500</td>\n",
       "      <td>0.270365</td>\n",
       "      <td>0.321617</td>\n",
       "      <td>...</td>\n",
       "      <td>-0.636718</td>\n",
       "      <td>0.137732</td>\n",
       "      <td>0.496677</td>\n",
       "      <td>-0.523159</td>\n",
       "      <td>-0.368168</td>\n",
       "      <td>0.393061</td>\n",
       "      <td>-0.244917</td>\n",
       "      <td>0.144710</td>\n",
       "      <td>-0.508802</td>\n",
       "      <td>-0.009740</td>\n",
       "    </tr>\n",
       "    <tr>\n",
       "      <th>4</th>\n",
       "      <td>-5.023000</td>\n",
       "      <td>-0.518739</td>\n",
       "      <td>-1.871078</td>\n",
       "      <td>0.106466</td>\n",
       "      <td>0.153655</td>\n",
       "      <td>-0.947262</td>\n",
       "      <td>0.668394</td>\n",
       "      <td>0.792005</td>\n",
       "      <td>0.932680</td>\n",
       "      <td>0.593944</td>\n",
       "      <td>...</td>\n",
       "      <td>0.063505</td>\n",
       "      <td>0.089739</td>\n",
       "      <td>0.140901</td>\n",
       "      <td>-0.057620</td>\n",
       "      <td>-0.239059</td>\n",
       "      <td>0.451578</td>\n",
       "      <td>-0.436533</td>\n",
       "      <td>-0.261328</td>\n",
       "      <td>0.143540</td>\n",
       "      <td>-0.034083</td>\n",
       "    </tr>\n",
       "  </tbody>\n",
       "</table>\n",
       "<p>5 rows × 40 columns</p>\n",
       "</div>"
      ],
      "text/plain": [
       "         0         1         2         3         4         5         6   \\\n",
       "0 -2.686743 -1.216821 -0.722075 -0.117271 -0.546360  0.442701 -0.387679   \n",
       "1 -4.331255 -0.766327 -1.128404 -0.152942 -0.505817  0.485306 -0.423214   \n",
       "2 -4.985360  0.371301 -1.656858 -0.235971 -0.102938 -0.113283 -0.143993   \n",
       "3 -5.099876  0.243743 -1.802703  0.263715 -0.050454 -0.794957  0.083771   \n",
       "4 -5.023000 -0.518739 -1.871078  0.106466  0.153655 -0.947262  0.668394   \n",
       "\n",
       "         7         8         9   ...        30        31        32        33  \\\n",
       "0  0.327529  0.117682 -1.593977  ...  0.936377 -0.230479 -0.860302 -0.361803   \n",
       "1  0.805947  0.591644 -0.986363  ... -0.239139 -0.237161 -0.792492 -0.195671   \n",
       "2  0.279862  0.330125 -0.163722  ... -0.178452 -0.071075  0.513348 -0.362662   \n",
       "3  0.650500  0.270365  0.321617  ... -0.636718  0.137732  0.496677 -0.523159   \n",
       "4  0.792005  0.932680  0.593944  ...  0.063505  0.089739  0.140901 -0.057620   \n",
       "\n",
       "         34        35        36        37        38        39  \n",
       "0  0.295981  0.278165 -0.578174 -0.541808  0.146741 -0.241536  \n",
       "1  0.542325  0.245167 -0.179631 -0.211499 -0.085032 -0.110764  \n",
       "2 -0.236516  0.341733 -0.612415 -0.020657 -0.591216  0.203212  \n",
       "3 -0.368168  0.393061 -0.244917  0.144710 -0.508802 -0.009740  \n",
       "4 -0.239059  0.451578 -0.436533 -0.261328  0.143540 -0.034083  \n",
       "\n",
       "[5 rows x 40 columns]"
      ]
     },
     "execution_count": 12,
     "metadata": {},
     "output_type": "execute_result"
    }
   ],
   "source": [
    "#Now for the test set\n",
    "pca_test_df = pd.DataFrame(data = test_components)\n",
    "pca_test_df.head()"
   ]
  },
  {
   "cell_type": "code",
   "execution_count": 13,
   "metadata": {},
   "outputs": [],
   "source": [
    "# Before using these features to train our model, we should turn our categorical 'activity' variable to numerical\n",
    "\n",
    "# function to convert activity to numeric\n",
    "def convert_activity(activity):\n",
    "    act_dict = {\n",
    "        \"LAYING\": 1,\n",
    "        \"STANDING\": 2,\n",
    "        \"SITTING\": 3,\n",
    "        \"WALKING\": 4,\n",
    "        \"WALKING_UPSTAIRS\": 5,\n",
    "        \"WALKING_DOWNSTAIRS\": 6\n",
    "    }\n",
    "    return act_dict.get(activity)\n",
    "\n",
    "df_training_og = df_training_og.assign(\n",
    "    Activity = df_training_og.get(\"Activity\").apply(convert_activity)\n",
    ")"
   ]
  },
  {
   "cell_type": "code",
   "execution_count": 14,
   "metadata": {},
   "outputs": [],
   "source": [
    "#Now let's do the same for testing\n",
    "df_testing_og = df_testing_og.assign(\n",
    "    Activity = df_testing_og.get(\"Activity\").apply(convert_activity)\n",
    ")"
   ]
  },
  {
   "cell_type": "code",
   "execution_count": 15,
   "metadata": {},
   "outputs": [],
   "source": [
    "# add the activity labels to the pca dataframes\n",
    "\n",
    "pca_train_df = pca_train_df.assign(\n",
    "    Activity = df_training_og.get(\"Activity\")\n",
    ")\n",
    "pca_test_df = pca_test_df.assign(\n",
    "    Activity = df_testing_og.get(\"Activity\")\n",
    ")"
   ]
  },
  {
   "cell_type": "code",
   "execution_count": 16,
   "metadata": {},
   "outputs": [],
   "source": [
    "pca_train_df.to_csv(r'archive/train_pca.csv', index = False)\n",
    "pca_test_df.to_csv(r'archive/test_pca.csv', index = False)"
   ]
  },
  {
   "cell_type": "code",
   "execution_count": null,
   "metadata": {},
   "outputs": [],
   "source": []
  }
 ],
 "metadata": {
  "kernelspec": {
   "display_name": "Python 3",
   "language": "python",
   "name": "python3"
  },
  "language_info": {
   "codemirror_mode": {
    "name": "ipython",
    "version": 3
   },
   "file_extension": ".py",
   "mimetype": "text/x-python",
   "name": "python",
   "nbconvert_exporter": "python",
   "pygments_lexer": "ipython3",
   "version": "3.7.3"
  }
 },
 "nbformat": 4,
 "nbformat_minor": 4
}
